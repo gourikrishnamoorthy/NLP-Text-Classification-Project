{
 "cells": [
  {
   "cell_type": "code",
   "execution_count": 117,
   "metadata": {},
   "outputs": [],
   "source": [
    "from nltk.classify import NaiveBayesClassifier\n",
    "from nltk.corpus import subjectivity\n",
    "from nltk.sentiment import SentimentAnalyzer\n",
    "from nltk.sentiment.util import *\n",
    "from nltk.sentiment.vader import SentimentIntensityAnalyzer\n",
    "from nltk import tokenize\n",
    "\n",
    "import pandas as pd\n",
    "from nltk import WordNetLemmatizer\n",
    "from nltk.stem import PorterStemmer"
   ]
  },
  {
   "cell_type": "code",
   "execution_count": 135,
   "metadata": {},
   "outputs": [],
   "source": [
    "def read_dataset(subreddit, end_point, run):\n",
    "    return pd.read_csv(\"./datasets/\"+subreddit+\"_\"+ end_point + \"_\"+ run+ \".csv\")\n",
    "\n",
    "def clean_words(s):\n",
    "    #remove english\n",
    "    # Import stopwords.\n",
    "    if type(s) is not str:\n",
    "        return str(\" \")\n",
    "    \n",
    "    s = s.lower()\n",
    "    # Use regular expressions to do a find-and-replace\n",
    "    words = re.sub(\"[^a-zA-Z]\",           # The pattern to search for\n",
    "                          \" \",            # The pattern to replace it with\n",
    "                      s)   # The text to search\n",
    "    list_words = words.split(\" \")\n",
    "    remove_more_words = [\"https\", \"edu\", \"com\", \"http\", \"org\", 'www', 'amp']\n",
    "    return \" \".join([w for w in list_words if w not in remove_more_words])\n",
    "\n",
    "def lemmatize(s):\n",
    "    list_words = s.split(\",\")\n",
    "    lemmatizer = WordNetLemmatizer()\n",
    "    return ','.join([lemmatizer.lemmatize(word) for word in list_words])\n",
    "\n",
    "def stemmer(s):\n",
    "    list_words = s.split(\",\")\n",
    "    stemmer = PorterStemmer()\n",
    "    return ','.join([stemmer.stem(word) for word in list_words])\n",
    "\n",
    "def negative_tone_percentage(sercol):\n",
    "    sid = SentimentIntensityAnalyzer()\n",
    "    total_neg = 0\n",
    "    total_neu = 0\n",
    "    total_pos = 0\n",
    "    total_compound = 0 \n",
    "    total_count = 0\n",
    "    total_negative_sentiments = 0\n",
    "    for sentence in sercol:\n",
    "    #     print(sentence)\n",
    "        if type(sentence) is str:\n",
    "            ss = sid.polarity_scores(sentence)\n",
    "    #         print(ss)\n",
    "            total_neg += ss[\"neg\"]\n",
    "            total_neu += ss[\"neu\"]\n",
    "            total_pos += ss[\"pos\"]\n",
    "            total_compound += ss[\"compound\"]\n",
    "            total_count += 1\n",
    "            if ss[\"compound\"] < 0:\n",
    "                total_negative_sentiments += 1\n",
    "\n",
    "    return (total_negative_sentiments/total_count)* 100"
   ]
  },
  {
   "cell_type": "code",
   "execution_count": 155,
   "metadata": {},
   "outputs": [],
   "source": [
    "evo_sub_df = read_dataset(\"evolution\", \"submission\", \"3\")\n",
    "crea_sub_df = read_dataset(\"creation\", \"submission\", \"3\")\n",
    "debate_sub_df = read_dataset(\"DebateEvolution\", \"submission\", \"3\")"
   ]
  },
  {
   "cell_type": "code",
   "execution_count": 156,
   "metadata": {},
   "outputs": [],
   "source": [
    "evo_sub_df[\"full_row\"] = evo_sub_df[\"title\"] + evo_sub_df[\"selftext\"]\n",
    "crea_sub_df[\"full_row\"] = crea_sub_df[\"title\"] + crea_sub_df[\"selftext\"]\n",
    "debate_sub_df[\"full_row\"] = debate_sub_df[\"title\"] + debate_sub_df[\"selftext\"]"
   ]
  },
  {
   "cell_type": "code",
   "execution_count": 157,
   "metadata": {},
   "outputs": [],
   "source": [
    "evo_sub_df[\"full_row\"] = evo_sub_df[\"full_row\"].map(clean_words)\n",
    "crea_sub_df[\"full_row\"] = crea_sub_df[\"full_row\"].map(clean_words)\n",
    "debate_sub_df[\"full_row\"] = debate_sub_df[\"full_row\"].map(clean_words)\n",
    "\n",
    "evo_sub_df[\"full_row_lemma\"] = evo_sub_df[\"full_row\"].map(lemmatize)\n",
    "crea_sub_df[\"full_row_lemma\"] = crea_sub_df[\"full_row\"].map(lemmatize)\n",
    "debate_sub_df[\"full_row_lemma\"] = debate_sub_df[\"full_row\"].map(lemmatize)\n",
    "\n",
    "evo_sub_df[\"full_row_stemmer\"] = evo_sub_df[\"full_row\"].map(stemmer)\n",
    "crea_sub_df[\"full_row_stemmer\"] = crea_sub_df[\"full_row\"].map(stemmer)\n",
    "debate_sub_df[\"full_row_stemmer\"] = debate_sub_df[\"full_row\"].map(stemmer)"
   ]
  },
  {
   "cell_type": "code",
   "execution_count": 158,
   "metadata": {},
   "outputs": [
    {
     "data": {
      "text/plain": [
       "11.600000000000001"
      ]
     },
     "execution_count": 158,
     "metadata": {},
     "output_type": "execute_result"
    }
   ],
   "source": [
    "negative_tone_percentage(evo_sub_df[\"full_row\"])"
   ]
  },
  {
   "cell_type": "code",
   "execution_count": 159,
   "metadata": {},
   "outputs": [
    {
     "data": {
      "text/plain": [
       "10.672853828306264"
      ]
     },
     "execution_count": 159,
     "metadata": {},
     "output_type": "execute_result"
    }
   ],
   "source": [
    "negative_tone_percentage(crea_sub_df[\"full_row\"])"
   ]
  },
  {
   "cell_type": "code",
   "execution_count": 165,
   "metadata": {},
   "outputs": [
    {
     "data": {
      "text/plain": [
       "10.672853828306264"
      ]
     },
     "execution_count": 165,
     "metadata": {},
     "output_type": "execute_result"
    }
   ],
   "source": [
    "negative_tone_percentage(crea_sub_df[\"full_row\"])"
   ]
  },
  {
   "cell_type": "code",
   "execution_count": 164,
   "metadata": {},
   "outputs": [
    {
     "data": {
      "text/plain": [
       "22.6"
      ]
     },
     "execution_count": 164,
     "metadata": {},
     "output_type": "execute_result"
    }
   ],
   "source": [
    "negative_tone_percentage(debate_sub_df[\"full_row\"])"
   ]
  },
  {
   "cell_type": "code",
   "execution_count": 161,
   "metadata": {},
   "outputs": [
    {
     "data": {
      "text/plain": [
       "10.672853828306264"
      ]
     },
     "execution_count": 161,
     "metadata": {},
     "output_type": "execute_result"
    }
   ],
   "source": [
    "negative_tone_percentage(crea_sub_df[\"full_row_lemma\"])"
   ]
  },
  {
   "cell_type": "code",
   "execution_count": 166,
   "metadata": {},
   "outputs": [
    {
     "data": {
      "text/plain": [
       "22.6"
      ]
     },
     "execution_count": 166,
     "metadata": {},
     "output_type": "execute_result"
    }
   ],
   "source": [
    "negative_tone_percentage(debate_sub_df[\"full_row_lemma\"])"
   ]
  },
  {
   "cell_type": "code",
   "execution_count": 162,
   "metadata": {},
   "outputs": [
    {
     "data": {
      "text/plain": [
       "11.55"
      ]
     },
     "execution_count": 162,
     "metadata": {},
     "output_type": "execute_result"
    }
   ],
   "source": [
    "negative_tone_percentage(evo_sub_df[\"full_row_stemmer\"])"
   ]
  },
  {
   "cell_type": "code",
   "execution_count": 163,
   "metadata": {},
   "outputs": [
    {
     "data": {
      "text/plain": [
       "10.672853828306264"
      ]
     },
     "execution_count": 163,
     "metadata": {},
     "output_type": "execute_result"
    }
   ],
   "source": [
    "negative_tone_percentage(crea_sub_df[\"full_row_stemmer\"])"
   ]
  },
  {
   "cell_type": "code",
   "execution_count": 168,
   "metadata": {},
   "outputs": [
    {
     "data": {
      "text/plain": [
       "22.650000000000002"
      ]
     },
     "execution_count": 168,
     "metadata": {},
     "output_type": "execute_result"
    }
   ],
   "source": [
    "negative_tone_percentage(debate_sub_df[\"full_row_stemmer\"])"
   ]
  },
  {
   "cell_type": "markdown",
   "metadata": {},
   "source": [
    "# Conclusion : Looks like moderators did a pretty good job. Could not find any big negative scored discussions"
   ]
  },
  {
   "cell_type": "markdown",
   "metadata": {},
   "source": [
    "Next [Page_3](./Page_3.ipynb)"
   ]
  }
 ],
 "metadata": {
  "kernelspec": {
   "display_name": "Python 3",
   "language": "python",
   "name": "python3"
  },
  "language_info": {
   "codemirror_mode": {
    "name": "ipython",
    "version": 3
   },
   "file_extension": ".py",
   "mimetype": "text/x-python",
   "name": "python",
   "nbconvert_exporter": "python",
   "pygments_lexer": "ipython3",
   "version": "3.7.4"
  }
 },
 "nbformat": 4,
 "nbformat_minor": 2
}
