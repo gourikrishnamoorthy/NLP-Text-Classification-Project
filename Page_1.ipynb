{
 "cells": [
  {
   "cell_type": "markdown",
   "metadata": {},
   "source": [
    "# DSI-10 Project 3 "
   ]
  },
  {
   "cell_type": "markdown",
   "metadata": {},
   "source": [
    "1. [Problem Statement](#Problem-Statement)\n",
    "    * [Goal](#Goal)\n",
    "    * [Tasks](#Tasks)\n",
    "      \n",
    "2. [Imports](#IMPORTS)\n",
    "3. [Data Collection](#Data-Collection)\n",
    "4. [Data Cleaning & EDA](#Custom-functions-for-data-cleaning-and-EDA)\n",
    "5. [Parameter Combinations](#PARAMETER-COMBINATIONS)\n",
    "5. [Running all parameter combinations](#Running-tests-for-all-parameter-combinations-to-see-which-one-scored-the-best)\n",
    "6. [Visualizing Models](#VISUALIZING-MODELS)\n",
    "7. [Lemmatizing](#LEMMATIZING)   \n",
    "8. [Stemmer](#STEMMER)\n",
    "9. [Running tests for 1000 posts](#Running-tests-for-all-parameter-combinations-to-see-which-one-scored-the-best-1000)\n",
    "6. [Final model](#FINAL-MODEL-USED-FOR-CLASSIFYING-DEBATE-EVOLUTION)\n",
    "7. [Investigate r/DebateEvolution](#INVESTIGATING-THE-DebateEvolution-subreddit.-Checking-which-side-the-topics-are-leaning-using-my-best-model-so-far)"
   ]
  },
  {
   "cell_type": "markdown",
   "metadata": {},
   "source": [
    "# Problem Statement"
   ]
  },
  {
   "cell_type": "markdown",
   "metadata": {},
   "source": [
    "# To allow users/moderators to classify posts on various channels based on their preferences\n",
    "\n",
    "### E.g. A science moderator may want to keep the conversation focus on the science side where as a Creationist moderator may want to keep the conversation focus on the creationist side"
   ]
  },
  {
   "cell_type": "markdown",
   "metadata": {},
   "source": [
    "### Taks\n",
    "1. Using [Pushshift's](https://github.com/pushshift/api) API, to collect posts from two subreddits.\n",
    "2. Then use Natural Language Processing to train a classifier on which subreddit a given post came from. This is a binary classification problem."
   ]
  },
  {
   "cell_type": "markdown",
   "metadata": {},
   "source": [
    "## Tasks"
   ]
  },
  {
   "cell_type": "markdown",
   "metadata": {},
   "source": [
    "* Download recent `1000` posts from `r/evolution`  and set the `Target value` as `0` \n",
    "* Download recent `1000` posts from `r/Creation`   and set the `Target value` as `1`\n",
    "* Study the posts from both the subreddits. Combine comments to increase the data set.\n",
    "* Combine both the posts as one data set. Then allot `70%` as `train data` set and `30%` as test.\n",
    "* EDA - using different data visualizations\n",
    "* Use NLP to tokenize, process (lemmatize/stemming/stopwords) and extract meaningful words to define a `quanitative language pattern shape` from both the posts. This will enable a model to predict which post came from which reddit.\n",
    "* Train a model to 1st predict 1 and 0 \n",
    "* Use mutiple predictor model combinations to classify the data and choose the best estimator by evaluating each model using classifier metrics like accuracy , sensitivity , specificity , precision, mis calculation and roc acu \n",
    "* Download recent `1000` posts from DebateEvolution\n",
    "* Use the best estimator to identify posts from DebateEvolution as `pro evolution` or `pro Creation & Intelligent Design`. This part is an `unsupervised prediction` to see if the model is able to `detect a language pattern`.\n",
    "* Present findings"
   ]
  },
  {
   "cell_type": "markdown",
   "metadata": {},
   "source": [
    "# IMPORTS"
   ]
  },
  {
   "cell_type": "code",
   "execution_count": 2,
   "metadata": {},
   "outputs": [],
   "source": [
    "import pandas as pd\n",
    "import regex as re\n",
    "import seaborn as sns\n",
    "import matplotlib.pyplot as plt\n",
    "\n",
    "\n",
    "from sklearn.model_selection import train_test_split, cross_val_score, GridSearchCV\n",
    "from sklearn.feature_extraction.text import CountVectorizer, TfidfVectorizer, HashingVectorizer\n",
    "from sklearn.pipeline import Pipeline\n",
    "from sklearn.metrics import confusion_matrix, log_loss\n",
    "from sklearn.metrics import accuracy_score \n",
    "from sklearn.linear_model import LogisticRegressionCV, LogisticRegression\n",
    "from sklearn.ensemble import GradientBoostingClassifier, AdaBoostClassifier, VotingClassifier\n",
    "from sklearn.neighbors import KNeighborsClassifier\n",
    "from sklearn.metrics import roc_auc_score\n",
    "from nltk.corpus import stopwords\n",
    "from sklearn.naive_bayes import MultinomialNB \n",
    "\n",
    "import time\n",
    "\n",
    "from IPython.display import display, HTML\n",
    "from sklearn.naive_bayes import GaussianNB\n",
    "from sklearn.base import TransformerMixin\n",
    "from nltk import WordNetLemmatizer\n",
    "from nltk.stem import PorterStemmer\n",
    "\n",
    "sns.set(style='darkgrid')\n",
    "import warnings\n",
    "warnings.simplefilter(action='ignore', category=FutureWarning)\n",
    "warnings.simplefilter(\"ignore\",category=DeprecationWarning)\n",
    "\n"
   ]
  },
  {
   "cell_type": "code",
   "execution_count": 3,
   "metadata": {},
   "outputs": [],
   "source": [
    "class DenseTransformer(TransformerMixin):\n",
    "\n",
    "    def fit(self, X, y=None, **fit_params):\n",
    "        return self\n",
    "\n",
    "    def transform(self, X, y=None, **fit_params):\n",
    "        return X.todense()"
   ]
  },
  {
   "cell_type": "markdown",
   "metadata": {},
   "source": [
    "# Data Collection\n",
    "     \n",
    " * [/r/evolution](https://www.reddit.com/r/evolution/)\n",
    " * [/r/Creation](https://www.reddit.com/r/Creation/)\n",
    " * [/r/DebateEvolution](https://www.reddit.com/r/DebateEvolution/)"
   ]
  },
  {
   "cell_type": "markdown",
   "metadata": {},
   "source": [
    "##### Downloaded recent 2000 `posts` and  2000 `comments` from 3 subreddits"
   ]
  },
  {
   "cell_type": "markdown",
   "metadata": {},
   "source": [
    "  [Link to python file used for data download](./classification_data/download_subreddits.py)"
   ]
  },
  {
   "cell_type": "markdown",
   "metadata": {},
   "source": [
    "# Custom functions for data cleaning and EDA"
   ]
  },
  {
   "cell_type": "code",
   "execution_count": 4,
   "metadata": {},
   "outputs": [],
   "source": [
    "#clean words and remove stop words from english language\n",
    "def clean_words_remove_stop_words(s):\n",
    "    \n",
    "    if type(s) is not str:\n",
    "        return str(\" \")\n",
    "    \n",
    "    # Use regular expressions to do a find-and-replace\n",
    "    words = re.sub(\"[^a-zA-Z]\",           # The pattern to search for\n",
    "                          \" \",            # The pattern to replace it with\n",
    "                      s)   # The text to search\n",
    "    \n",
    "    list_words = words.split(\" \")\n",
    "    \n",
    "    #\n",
    "    meaningful_words = [w for w in  list_words if w not in stopwords.words('english')]\n",
    "    \n",
    "    #remove additional words\n",
    "    remove_more_words = [\"https\", \"edu\", \"com\", \"http\", \"org\", 'www', 'amp']\n",
    "    \n",
    "    #return a meaning ful string of words\n",
    "    return \",\".join([w for w in meaningful_words if w not in remove_more_words])\n",
    "\n",
    "# Function to read files from dataset folder\n",
    "def read_dataset(subreddit, end_point, run):\n",
    "    return pd.read_csv(\"./datasets/\"+subreddit+\"_\"+ end_point + \"_\"+ run+ \".csv\")"
   ]
  },
  {
   "cell_type": "code",
   "execution_count": 6,
   "metadata": {},
   "outputs": [
    {
     "name": "stdout",
     "output_type": "stream",
     "text": [
      "Done\n"
     ]
    }
   ],
   "source": [
    "# read data, clean data and resave it\n",
    "def read_clean_resave():\n",
    "    for i in range(1,4):\n",
    "        run = str(i)\n",
    "        subreddits = [\"evolution\", \"creation\", \"DebateEvolution\"]\n",
    "        \n",
    "        for sub in subreddits:\n",
    "            sub_df = read_dataset(sub, \"submission\", run)\n",
    "            comm_df = read_dataset(sub, \"comment\", run)\n",
    "                \n",
    "            comm_df[\"id\"] = comm_df[\"link_id\"].str.replace(\"t3_\",\"\")\n",
    "            comm_df[\"body\"] = comm_df[\"body\"].str.lower()\n",
    "            sub_df[\"title\"] = sub_df[\"title\"].str.lower()\n",
    "            sub_df[\"selftext\"] = sub_df[\"selftext\"].str.lower()\n",
    "        \n",
    "\n",
    "            comm_df[\"body\"] = comm_df[\"body\"].map(clean_words_remove_stop_words)\n",
    "            sub_df[\"title\"] = sub_df[\"title\"].map(clean_words_remove_stop_words)\n",
    "            sub_df[\"selftext\"] = sub_df[\"selftext\"].map(clean_words_remove_stop_words)\n",
    "\n",
    "            comment_dict = {x:\"\" for x in comm_df[\"id\"].unique()}\n",
    "            \n",
    "            for i,b in enumerate(comm_df[\"body\"]):\n",
    "                comment_dict[comm_df.loc[i, \"id\"]] += b\n",
    "                \n",
    "            sub_df[\"comment\"] = \" \"\n",
    "            for idx in comment_dict:\n",
    "                sub_df.loc[sub_df[\"id\"] == idx,\"comment\"] = comment_dict[idx]\n",
    "                \n",
    "            #save cleaned data back to the folder\n",
    "            sub_df.to_csv(\"./datasets/\"+ sub+ \"_sub_clean_\"+ run + \".csv\", index=False)\n",
    " \n",
    "    \n",
    "#Uncomment only if the data needs to be recleaned\n",
    "# read_clean_resave()\n",
    "print(\"Done\")"
   ]
  },
  {
   "cell_type": "markdown",
   "metadata": {},
   "source": [
    "##### PARAMETER COMBINATIONS"
   ]
  },
  {
   "cell_type": "code",
   "execution_count": 5,
   "metadata": {},
   "outputs": [],
   "source": [
    "## List of all the parameters that will try on the data\n",
    "all_params = {1:{ \"Pipeline\" : [ ('vectorizer', CountVectorizer()),\n",
    "                    ('classifier', LogisticRegression(random_state=42))],\n",
    "     \"hyper_params\": { 'vectorizer__max_features': [1000, 3000, 5000],\n",
    "                       'vectorizer__ngram_range': [(1,3),(1,4)],\n",
    "                       'vectorizer__stop_words': ['english'],\n",
    "                       'vectorizer__min_df':[1],\n",
    "                       'vectorizer__max_df':[1.0],\n",
    "                       'classifier__penalty': ['l1', 'l2'],\n",
    "                       'classifier__C': [0.01, 0.1, 1, 10],\n",
    "                       'classifier__max_iter':[500,100]\n",
    "                    },\n",
    " },\n",
    " 2:{\"Pipeline\" : [ ('vectorizer', CountVectorizer()),\n",
    "                    ('classifier', MultinomialNB())],\n",
    "    \"hyper_params\": { 'vectorizer__max_features': [1000, 3000, 5000],\n",
    "                      'vectorizer__ngram_range': [(1,3),(1,4)],\n",
    "                      'vectorizer__stop_words': ['english'],\n",
    "                      'vectorizer__min_df':[1],\n",
    "                      'vectorizer__max_df':[1.0] \n",
    "                    },\n",
    " },\n",
    " 3:{\"Pipeline\" : [ ('vectorizer', CountVectorizer()),\n",
    "                    ('classifier', KNeighborsClassifier())],\n",
    "    \"hyper_params\": { 'vectorizer__max_features': [1000, 3000, 5000],\n",
    "                      'vectorizer__ngram_range': [(1,3),(1,4)],\n",
    "                      'vectorizer__stop_words': ['english'],\n",
    "                      'vectorizer__min_df':[1],\n",
    "                      'vectorizer__max_df':[1.0],\n",
    "                      'classifier__n_neighbors':[1, 5, 10, 20],\n",
    "                      'classifier__p':[1,2]\n",
    "                    },\n",
    " },\n",
    " 4:{ \"Pipeline\" : [ ('vectorizer', TfidfVectorizer()),\n",
    "                    ('classifier', LogisticRegression(random_state=42))],\n",
    "     \"hyper_params\": { 'vectorizer__max_features': [1000, 3000, 5000],\n",
    "                       'vectorizer__ngram_range': [(1,3),(1,4)],\n",
    "                       'vectorizer__stop_words': ['english'],\n",
    "                       'vectorizer__min_df':[1],\n",
    "                       'vectorizer__max_df':[1.0],\n",
    "                       'classifier__penalty': ['l1', 'l2'],\n",
    "                       'classifier__C': [0.01, 0.1, 1, 10],\n",
    "                       'classifier__max_iter':[500,100]\n",
    "                    },\n",
    " },\n",
    " 5:{\"Pipeline\" : [ ('vectorizer', TfidfVectorizer()),\n",
    "                   ('to_dense', DenseTransformer()),\n",
    "                   ('classifier', GaussianNB())],\n",
    "    \"hyper_params\": { 'vectorizer__max_features': [1000, 3000, 5000],\n",
    "                      'vectorizer__ngram_range': [(1,3),(1,4)],\n",
    "                      'vectorizer__stop_words': ['english'],\n",
    "                      'vectorizer__min_df':[1],\n",
    "                      'vectorizer__max_df':[1.0] \n",
    "                    },\n",
    " },\n",
    " 6:{\"Pipeline\" : [ ('vectorizer', TfidfVectorizer()),\n",
    "                    ('classifier', KNeighborsClassifier())],\n",
    "    \"hyper_params\": { 'vectorizer__max_features': [1000, 3000, 5000],\n",
    "                      'vectorizer__ngram_range': [(1,3),(1,4)],\n",
    "                      'vectorizer__stop_words': ['english'],\n",
    "                      'vectorizer__min_df':[1],\n",
    "                      'vectorizer__max_df':[1.0],\n",
    "                      'classifier__n_neighbors':[1, 5, 10, 20],\n",
    "                      'classifier__p':[1,2]\n",
    "                    },\n",
    " },\n",
    "}\n",
    "\n",
    "# all_params"
   ]
  },
  {
   "cell_type": "code",
   "execution_count": 6,
   "metadata": {},
   "outputs": [],
   "source": [
    "def get_bold(x):\n",
    "    open_tag_bold = \"\\033[1m\"\n",
    "    close_tag_bold = \"\\033[0m\"\n",
    "    return open_tag_bold + str(x) + close_tag_bold\n",
    "\n",
    "# display scores \n",
    "def display_scores(scores, no_of_posts):\n",
    "    \n",
    "    print(\"\\nMetrics for {} posts\".format(get_bold(no_of_posts)))\n",
    "    df = pd.DataFrame(scores, index=list(range(1,4)))\n",
    "    df = df.sort_values(by=\"Accuracy\", ascending=True)\n",
    "#     display(df)\n",
    "    display(HTML(df.to_html()))\n",
    "#     sns.set(style=\"darkgrid\")\n",
    "    df[\"Feature Set\"] = df.index\n",
    "    nrows = 1 # Makes sure you have enough rows\n",
    "    fig, ax = plt.subplots(nrows=nrows, ncols=8, figsize=(18,3)) # You'll want to specify your figsize\n",
    "    ax = ax.ravel() # Ravel turns a matrix into a vector, which is easier to iterate\n",
    "    col_list = [\"Accuracy\", \"Mis Calculations\",\"ROC AUC\",\"Sensitivity\",\"Specificity\",\"Precision\", \"Test Scores\",\"Train Scores\"]\n",
    "    col_colr = [\"blue\", \"slategray\", \"green\", \"sienna\", \"teal\", \"firebrick\", \"lightseagreen\", \"mediumorchid\"]\n",
    "    for i, column in enumerate(col_list): # Gives us an index value to get into all our lists\n",
    "        sns.scatterplot(df[column], df[\"Feature Set\"],marker=\"o\", size=df[column], legend=False, facecolor=col_colr[i], edgecolor=col_colr[i], ax=ax[i])\n",
    "        ax[i].set_ylabel(\"\");\n",
    "\n",
    "#highlight minimum value form the data frame\n",
    "def highlight_min(s):    \n",
    "    is_min = s == s.min()\n",
    "    return ['background-color: lightgreen' if v else '' for v in is_min]\n",
    "\n",
    "#highlight max value from the data frame\n",
    "def highlight_max(s):    \n",
    "    is_max = s == s.max()\n",
    "    return ['background-color: lightgreen' if v else '' for v in is_max]\n",
    "\n",
    "\n",
    "#combine full row into a single row\n",
    "def get_full_row(data, features):\n",
    "    data[\"full_row\"] = \"\"\n",
    "    for col in features:\n",
    "        data[\"full_row\"] = data[\"full_row\"] + \",\" + data[col].astype(str)\n",
    "        \n",
    "\n",
    "#return best estimator results\n",
    "def get_score_data(results, X_train, X_test, y_train,y_test):\n",
    "    output = []\n",
    "    sub_scores = {}\n",
    "    \n",
    "    model = results.best_estimator_\n",
    "    \n",
    "    #confusion matrix\n",
    "    tn, fp, fn, tp = confusion_matrix(y_test, model.predict(X_test)).ravel()\n",
    "    \n",
    "    ##calulating accuracy\n",
    "#     accuracy = (tp + tn) / (tp + fp + tn + fn)\n",
    "    accuracy = round(accuracy_score(y_test, model.predict(X_test)),2)\n",
    "    \n",
    "    #calculating Misclassification Rate\n",
    "    mis_calcuations = 1 - accuracy\n",
    "    \n",
    "    #calculating sensitivity\n",
    "    sensitivity = tp / (tp + fn)\n",
    "\n",
    "    #calculating specificity\n",
    "    specificity = tn / (tn + fp)\n",
    "\n",
    "    #calculating precision\n",
    "    precision = tp / (tp + fp)\n",
    "    \n",
    "    #to predict roc_auc_score\n",
    "    pred_proba = [i[1] for i in model.predict_proba(X_test)]\n",
    "\n",
    "    pred_df = pd.DataFrame({'true_values': y_test,\n",
    "                        'pred_probs':pred_proba})\n",
    "    \n",
    "    #For returning results from the best estimator\n",
    "    #1. best score\n",
    "    output.append(round(results.best_score_,2))\n",
    "    \n",
    "    #2.best params\n",
    "    output.append(results.best_params_)\n",
    "    \n",
    "    #No of 0's and 1's in test\n",
    "    sub_scores.update({\"No of evolution posts\": y_test[y_test == 0].count()})\n",
    "    sub_scores.update({\"No of Creation posts\": y_test[y_test == 1].count()})\n",
    "    \n",
    "    #No of 0's and 1's predicted\n",
    "    df = pd.DataFrame({\"Preds\": model.predict(X_test)})\n",
    "    sub_scores.update({\"No of predicted evolution posts\": df.groupby(\"Preds\")[\"Preds\"].value_counts()[0].values[0]})\n",
    "    sub_scores.update({\"No of predicted creations posts\": df.groupby(\"Preds\")[\"Preds\"].value_counts()[1].values[0]})\n",
    "    \n",
    "    #baseline\n",
    "    sub_scores.update({\"Baseline accuracy%\": round(y_test.value_counts(normalize=True)[0],2)})\n",
    "    \n",
    "    #3.Train Score\n",
    "    sub_scores.update({\"Train Scores\": round(model.score(X_train,y_train),2)})\n",
    "    \n",
    "    #4.Test Score\n",
    "    sub_scores.update({\"Test Scores\": round(model.score(X_test,y_test),2)})\n",
    "    \n",
    "    #5.Accuracy\n",
    "    sub_scores.update({\"Accuracy\": accuracy})\n",
    "    \n",
    "    #6.Mis Calculations\n",
    "    sub_scores.update({\"Mis Calculations\": round(mis_calcuations,2)})\n",
    "\n",
    "    #7.Sensitivity\n",
    "    sub_scores.update({\"Sensitivity\": round(sensitivity,2)})\n",
    "    \n",
    "    #8.Specificity\n",
    "    sub_scores.update({\"Specificity\": round(specificity,2)})\n",
    "\n",
    "    #9.Precision\n",
    "    sub_scores.update({\"Precision\": round(precision,2)})\n",
    "\n",
    "    #9.ROC AUC\n",
    "    sub_scores.update({\"ROC AUC\": round(round(roc_auc_score(pred_df['true_values'], pred_df['pred_probs']),2))})\n",
    "    \n",
    "    10.\n",
    "    if model.score(X_train,y_train) > model.score(X_test,y_test):\n",
    "        sub_scores.update({\"Fit Type\":\"Overfit\"})\n",
    "    else:\n",
    "        sub_scores.update({\"Fit Type\":\"Underfit\"})\n",
    "        \n",
    "    output.append(sub_scores)\n",
    "    \n",
    "    return output\n",
    "    \n",
    "    \n",
    "    \n",
    "\n",
    "#simple model,fit,evaluate, and return a list of best estimators and \n",
    "def model_fit_score(X, y, best_scores, feature_set_no):\n",
    "     \n",
    "        #Step 1 : split the data into test/train\n",
    "        X_train, X_test, y_train, y_test = train_test_split(X,y, shuffle=True, test_size=0.33, stratify=y, random_state = 42)\n",
    "\n",
    "        for param in all_params:\n",
    "\n",
    "            pipe = Pipeline(all_params[param][\"Pipeline\"])\n",
    "            hyper_params = all_params[param][\"hyper_params\"]\n",
    "             \n",
    "            # Perform Grid Search\n",
    "            gridcv = GridSearchCV(pipe, \n",
    "                                  param_grid=hyper_params,\n",
    "                                  cv = 5,\n",
    "                                  scoring = \"accuracy\")\n",
    "            #results\n",
    "            results = gridcv.fit(X_train, y_train)\n",
    "            best_scores[param] = get_score_data(results, X_train, X_test, y_train,y_test)\n",
    "            #wait for 5 seconds until moving on\n",
    "            time.sleep(5)\n",
    "            print(\"Round {} complete for feature set {}\".format(param, feature_set_no))\n",
    "        \n",
    "        return best_scores\n",
    "            \n",
    "    \n",
    "#combine two subreddits\n",
    "def combine(subreddit1, subreddit2):\n",
    "    all_data_df = pd.concat((subreddit1, subreddit2), axis=0)\n",
    "    sub1 = subreddit1[\"subreddit\"].unique()[0]\n",
    "    sub2 = subreddit2[\"subreddit\"].unique()[0]\n",
    "    \n",
    "    all_data_df[\"y\"] = all_data_df[\"subreddit\"].map({sub1: 0, sub2: 1})\n",
    "    \n",
    "    return all_data_df\n",
    "\n",
    "         \n",
    "def lemmatize(s):\n",
    "    list_words = s.split(\",\")\n",
    "    lemmatizer = WordNetLemmatizer()\n",
    "    return ','.join([lemmatizer.lemmatize(word) for word in list_words])\n",
    "\n",
    "def stemmer(s):\n",
    "    list_words = s.split(\",\")\n",
    "    stemmer = PorterStemmer()\n",
    "    return ','.join([stemmer.stem(word) for word in list_words])\n",
    "\n",
    "feature_sets={\"1\": [\"title\"],\n",
    "              \"2\": [\"title\", \"selftext\"],\n",
    "              \"3\": [\"title\", \"selftext\", \"comment\"],\n",
    "             }\n",
    "\n",
    "\n",
    "#EDA for each run\n",
    "def get_best_scores_params(run):\n",
    "    evolution_sub_clean_df = pd.read_csv(\"./datasets/evolution_sub_clean_\" + run+ \".csv\")\n",
    "    creation_sub_clean_df = pd.read_csv(\"./datasets/creation_sub_clean_\" + run + \".csv\")\n",
    "    all_data_df = combine(evolution_sub_clean_df, creation_sub_clean_df)    \n",
    "\n",
    "    \n",
    "    best_scores = {x:{y:[] for y in all_params} for x in feature_sets}\n",
    "\n",
    "    for features in feature_sets:\n",
    "        get_full_row(all_data_df, feature_sets[features])\n",
    "        model_fit_score(all_data_df[\"full_row\"], all_data_df[\"y\"], best_scores[features], features)\n",
    "\n",
    "            \n",
    "    return best_scores"
   ]
  },
  {
   "cell_type": "markdown",
   "metadata": {},
   "source": [
    "# Running tests for all parameter combinations to see which one scored the best "
   ]
  },
  {
   "cell_type": "code",
   "execution_count": 20,
   "metadata": {},
   "outputs": [
    {
     "name": "stdout",
     "output_type": "stream",
     "text": [
      "Round 1 complete for feature set 1\n",
      "Round 2 complete for feature set 1\n",
      "Round 3 complete for feature set 1\n"
     ]
    },
    {
     "name": "stderr",
     "output_type": "stream",
     "text": [
      "/opt/anaconda3/lib/python3.7/site-packages/sklearn/svm/base.py:929: ConvergenceWarning: Liblinear failed to converge, increase the number of iterations.\n",
      "  \"the number of iterations.\", ConvergenceWarning)\n",
      "/opt/anaconda3/lib/python3.7/site-packages/sklearn/svm/base.py:929: ConvergenceWarning: Liblinear failed to converge, increase the number of iterations.\n",
      "  \"the number of iterations.\", ConvergenceWarning)\n",
      "/opt/anaconda3/lib/python3.7/site-packages/sklearn/svm/base.py:929: ConvergenceWarning: Liblinear failed to converge, increase the number of iterations.\n",
      "  \"the number of iterations.\", ConvergenceWarning)\n",
      "/opt/anaconda3/lib/python3.7/site-packages/sklearn/svm/base.py:929: ConvergenceWarning: Liblinear failed to converge, increase the number of iterations.\n",
      "  \"the number of iterations.\", ConvergenceWarning)\n",
      "/opt/anaconda3/lib/python3.7/site-packages/sklearn/svm/base.py:929: ConvergenceWarning: Liblinear failed to converge, increase the number of iterations.\n",
      "  \"the number of iterations.\", ConvergenceWarning)\n",
      "/opt/anaconda3/lib/python3.7/site-packages/sklearn/svm/base.py:929: ConvergenceWarning: Liblinear failed to converge, increase the number of iterations.\n",
      "  \"the number of iterations.\", ConvergenceWarning)\n",
      "/opt/anaconda3/lib/python3.7/site-packages/sklearn/svm/base.py:929: ConvergenceWarning: Liblinear failed to converge, increase the number of iterations.\n",
      "  \"the number of iterations.\", ConvergenceWarning)\n",
      "/opt/anaconda3/lib/python3.7/site-packages/sklearn/svm/base.py:929: ConvergenceWarning: Liblinear failed to converge, increase the number of iterations.\n",
      "  \"the number of iterations.\", ConvergenceWarning)\n",
      "/opt/anaconda3/lib/python3.7/site-packages/sklearn/svm/base.py:929: ConvergenceWarning: Liblinear failed to converge, increase the number of iterations.\n",
      "  \"the number of iterations.\", ConvergenceWarning)\n",
      "/opt/anaconda3/lib/python3.7/site-packages/sklearn/svm/base.py:929: ConvergenceWarning: Liblinear failed to converge, increase the number of iterations.\n",
      "  \"the number of iterations.\", ConvergenceWarning)\n",
      "/opt/anaconda3/lib/python3.7/site-packages/sklearn/svm/base.py:929: ConvergenceWarning: Liblinear failed to converge, increase the number of iterations.\n",
      "  \"the number of iterations.\", ConvergenceWarning)\n",
      "/opt/anaconda3/lib/python3.7/site-packages/sklearn/svm/base.py:929: ConvergenceWarning: Liblinear failed to converge, increase the number of iterations.\n",
      "  \"the number of iterations.\", ConvergenceWarning)\n",
      "/opt/anaconda3/lib/python3.7/site-packages/sklearn/svm/base.py:929: ConvergenceWarning: Liblinear failed to converge, increase the number of iterations.\n",
      "  \"the number of iterations.\", ConvergenceWarning)\n",
      "/opt/anaconda3/lib/python3.7/site-packages/sklearn/svm/base.py:929: ConvergenceWarning: Liblinear failed to converge, increase the number of iterations.\n",
      "  \"the number of iterations.\", ConvergenceWarning)\n",
      "/opt/anaconda3/lib/python3.7/site-packages/sklearn/svm/base.py:929: ConvergenceWarning: Liblinear failed to converge, increase the number of iterations.\n",
      "  \"the number of iterations.\", ConvergenceWarning)\n",
      "/opt/anaconda3/lib/python3.7/site-packages/sklearn/svm/base.py:929: ConvergenceWarning: Liblinear failed to converge, increase the number of iterations.\n",
      "  \"the number of iterations.\", ConvergenceWarning)\n",
      "/opt/anaconda3/lib/python3.7/site-packages/sklearn/svm/base.py:929: ConvergenceWarning: Liblinear failed to converge, increase the number of iterations.\n",
      "  \"the number of iterations.\", ConvergenceWarning)\n",
      "/opt/anaconda3/lib/python3.7/site-packages/sklearn/svm/base.py:929: ConvergenceWarning: Liblinear failed to converge, increase the number of iterations.\n",
      "  \"the number of iterations.\", ConvergenceWarning)\n"
     ]
    },
    {
     "name": "stdout",
     "output_type": "stream",
     "text": [
      "Round 4 complete for feature set 1\n",
      "Round 5 complete for feature set 1\n",
      "Round 6 complete for feature set 1\n",
      "Round 1 complete for feature set 2\n",
      "Round 2 complete for feature set 2\n",
      "Round 3 complete for feature set 2\n",
      "Round 4 complete for feature set 2\n",
      "Round 5 complete for feature set 2\n",
      "Round 6 complete for feature set 2\n",
      "Round 1 complete for feature set 3\n",
      "Round 2 complete for feature set 3\n",
      "Round 3 complete for feature set 3\n",
      "Round 4 complete for feature set 3\n",
      "Round 5 complete for feature set 3\n",
      "Round 6 complete for feature set 3\n"
     ]
    }
   ],
   "source": [
    "##Running all parameters for 100 Posts from evolution and 100 Posts from creating , including 100 comments each as well\n",
    "best_scores = get_best_scores_params(\"1\")"
   ]
  },
  {
   "cell_type": "code",
   "execution_count": 21,
   "metadata": {},
   "outputs": [],
   "source": [
    "metrics_dict = {x:{y:None for y in all_params} for x in feature_sets}\n",
    "miss_calc_dict = {x:{y:None for y in all_params} for x in feature_sets}"
   ]
  },
  {
   "cell_type": "code",
   "execution_count": 22,
   "metadata": {},
   "outputs": [],
   "source": [
    "for features in feature_sets:\n",
    "    for params in all_params:\n",
    "        metrics_dict[features][params] = best_scores[features][params][0]\n",
    "for features in feature_sets:\n",
    "    for params in all_params:\n",
    "        miss_calc_dict[features][params] = best_scores[features][params][2]['Mis Calculations']"
   ]
  },
  {
   "cell_type": "markdown",
   "metadata": {},
   "source": [
    "### FEATURE SETS"
   ]
  },
  {
   "cell_type": "code",
   "execution_count": 24,
   "metadata": {},
   "outputs": [
    {
     "name": "stdout",
     "output_type": "stream",
     "text": [
      "Feature Sets: Feature combination used to train each model (in all 7 models) and evaluate them\n",
      "\n",
      "\n",
      "1. title\n",
      "2. selftext, title\n",
      "3. comment, selftext, title\n"
     ]
    }
   ],
   "source": [
    "print(\"Feature Sets: Feature combination used to train each model (in all 7 models) and evaluate them\")\n",
    "print(\"\\n\")\n",
    "for x in range(1,4):\n",
    "    lst = feature_sets[str(x)]\n",
    "    lst.sort()\n",
    "    print(\"{}. {}\".format(x, \", \".join(lst)))"
   ]
  },
  {
   "cell_type": "markdown",
   "metadata": {},
   "source": [
    "### In the below matrix:\n",
    "\n",
    "   [Columns](#FEATURE-SETS)  Represent the `feature sets`\n",
    "   \n",
    "   [Rows](#PARAMETER-COMBINATIONS)  Represent the `parameter combinations`"
   ]
  },
  {
   "cell_type": "code",
   "execution_count": 25,
   "metadata": {},
   "outputs": [
    {
     "data": {
      "text/html": [
       "<style  type=\"text/css\" >\n",
       "    #T_221d27fa_4252_11ea_a7aa_80e650232554row1_col0 {\n",
       "            background-color:  lightgreen;\n",
       "        }    #T_221d27fa_4252_11ea_a7aa_80e650232554row3_col1 {\n",
       "            background-color:  lightgreen;\n",
       "        }    #T_221d27fa_4252_11ea_a7aa_80e650232554row3_col2 {\n",
       "            background-color:  lightgreen;\n",
       "        }</style><table id=\"T_221d27fa_4252_11ea_a7aa_80e650232554\" ><thead>    <tr>        <th class=\"blank level0\" ></th>        <th class=\"col_heading level0 col0\" >1</th>        <th class=\"col_heading level0 col1\" >2</th>        <th class=\"col_heading level0 col2\" >3</th>    </tr></thead><tbody>\n",
       "                <tr>\n",
       "                        <th id=\"T_221d27fa_4252_11ea_a7aa_80e650232554level0_row0\" class=\"row_heading level0 row0\" >1</th>\n",
       "                        <td id=\"T_221d27fa_4252_11ea_a7aa_80e650232554row0_col0\" class=\"data row0 col0\" >0.7</td>\n",
       "                        <td id=\"T_221d27fa_4252_11ea_a7aa_80e650232554row0_col1\" class=\"data row0 col1\" >0.77</td>\n",
       "                        <td id=\"T_221d27fa_4252_11ea_a7aa_80e650232554row0_col2\" class=\"data row0 col2\" >0.77</td>\n",
       "            </tr>\n",
       "            <tr>\n",
       "                        <th id=\"T_221d27fa_4252_11ea_a7aa_80e650232554level0_row1\" class=\"row_heading level0 row1\" >2</th>\n",
       "                        <td id=\"T_221d27fa_4252_11ea_a7aa_80e650232554row1_col0\" class=\"data row1 col0\" >0.72</td>\n",
       "                        <td id=\"T_221d27fa_4252_11ea_a7aa_80e650232554row1_col1\" class=\"data row1 col1\" >0.75</td>\n",
       "                        <td id=\"T_221d27fa_4252_11ea_a7aa_80e650232554row1_col2\" class=\"data row1 col2\" >0.76</td>\n",
       "            </tr>\n",
       "            <tr>\n",
       "                        <th id=\"T_221d27fa_4252_11ea_a7aa_80e650232554level0_row2\" class=\"row_heading level0 row2\" >3</th>\n",
       "                        <td id=\"T_221d27fa_4252_11ea_a7aa_80e650232554row2_col0\" class=\"data row2 col0\" >0.6</td>\n",
       "                        <td id=\"T_221d27fa_4252_11ea_a7aa_80e650232554row2_col1\" class=\"data row2 col1\" >0.63</td>\n",
       "                        <td id=\"T_221d27fa_4252_11ea_a7aa_80e650232554row2_col2\" class=\"data row2 col2\" >0.66</td>\n",
       "            </tr>\n",
       "            <tr>\n",
       "                        <th id=\"T_221d27fa_4252_11ea_a7aa_80e650232554level0_row3\" class=\"row_heading level0 row3\" >4</th>\n",
       "                        <td id=\"T_221d27fa_4252_11ea_a7aa_80e650232554row3_col0\" class=\"data row3 col0\" >0.71</td>\n",
       "                        <td id=\"T_221d27fa_4252_11ea_a7aa_80e650232554row3_col1\" class=\"data row3 col1\" >0.78</td>\n",
       "                        <td id=\"T_221d27fa_4252_11ea_a7aa_80e650232554row3_col2\" class=\"data row3 col2\" >0.81</td>\n",
       "            </tr>\n",
       "            <tr>\n",
       "                        <th id=\"T_221d27fa_4252_11ea_a7aa_80e650232554level0_row4\" class=\"row_heading level0 row4\" >5</th>\n",
       "                        <td id=\"T_221d27fa_4252_11ea_a7aa_80e650232554row4_col0\" class=\"data row4 col0\" >0.69</td>\n",
       "                        <td id=\"T_221d27fa_4252_11ea_a7aa_80e650232554row4_col1\" class=\"data row4 col1\" >0.64</td>\n",
       "                        <td id=\"T_221d27fa_4252_11ea_a7aa_80e650232554row4_col2\" class=\"data row4 col2\" >0.68</td>\n",
       "            </tr>\n",
       "            <tr>\n",
       "                        <th id=\"T_221d27fa_4252_11ea_a7aa_80e650232554level0_row5\" class=\"row_heading level0 row5\" >6</th>\n",
       "                        <td id=\"T_221d27fa_4252_11ea_a7aa_80e650232554row5_col0\" class=\"data row5 col0\" >0.69</td>\n",
       "                        <td id=\"T_221d27fa_4252_11ea_a7aa_80e650232554row5_col1\" class=\"data row5 col1\" >0.77</td>\n",
       "                        <td id=\"T_221d27fa_4252_11ea_a7aa_80e650232554row5_col2\" class=\"data row5 col2\" >0.8</td>\n",
       "            </tr>\n",
       "    </tbody></table>"
      ],
      "text/plain": [
       "<pandas.io.formats.style.Styler at 0x1a23c4d790>"
      ]
     },
     "execution_count": 25,
     "metadata": {},
     "output_type": "execute_result"
    }
   ],
   "source": [
    "pd.DataFrame(metrics_dict).style.apply(highlight_max)"
   ]
  },
  {
   "cell_type": "code",
   "execution_count": 26,
   "metadata": {},
   "outputs": [
    {
     "data": {
      "text/plain": [
       "[0.81,\n",
       " {'classifier__C': 0.01,\n",
       "  'classifier__max_iter': 500,\n",
       "  'classifier__penalty': 'l2',\n",
       "  'vectorizer__max_df': 1.0,\n",
       "  'vectorizer__max_features': 3000,\n",
       "  'vectorizer__min_df': 1,\n",
       "  'vectorizer__ngram_range': (1, 4),\n",
       "  'vectorizer__stop_words': 'english'},\n",
       " {'No of evolution posts': 33,\n",
       "  'No of Creation posts': 33,\n",
       "  'No of predicted evolution posts': 38,\n",
       "  'No of predicted creations posts': 28,\n",
       "  'Baseline accuracy%': 0.5,\n",
       "  'Train Scores': 0.97,\n",
       "  'Test Scores': 0.83,\n",
       "  'Accuracy': 0.83,\n",
       "  'Mis Calculations': 0.17,\n",
       "  'Sensitivity': 0.76,\n",
       "  'Specificity': 0.91,\n",
       "  'Precision': 0.89,\n",
       "  'ROC AUC': 1.0,\n",
       "  'Fit Type': 'Overfit'}]"
      ]
     },
     "execution_count": 26,
     "metadata": {},
     "output_type": "execute_result"
    }
   ],
   "source": [
    "##best score from the above board, looking at the Scores in details\n",
    "best_scores[\"3\"][4]"
   ]
  },
  {
   "cell_type": "code",
   "execution_count": 27,
   "metadata": {},
   "outputs": [
    {
     "data": {
      "text/html": [
       "<style  type=\"text/css\" >\n",
       "    #T_35361176_4252_11ea_a7aa_80e650232554row0_col1 {\n",
       "            background-color:  lightgreen;\n",
       "        }    #T_35361176_4252_11ea_a7aa_80e650232554row1_col0 {\n",
       "            background-color:  lightgreen;\n",
       "        }    #T_35361176_4252_11ea_a7aa_80e650232554row3_col1 {\n",
       "            background-color:  lightgreen;\n",
       "        }    #T_35361176_4252_11ea_a7aa_80e650232554row3_col2 {\n",
       "            background-color:  lightgreen;\n",
       "        }</style><table id=\"T_35361176_4252_11ea_a7aa_80e650232554\" ><thead>    <tr>        <th class=\"blank level0\" ></th>        <th class=\"col_heading level0 col0\" >1</th>        <th class=\"col_heading level0 col1\" >2</th>        <th class=\"col_heading level0 col2\" >3</th>    </tr></thead><tbody>\n",
       "                <tr>\n",
       "                        <th id=\"T_35361176_4252_11ea_a7aa_80e650232554level0_row0\" class=\"row_heading level0 row0\" >1</th>\n",
       "                        <td id=\"T_35361176_4252_11ea_a7aa_80e650232554row0_col0\" class=\"data row0 col0\" >0.3</td>\n",
       "                        <td id=\"T_35361176_4252_11ea_a7aa_80e650232554row0_col1\" class=\"data row0 col1\" >0.21</td>\n",
       "                        <td id=\"T_35361176_4252_11ea_a7aa_80e650232554row0_col2\" class=\"data row0 col2\" >0.18</td>\n",
       "            </tr>\n",
       "            <tr>\n",
       "                        <th id=\"T_35361176_4252_11ea_a7aa_80e650232554level0_row1\" class=\"row_heading level0 row1\" >2</th>\n",
       "                        <td id=\"T_35361176_4252_11ea_a7aa_80e650232554row1_col0\" class=\"data row1 col0\" >0.27</td>\n",
       "                        <td id=\"T_35361176_4252_11ea_a7aa_80e650232554row1_col1\" class=\"data row1 col1\" >0.23</td>\n",
       "                        <td id=\"T_35361176_4252_11ea_a7aa_80e650232554row1_col2\" class=\"data row1 col2\" >0.24</td>\n",
       "            </tr>\n",
       "            <tr>\n",
       "                        <th id=\"T_35361176_4252_11ea_a7aa_80e650232554level0_row2\" class=\"row_heading level0 row2\" >3</th>\n",
       "                        <td id=\"T_35361176_4252_11ea_a7aa_80e650232554row2_col0\" class=\"data row2 col0\" >0.45</td>\n",
       "                        <td id=\"T_35361176_4252_11ea_a7aa_80e650232554row2_col1\" class=\"data row2 col1\" >0.3</td>\n",
       "                        <td id=\"T_35361176_4252_11ea_a7aa_80e650232554row2_col2\" class=\"data row2 col2\" >0.27</td>\n",
       "            </tr>\n",
       "            <tr>\n",
       "                        <th id=\"T_35361176_4252_11ea_a7aa_80e650232554level0_row3\" class=\"row_heading level0 row3\" >4</th>\n",
       "                        <td id=\"T_35361176_4252_11ea_a7aa_80e650232554row3_col0\" class=\"data row3 col0\" >0.29</td>\n",
       "                        <td id=\"T_35361176_4252_11ea_a7aa_80e650232554row3_col1\" class=\"data row3 col1\" >0.21</td>\n",
       "                        <td id=\"T_35361176_4252_11ea_a7aa_80e650232554row3_col2\" class=\"data row3 col2\" >0.17</td>\n",
       "            </tr>\n",
       "            <tr>\n",
       "                        <th id=\"T_35361176_4252_11ea_a7aa_80e650232554level0_row4\" class=\"row_heading level0 row4\" >5</th>\n",
       "                        <td id=\"T_35361176_4252_11ea_a7aa_80e650232554row4_col0\" class=\"data row4 col0\" >0.33</td>\n",
       "                        <td id=\"T_35361176_4252_11ea_a7aa_80e650232554row4_col1\" class=\"data row4 col1\" >0.39</td>\n",
       "                        <td id=\"T_35361176_4252_11ea_a7aa_80e650232554row4_col2\" class=\"data row4 col2\" >0.3</td>\n",
       "            </tr>\n",
       "            <tr>\n",
       "                        <th id=\"T_35361176_4252_11ea_a7aa_80e650232554level0_row5\" class=\"row_heading level0 row5\" >6</th>\n",
       "                        <td id=\"T_35361176_4252_11ea_a7aa_80e650232554row5_col0\" class=\"data row5 col0\" >0.39</td>\n",
       "                        <td id=\"T_35361176_4252_11ea_a7aa_80e650232554row5_col1\" class=\"data row5 col1\" >0.26</td>\n",
       "                        <td id=\"T_35361176_4252_11ea_a7aa_80e650232554row5_col2\" class=\"data row5 col2\" >0.3</td>\n",
       "            </tr>\n",
       "    </tbody></table>"
      ],
      "text/plain": [
       "<pandas.io.formats.style.Styler at 0x1a22b918d0>"
      ]
     },
     "execution_count": 27,
     "metadata": {},
     "output_type": "execute_result"
    }
   ],
   "source": [
    "#Highlighting the minimum miss calculations or the minimum difference between test and train scores\n",
    "pd.DataFrame(miss_calc_dict).style.apply(highlight_min)"
   ]
  },
  {
   "cell_type": "markdown",
   "metadata": {},
   "source": [
    "# VISUALIZING MODELS"
   ]
  },
  {
   "cell_type": "code",
   "execution_count": 32,
   "metadata": {},
   "outputs": [
    {
     "name": "stdout",
     "output_type": "stream",
     "text": [
      "\n",
      "Metrics for \u001b[1m200\u001b[0m posts\n"
     ]
    },
    {
     "data": {
      "text/html": [
       "<table border=\"1\" class=\"dataframe\">\n",
       "  <thead>\n",
       "    <tr style=\"text-align: right;\">\n",
       "      <th></th>\n",
       "      <th>No of evolution posts</th>\n",
       "      <th>No of Creation posts</th>\n",
       "      <th>No of predicted evolution posts</th>\n",
       "      <th>No of predicted creations posts</th>\n",
       "      <th>Baseline accuracy%</th>\n",
       "      <th>Train Scores</th>\n",
       "      <th>Test Scores</th>\n",
       "      <th>Accuracy</th>\n",
       "      <th>Mis Calculations</th>\n",
       "      <th>Sensitivity</th>\n",
       "      <th>Specificity</th>\n",
       "      <th>Precision</th>\n",
       "      <th>ROC AUC</th>\n",
       "      <th>Fit Type</th>\n",
       "    </tr>\n",
       "  </thead>\n",
       "  <tbody>\n",
       "    <tr>\n",
       "      <th>1</th>\n",
       "      <td>33</td>\n",
       "      <td>33</td>\n",
       "      <td>42</td>\n",
       "      <td>24</td>\n",
       "      <td>0.5</td>\n",
       "      <td>0.99</td>\n",
       "      <td>0.71</td>\n",
       "      <td>0.71</td>\n",
       "      <td>0.29</td>\n",
       "      <td>0.58</td>\n",
       "      <td>0.85</td>\n",
       "      <td>0.79</td>\n",
       "      <td>1.0</td>\n",
       "      <td>Overfit</td>\n",
       "    </tr>\n",
       "    <tr>\n",
       "      <th>2</th>\n",
       "      <td>33</td>\n",
       "      <td>33</td>\n",
       "      <td>37</td>\n",
       "      <td>29</td>\n",
       "      <td>0.5</td>\n",
       "      <td>0.99</td>\n",
       "      <td>0.79</td>\n",
       "      <td>0.79</td>\n",
       "      <td>0.21</td>\n",
       "      <td>0.73</td>\n",
       "      <td>0.85</td>\n",
       "      <td>0.83</td>\n",
       "      <td>1.0</td>\n",
       "      <td>Overfit</td>\n",
       "    </tr>\n",
       "    <tr>\n",
       "      <th>3</th>\n",
       "      <td>33</td>\n",
       "      <td>33</td>\n",
       "      <td>38</td>\n",
       "      <td>28</td>\n",
       "      <td>0.5</td>\n",
       "      <td>0.97</td>\n",
       "      <td>0.83</td>\n",
       "      <td>0.83</td>\n",
       "      <td>0.17</td>\n",
       "      <td>0.76</td>\n",
       "      <td>0.91</td>\n",
       "      <td>0.89</td>\n",
       "      <td>1.0</td>\n",
       "      <td>Overfit</td>\n",
       "    </tr>\n",
       "  </tbody>\n",
       "</table>"
      ],
      "text/plain": [
       "<IPython.core.display.HTML object>"
      ]
     },
     "metadata": {},
     "output_type": "display_data"
    },
    {
     "data": {
      "image/png": "[encoded data removed]",
      "text/plain": [
       "<Figure size 1296x216 with 8 Axes>"
      ]
     },
     "metadata": {
      "needs_background": "light"
     },
     "output_type": "display_data"
    }
   ],
   "source": [
    "##Visualizing the scores for the best parameter selected above - ROW 4 parameter\n",
    "scores = {x:[best_scores[y][4][2][x] for y in best_scores] for x in best_scores[\"1\"][4][2]}\n",
    "display_scores(scores, 200)"
   ]
  },
  {
   "cell_type": "code",
   "execution_count": 154,
   "metadata": {},
   "outputs": [],
   "source": [
    "## now get the co-related words using the beast parameter model for run 1\n",
    "run = 1\n",
    "evolution_sub_clean_df = pd.read_csv(\"./datasets/evolution_sub_clean_\" + str(run) + \".csv\")\n",
    "creation_sub_clean_df = pd.read_csv(\"./datasets/creation_sub_clean_\" + str(run) + \".csv\")\n",
    "all_data_df = combine(evolution_sub_clean_df, creation_sub_clean_df) \n",
    "\n",
    "##Only considering text columns -> title + selftext + columns\n",
    "get_full_row(all_data_df, feature_sets[\"3\"]) ##only using feature set 7\n",
    "\n",
    "##splitting the data\n",
    "X = all_data_df[\"full_row\"]\n",
    "y = all_data_df[\"y\"]\n",
    "X_train, X_test, y_train, y_test = train_test_split(X,y, shuffle=True, test_size=0.33, stratify=y, random_state = 42)"
   ]
  },
  {
   "cell_type": "code",
   "execution_count": 155,
   "metadata": {},
   "outputs": [
    {
     "name": "stdout",
     "output_type": "stream",
     "text": [
      "0.8283582089552238\n"
     ]
    }
   ],
   "source": [
    "# 'classifier__C': 0.01,\n",
    "#   'classifier__max_iter': 500,\n",
    "#   'classifier__penalty': 'l2',\n",
    "#   'vectorizer__max_df': 1.0,\n",
    "#   'vectorizer__max_features': 3000,\n",
    "#   'vectorizer__min_df': 1,\n",
    "#   'vectorizer__ngram_range': (1, 4),\n",
    "#   'vectorizer__stop_words': 'english'\n",
    "tvec = TfidfVectorizer(max_features=3000,\n",
    "                       min_df=1,\n",
    "                       max_df=1.0,\n",
    "                       ngram_range=(1,4),\n",
    "                       stop_words=\"english\")\n",
    "\n",
    "train_bag_of_words = tvec.fit_transform(X_train)\n",
    "test_bag_of_words = tvec.transform(X_test)\n",
    "\n",
    "log_reg = LogisticRegressionCV(random_state=42,\n",
    "                               max_iter=500)\n",
    "\n",
    "gs_log_reg = GridSearchCV(log_reg, param_grid={}, cv=5)\n",
    "gs_log_reg.fit(train_bag_of_words, y_train)\n",
    "print(gs_log_reg.best_score_)"
   ]
  },
  {
   "cell_type": "code",
   "execution_count": 156,
   "metadata": {},
   "outputs": [],
   "source": [
    "best_model = gs_log_reg.best_estimator_"
   ]
  },
  {
   "cell_type": "code",
   "execution_count": 157,
   "metadata": {},
   "outputs": [],
   "source": [
    "sum_words = train_bag_of_words.sum(axis=0) \n",
    "words_freq = [(word, sum_words[0, idx]) for word, idx in tvec.vocabulary_.items()]\n",
    "words_df = pd.DataFrame(words_freq, columns=[\"words\", \"frequency\"])\n",
    "words_df[\"coefficient\"] = best_model.coef_[0]"
   ]
  },
  {
   "cell_type": "code",
   "execution_count": 158,
   "metadata": {},
   "outputs": [
    {
     "data": {
      "text/html": [
       "<div>\n",
       "<style scoped>\n",
       "    .dataframe tbody tr th:only-of-type {\n",
       "        vertical-align: middle;\n",
       "    }\n",
       "\n",
       "    .dataframe tbody tr th {\n",
       "        vertical-align: top;\n",
       "    }\n",
       "\n",
       "    .dataframe thead th {\n",
       "        text-align: right;\n",
       "    }\n",
       "</style>\n",
       "<table border=\"1\" class=\"dataframe\">\n",
       "  <thead>\n",
       "    <tr style=\"text-align: right;\">\n",
       "      <th></th>\n",
       "      <th>words</th>\n",
       "      <th>frequency</th>\n",
       "      <th>coefficient</th>\n",
       "    </tr>\n",
       "  </thead>\n",
       "  <tbody>\n",
       "    <tr>\n",
       "      <th>28</th>\n",
       "      <td>evolution</td>\n",
       "      <td>6.296939</td>\n",
       "      <td>0.091675</td>\n",
       "    </tr>\n",
       "    <tr>\n",
       "      <th>182</th>\n",
       "      <td>like</td>\n",
       "      <td>3.185824</td>\n",
       "      <td>0.003665</td>\n",
       "    </tr>\n",
       "    <tr>\n",
       "      <th>199</th>\n",
       "      <td>life</td>\n",
       "      <td>3.162475</td>\n",
       "      <td>0.026764</td>\n",
       "    </tr>\n",
       "    <tr>\n",
       "      <th>32</th>\n",
       "      <td>species</td>\n",
       "      <td>2.959019</td>\n",
       "      <td>0.046250</td>\n",
       "    </tr>\n",
       "    <tr>\n",
       "      <th>5</th>\n",
       "      <td>earth</td>\n",
       "      <td>2.940002</td>\n",
       "      <td>-0.023822</td>\n",
       "    </tr>\n",
       "    <tr>\n",
       "      <th>441</th>\n",
       "      <td>god</td>\n",
       "      <td>2.921540</td>\n",
       "      <td>0.007211</td>\n",
       "    </tr>\n",
       "    <tr>\n",
       "      <th>453</th>\n",
       "      <td>creation</td>\n",
       "      <td>2.726082</td>\n",
       "      <td>0.019269</td>\n",
       "    </tr>\n",
       "    <tr>\n",
       "      <th>262</th>\n",
       "      <td>human</td>\n",
       "      <td>2.671409</td>\n",
       "      <td>-0.029530</td>\n",
       "    </tr>\n",
       "    <tr>\n",
       "      <th>956</th>\n",
       "      <td>debate</td>\n",
       "      <td>2.493957</td>\n",
       "      <td>0.011383</td>\n",
       "    </tr>\n",
       "    <tr>\n",
       "      <th>36</th>\n",
       "      <td>evolutionary</td>\n",
       "      <td>2.404983</td>\n",
       "      <td>-0.000919</td>\n",
       "    </tr>\n",
       "    <tr>\n",
       "      <th>1</th>\n",
       "      <td>science</td>\n",
       "      <td>2.304723</td>\n",
       "      <td>-0.006420</td>\n",
       "    </tr>\n",
       "    <tr>\n",
       "      <th>338</th>\n",
       "      <td>dna</td>\n",
       "      <td>2.269225</td>\n",
       "      <td>0.002443</td>\n",
       "    </tr>\n",
       "    <tr>\n",
       "      <th>91</th>\n",
       "      <td>humans</td>\n",
       "      <td>2.126880</td>\n",
       "      <td>0.024280</td>\n",
       "    </tr>\n",
       "    <tr>\n",
       "      <th>290</th>\n",
       "      <td>theory</td>\n",
       "      <td>2.093232</td>\n",
       "      <td>0.002813</td>\n",
       "    </tr>\n",
       "    <tr>\n",
       "      <th>67</th>\n",
       "      <td>new</td>\n",
       "      <td>2.060030</td>\n",
       "      <td>0.014422</td>\n",
       "    </tr>\n",
       "    <tr>\n",
       "      <th>396</th>\n",
       "      <td>origins</td>\n",
       "      <td>2.018834</td>\n",
       "      <td>0.034483</td>\n",
       "    </tr>\n",
       "    <tr>\n",
       "      <th>267</th>\n",
       "      <td>common</td>\n",
       "      <td>2.003877</td>\n",
       "      <td>-0.019494</td>\n",
       "    </tr>\n",
       "    <tr>\n",
       "      <th>872</th>\n",
       "      <td>video</td>\n",
       "      <td>1.992871</td>\n",
       "      <td>-0.004815</td>\n",
       "    </tr>\n",
       "    <tr>\n",
       "      <th>175</th>\n",
       "      <td>people</td>\n",
       "      <td>1.945706</td>\n",
       "      <td>0.015625</td>\n",
       "    </tr>\n",
       "    <tr>\n",
       "      <th>9</th>\n",
       "      <td>discussion</td>\n",
       "      <td>1.911694</td>\n",
       "      <td>0.075973</td>\n",
       "    </tr>\n",
       "  </tbody>\n",
       "</table>\n",
       "</div>"
      ],
      "text/plain": [
       "            words  frequency  coefficient\n",
       "28      evolution   6.296939     0.091675\n",
       "182          like   3.185824     0.003665\n",
       "199          life   3.162475     0.026764\n",
       "32        species   2.959019     0.046250\n",
       "5           earth   2.940002    -0.023822\n",
       "441           god   2.921540     0.007211\n",
       "453      creation   2.726082     0.019269\n",
       "262         human   2.671409    -0.029530\n",
       "956        debate   2.493957     0.011383\n",
       "36   evolutionary   2.404983    -0.000919\n",
       "1         science   2.304723    -0.006420\n",
       "338           dna   2.269225     0.002443\n",
       "91         humans   2.126880     0.024280\n",
       "290        theory   2.093232     0.002813\n",
       "67            new   2.060030     0.014422\n",
       "396       origins   2.018834     0.034483\n",
       "267        common   2.003877    -0.019494\n",
       "872         video   1.992871    -0.004815\n",
       "175        people   1.945706     0.015625\n",
       "9      discussion   1.911694     0.075973"
      ]
     },
     "execution_count": 158,
     "metadata": {},
     "output_type": "execute_result"
    }
   ],
   "source": [
    "#looking at posts by looking at the max times its apearing on the posts.\n",
    "#list of top recurring words\n",
    "words_df.sort_values(by=\"frequency\", ascending=False)[:20]"
   ]
  },
  {
   "cell_type": "code",
   "execution_count": 159,
   "metadata": {},
   "outputs": [
    {
     "data": {
      "text/html": [
       "<div>\n",
       "<style scoped>\n",
       "    .dataframe tbody tr th:only-of-type {\n",
       "        vertical-align: middle;\n",
       "    }\n",
       "\n",
       "    .dataframe tbody tr th {\n",
       "        vertical-align: top;\n",
       "    }\n",
       "\n",
       "    .dataframe thead th {\n",
       "        text-align: right;\n",
       "    }\n",
       "</style>\n",
       "<table border=\"1\" class=\"dataframe\">\n",
       "  <thead>\n",
       "    <tr style=\"text-align: right;\">\n",
       "      <th></th>\n",
       "      <th>words</th>\n",
       "      <th>frequency</th>\n",
       "      <th>coefficient</th>\n",
       "    </tr>\n",
       "  </thead>\n",
       "  <tbody>\n",
       "    <tr>\n",
       "      <th>2609</th>\n",
       "      <td>bound deleterious average</td>\n",
       "      <td>0.014627</td>\n",
       "      <td>-0.338365</td>\n",
       "    </tr>\n",
       "    <tr>\n",
       "      <th>973</th>\n",
       "      <td>request</td>\n",
       "      <td>0.106817</td>\n",
       "      <td>-0.335485</td>\n",
       "    </tr>\n",
       "    <tr>\n",
       "      <th>1432</th>\n",
       "      <td>tissue</td>\n",
       "      <td>0.807506</td>\n",
       "      <td>-0.278520</td>\n",
       "    </tr>\n",
       "    <tr>\n",
       "      <th>1449</th>\n",
       "      <td>homo</td>\n",
       "      <td>0.358011</td>\n",
       "      <td>-0.276716</td>\n",
       "    </tr>\n",
       "    <tr>\n",
       "      <th>988</th>\n",
       "      <td>possible evolve</td>\n",
       "      <td>0.448665</td>\n",
       "      <td>-0.220337</td>\n",
       "    </tr>\n",
       "    <tr>\n",
       "      <th>...</th>\n",
       "      <td>...</td>\n",
       "      <td>...</td>\n",
       "      <td>...</td>\n",
       "    </tr>\n",
       "    <tr>\n",
       "      <th>462</th>\n",
       "      <td>bible version satire</td>\n",
       "      <td>0.174145</td>\n",
       "      <td>0.249933</td>\n",
       "    </tr>\n",
       "    <tr>\n",
       "      <th>952</th>\n",
       "      <td>home</td>\n",
       "      <td>0.168183</td>\n",
       "      <td>0.257802</td>\n",
       "    </tr>\n",
       "    <tr>\n",
       "      <th>1245</th>\n",
       "      <td>exactly</td>\n",
       "      <td>0.079987</td>\n",
       "      <td>0.276010</td>\n",
       "    </tr>\n",
       "    <tr>\n",
       "      <th>594</th>\n",
       "      <td>difference</td>\n",
       "      <td>0.137189</td>\n",
       "      <td>0.359832</td>\n",
       "    </tr>\n",
       "    <tr>\n",
       "      <th>555</th>\n",
       "      <td>bit</td>\n",
       "      <td>0.567664</td>\n",
       "      <td>0.416604</td>\n",
       "    </tr>\n",
       "  </tbody>\n",
       "</table>\n",
       "<p>448 rows × 3 columns</p>\n",
       "</div>"
      ],
      "text/plain": [
       "                          words  frequency  coefficient\n",
       "2609  bound deleterious average   0.014627    -0.338365\n",
       "973                     request   0.106817    -0.335485\n",
       "1432                     tissue   0.807506    -0.278520\n",
       "1449                       homo   0.358011    -0.276716\n",
       "988             possible evolve   0.448665    -0.220337\n",
       "...                         ...        ...          ...\n",
       "462        bible version satire   0.174145     0.249933\n",
       "952                        home   0.168183     0.257802\n",
       "1245                    exactly   0.079987     0.276010\n",
       "594                  difference   0.137189     0.359832\n",
       "555                         bit   0.567664     0.416604\n",
       "\n",
       "[448 rows x 3 columns]"
      ]
     },
     "execution_count": 159,
     "metadata": {},
     "output_type": "execute_result"
    }
   ],
   "source": [
    "#Looking at the top words/bag of words that co-relate to predict the target value\n",
    "words_df[words_df[\"coefficient\"].abs() > 0.04].sort_values(by=\"coefficient\")"
   ]
  },
  {
   "cell_type": "markdown",
   "metadata": {},
   "source": [
    "#### Problems identified by observing the above values"
   ]
  },
  {
   "cell_type": "markdown",
   "metadata": {},
   "source": [
    "##### The above shows how the top appearing words are corelated to successfully determining if the post is from Creation or not. In my case, I have assigned 1 to Creation nd 0 to Evolution posts"
   ]
  },
  {
   "cell_type": "code",
   "execution_count": 160,
   "metadata": {},
   "outputs": [],
   "source": [
    "##predicting all the values\n",
    "all_data_df[\"y_hat\"] = best_model.predict(tvec.transform(X))"
   ]
  },
  {
   "cell_type": "code",
   "execution_count": 161,
   "metadata": {},
   "outputs": [
    {
     "data": {
      "text/plain": [
       "(14, 16)"
      ]
     },
     "execution_count": 161,
     "metadata": {},
     "output_type": "execute_result"
    }
   ],
   "source": [
    "##How many went wrong??\n",
    "all_data_df[all_data_df[\"y\"] != all_data_df[\"y_hat\"]].shape"
   ]
  },
  {
   "cell_type": "code",
   "execution_count": 162,
   "metadata": {},
   "outputs": [
    {
     "data": {
      "text/plain": [
       "(186, 16)"
      ]
     },
     "execution_count": 162,
     "metadata": {},
     "output_type": "execute_result"
    }
   ],
   "source": [
    "# How many went right?\n",
    "all_data_df[all_data_df[\"y\"] == all_data_df[\"y_hat\"]].shape"
   ]
  },
  {
   "cell_type": "code",
   "execution_count": 163,
   "metadata": {},
   "outputs": [
    {
     "data": {
      "text/plain": [
       "1    100\n",
       "0    100\n",
       "Name: y, dtype: int64"
      ]
     },
     "execution_count": 163,
     "metadata": {},
     "output_type": "execute_result"
    }
   ],
   "source": [
    "#actual no of 1's and 0's\n",
    "all_data_df[\"y\"].value_counts()"
   ]
  },
  {
   "cell_type": "code",
   "execution_count": 164,
   "metadata": {},
   "outputs": [
    {
     "data": {
      "text/plain": [
       "0    108\n",
       "1     92\n",
       "Name: y_hat, dtype: int64"
      ]
     },
     "execution_count": 164,
     "metadata": {},
     "output_type": "execute_result"
    }
   ],
   "source": [
    "#actual no of 1's and 0's\n",
    "all_data_df[\"y_hat\"].value_counts()"
   ]
  },
  {
   "cell_type": "markdown",
   "metadata": {},
   "source": [
    "So this model predicted 108 posts as evolution and 92 as creations"
   ]
  },
  {
   "cell_type": "code",
   "execution_count": 75,
   "metadata": {},
   "outputs": [
    {
     "data": {
      "text/html": [
       "<div>\n",
       "<style scoped>\n",
       "    .dataframe tbody tr th:only-of-type {\n",
       "        vertical-align: middle;\n",
       "    }\n",
       "\n",
       "    .dataframe tbody tr th {\n",
       "        vertical-align: top;\n",
       "    }\n",
       "\n",
       "    .dataframe thead th {\n",
       "        text-align: right;\n",
       "    }\n",
       "</style>\n",
       "<table border=\"1\" class=\"dataframe\">\n",
       "  <thead>\n",
       "    <tr style=\"text-align: right;\">\n",
       "      <th></th>\n",
       "      <th>subreddit</th>\n",
       "      <th>title</th>\n",
       "      <th>full_link</th>\n",
       "      <th>y</th>\n",
       "      <th>y_hat</th>\n",
       "    </tr>\n",
       "  </thead>\n",
       "  <tbody>\n",
       "    <tr>\n",
       "      <th>57</th>\n",
       "      <td>evolution</td>\n",
       "      <td>evolutionarily,ancient,iron,sulfur,clusters,co...</td>\n",
       "      <td>https://www.reddit.com/r/evolution/comments/er...</td>\n",
       "      <td>0</td>\n",
       "      <td>1</td>\n",
       "    </tr>\n",
       "    <tr>\n",
       "      <th>59</th>\n",
       "      <td>evolution</td>\n",
       "      <td>legendary,giant,squid,genome,revealed,,,myster...</td>\n",
       "      <td>https://www.reddit.com/r/evolution/comments/eq...</td>\n",
       "      <td>0</td>\n",
       "      <td>1</td>\n",
       "    </tr>\n",
       "    <tr>\n",
       "      <th>68</th>\n",
       "      <td>evolution</td>\n",
       "      <td>makes,mutations,evolution,,random,,</td>\n",
       "      <td>https://www.reddit.com/r/evolution/comments/eq...</td>\n",
       "      <td>0</td>\n",
       "      <td>1</td>\n",
       "    </tr>\n",
       "    <tr>\n",
       "      <th>0</th>\n",
       "      <td>Creation</td>\n",
       "      <td>unreasonable,effectiveness,mathematics,natural...</td>\n",
       "      <td>https://www.reddit.com/r/Creation/comments/evg...</td>\n",
       "      <td>1</td>\n",
       "      <td>0</td>\n",
       "    </tr>\n",
       "    <tr>\n",
       "      <th>2</th>\n",
       "      <td>Creation</td>\n",
       "      <td>population,growth,matches,bible,dna,clock</td>\n",
       "      <td>https://www.reddit.com/r/Creation/comments/evd...</td>\n",
       "      <td>1</td>\n",
       "      <td>0</td>\n",
       "    </tr>\n",
       "    <tr>\n",
       "      <th>6</th>\n",
       "      <td>Creation</td>\n",
       "      <td>know,read,,peaked,interest,</td>\n",
       "      <td>https://www.reddit.com/r/Creation/comments/euh...</td>\n",
       "      <td>1</td>\n",
       "      <td>0</td>\n",
       "    </tr>\n",
       "    <tr>\n",
       "      <th>28</th>\n",
       "      <td>Creation</td>\n",
       "      <td>berean,archive</td>\n",
       "      <td>https://www.reddit.com/r/Creation/comments/erx...</td>\n",
       "      <td>1</td>\n",
       "      <td>0</td>\n",
       "    </tr>\n",
       "    <tr>\n",
       "      <th>33</th>\n",
       "      <td>Creation</td>\n",
       "      <td>discover,interview,,lynn,margulis,says,controv...</td>\n",
       "      <td>https://www.reddit.com/r/Creation/comments/eqk...</td>\n",
       "      <td>1</td>\n",
       "      <td>0</td>\n",
       "    </tr>\n",
       "    <tr>\n",
       "      <th>34</th>\n",
       "      <td>Creation</td>\n",
       "      <td>atlantic,,,never,taught,humans,came</td>\n",
       "      <td>https://www.reddit.com/r/Creation/comments/eqj...</td>\n",
       "      <td>1</td>\n",
       "      <td>0</td>\n",
       "    </tr>\n",
       "    <tr>\n",
       "      <th>36</th>\n",
       "      <td>Creation</td>\n",
       "      <td>,vestigial,organs,evolution,,remember,reading,...</td>\n",
       "      <td>https://www.reddit.com/r/Creation/comments/eqg...</td>\n",
       "      <td>1</td>\n",
       "      <td>0</td>\n",
       "    </tr>\n",
       "    <tr>\n",
       "      <th>40</th>\n",
       "      <td>Creation</td>\n",
       "      <td>article,,darwinian,evolution,follow,mutational...</td>\n",
       "      <td>https://www.reddit.com/r/Creation/comments/eqa...</td>\n",
       "      <td>1</td>\n",
       "      <td>0</td>\n",
       "    </tr>\n",
       "    <tr>\n",
       "      <th>44</th>\n",
       "      <td>Creation</td>\n",
       "      <td>prehistoric,scorpion,earliest,known,animal,ven...</td>\n",
       "      <td>https://www.reddit.com/r/Creation/comments/epy...</td>\n",
       "      <td>1</td>\n",
       "      <td>0</td>\n",
       "    </tr>\n",
       "    <tr>\n",
       "      <th>50</th>\n",
       "      <td>Creation</td>\n",
       "      <td>,,,thesis,evolution</td>\n",
       "      <td>https://www.reddit.com/r/Creation/comments/ep6...</td>\n",
       "      <td>1</td>\n",
       "      <td>0</td>\n",
       "    </tr>\n",
       "    <tr>\n",
       "      <th>74</th>\n",
       "      <td>Creation</td>\n",
       "      <td>two,logical,issues,evolution,,,,</td>\n",
       "      <td>https://www.reddit.com/r/Creation/comments/elk...</td>\n",
       "      <td>1</td>\n",
       "      <td>0</td>\n",
       "    </tr>\n",
       "  </tbody>\n",
       "</table>\n",
       "</div>"
      ],
      "text/plain": [
       "    subreddit                                              title  \\\n",
       "57  evolution  evolutionarily,ancient,iron,sulfur,clusters,co...   \n",
       "59  evolution  legendary,giant,squid,genome,revealed,,,myster...   \n",
       "68  evolution                makes,mutations,evolution,,random,,   \n",
       "0    Creation  unreasonable,effectiveness,mathematics,natural...   \n",
       "2    Creation          population,growth,matches,bible,dna,clock   \n",
       "6    Creation                        know,read,,peaked,interest,   \n",
       "28   Creation                                     berean,archive   \n",
       "33   Creation  discover,interview,,lynn,margulis,says,controv...   \n",
       "34   Creation                atlantic,,,never,taught,humans,came   \n",
       "36   Creation  ,vestigial,organs,evolution,,remember,reading,...   \n",
       "40   Creation  article,,darwinian,evolution,follow,mutational...   \n",
       "44   Creation  prehistoric,scorpion,earliest,known,animal,ven...   \n",
       "50   Creation                                ,,,thesis,evolution   \n",
       "74   Creation                   two,logical,issues,evolution,,,,   \n",
       "\n",
       "                                            full_link  y  y_hat  \n",
       "57  https://www.reddit.com/r/evolution/comments/er...  0      1  \n",
       "59  https://www.reddit.com/r/evolution/comments/eq...  0      1  \n",
       "68  https://www.reddit.com/r/evolution/comments/eq...  0      1  \n",
       "0   https://www.reddit.com/r/Creation/comments/evg...  1      0  \n",
       "2   https://www.reddit.com/r/Creation/comments/evd...  1      0  \n",
       "6   https://www.reddit.com/r/Creation/comments/euh...  1      0  \n",
       "28  https://www.reddit.com/r/Creation/comments/erx...  1      0  \n",
       "33  https://www.reddit.com/r/Creation/comments/eqk...  1      0  \n",
       "34  https://www.reddit.com/r/Creation/comments/eqj...  1      0  \n",
       "36  https://www.reddit.com/r/Creation/comments/eqg...  1      0  \n",
       "40  https://www.reddit.com/r/Creation/comments/eqa...  1      0  \n",
       "44  https://www.reddit.com/r/Creation/comments/epy...  1      0  \n",
       "50  https://www.reddit.com/r/Creation/comments/ep6...  1      0  \n",
       "74  https://www.reddit.com/r/Creation/comments/elk...  1      0  "
      ]
     },
     "execution_count": 75,
     "metadata": {},
     "output_type": "execute_result"
    }
   ],
   "source": [
    "#All the posts that were mis calculated\n",
    "all_data_df.loc[(all_data_df[\"y\"] != all_data_df[\"y_hat\"]), [\"subreddit\", \"title\", \"full_link\", \"y\",\"y_hat\"]]"
   ]
  },
  {
   "cell_type": "markdown",
   "metadata": {},
   "source": [
    "# LEMMATIZING"
   ]
  },
  {
   "cell_type": "code",
   "execution_count": 128,
   "metadata": {},
   "outputs": [],
   "source": [
    "## Trying to improve the score by using lema\n",
    "all_data_df[\"lemma\"] = all_data_df['full_row'].map(lemmatize)"
   ]
  },
  {
   "cell_type": "code",
   "execution_count": 129,
   "metadata": {},
   "outputs": [],
   "source": [
    "##splitting the data\n",
    "X = all_data_df[\"lemma\"]\n",
    "y = all_data_df[\"y\"]\n",
    "X_train, X_test, y_train, y_test = train_test_split(X,y, shuffle=True, test_size=0.33, stratify=y, random_state = 42)"
   ]
  },
  {
   "cell_type": "code",
   "execution_count": 130,
   "metadata": {},
   "outputs": [
    {
     "name": "stdout",
     "output_type": "stream",
     "text": [
      "0.7910447761194029\n"
     ]
    }
   ],
   "source": [
    "tvec = TfidfVectorizer(max_features=3000,\n",
    "                       min_df=1,\n",
    "                       max_df=1.0,\n",
    "                       ngram_range=(1,4),\n",
    "                       stop_words=\"english\")\n",
    "\n",
    "train_bag_of_words = tvec.fit_transform(X_train)\n",
    "test_bag_of_words = tvec.transform(X_test)\n",
    "\n",
    "log_reg = LogisticRegressionCV(random_state=42,\n",
    "                               max_iter=500)\n",
    "\n",
    "gs_log_reg = GridSearchCV(log_reg, param_grid={}, cv=5)\n",
    "gs_log_reg.fit(train_bag_of_words, y_train)\n",
    "print(gs_log_reg.best_score_)"
   ]
  },
  {
   "cell_type": "code",
   "execution_count": 131,
   "metadata": {},
   "outputs": [
    {
     "data": {
      "text/plain": [
       "0.7906593406593407"
      ]
     },
     "execution_count": 131,
     "metadata": {},
     "output_type": "execute_result"
    }
   ],
   "source": [
    "# The score did not improve\n",
    "cross_val_score(log_reg, train_bag_of_words, y_train, cv=5).mean()"
   ]
  },
  {
   "cell_type": "code",
   "execution_count": 132,
   "metadata": {},
   "outputs": [],
   "source": [
    "all_data_df[\"y_hat\"] = best_model.predict(tvec.transform(X))"
   ]
  },
  {
   "cell_type": "code",
   "execution_count": 133,
   "metadata": {},
   "outputs": [
    {
     "data": {
      "text/plain": [
       "0    107\n",
       "1     93\n",
       "Name: y_hat, dtype: int64"
      ]
     },
     "execution_count": 133,
     "metadata": {},
     "output_type": "execute_result"
    }
   ],
   "source": [
    "#actual no of 1's and 0's\n",
    "all_data_df[\"y_hat\"].value_counts()"
   ]
  },
  {
   "cell_type": "markdown",
   "metadata": {},
   "source": [
    "# STEMMER"
   ]
  },
  {
   "cell_type": "code",
   "execution_count": 140,
   "metadata": {},
   "outputs": [],
   "source": [
    "## Trying to improve the score by using stemma\n",
    "all_data_df[\"stemmer\"] = all_data_df['full_row'].map(stemmer)"
   ]
  },
  {
   "cell_type": "code",
   "execution_count": 147,
   "metadata": {},
   "outputs": [],
   "source": [
    "##splitting the data\n",
    "X = all_data_df[\"stemmer\"]\n",
    "y = all_data_df[\"y\"]\n",
    "X_train, X_test, y_train, y_test = train_test_split(X,y, shuffle=True, test_size=0.33, stratify=y, random_state = 42)"
   ]
  },
  {
   "cell_type": "code",
   "execution_count": 151,
   "metadata": {},
   "outputs": [
    {
     "name": "stdout",
     "output_type": "stream",
     "text": [
      "0.7985074626865671\n"
     ]
    }
   ],
   "source": [
    "tvec = TfidfVectorizer(max_features=3000,\n",
    "                       min_df=1,\n",
    "                       max_df=1.0,\n",
    "                       ngram_range=(1,4),\n",
    "                       stop_words=\"english\")\n",
    "\n",
    "train_bag_of_words = tvec.fit_transform(X_train)\n",
    "test_bag_of_words = tvec.transform(X_test)\n",
    "\n",
    "log_reg = LogisticRegressionCV(random_state=42,\n",
    "                               max_iter=500)\n",
    "\n",
    "gs_log_reg = GridSearchCV(log_reg, param_grid={}, cv=5)\n",
    "gs_log_reg.fit(train_bag_of_words, y_train)\n",
    "print(gs_log_reg.best_score_)"
   ]
  },
  {
   "cell_type": "code",
   "execution_count": 152,
   "metadata": {},
   "outputs": [],
   "source": [
    "all_data_df[\"y_hat\"] = best_model.predict(tvec.transform(X))"
   ]
  },
  {
   "cell_type": "code",
   "execution_count": 153,
   "metadata": {},
   "outputs": [
    {
     "data": {
      "text/plain": [
       "1    146\n",
       "0     54\n",
       "Name: y_hat, dtype: int64"
      ]
     },
     "execution_count": 153,
     "metadata": {},
     "output_type": "execute_result"
    }
   ],
   "source": [
    "#actual no of 1's and 0's\n",
    "all_data_df[\"y_hat\"].value_counts()"
   ]
  },
  {
   "cell_type": "markdown",
   "metadata": {},
   "source": [
    "# NOTE ** Lemma and Stemmer , both made the scorse worse here. What matters is data"
   ]
  },
  {
   "cell_type": "code",
   "execution_count": 166,
   "metadata": {},
   "outputs": [],
   "source": [
    "# Using more data to see if the scores have improved\n",
    "# 1000 posts each + 1000 comments each"
   ]
  },
  {
   "cell_type": "markdown",
   "metadata": {},
   "source": [
    "# Running tests for all parameter combinations to see which one scored the best 1000"
   ]
  },
  {
   "cell_type": "markdown",
   "metadata": {},
   "source": [
    "# for 1000 posts + 1000 comments from each subreddit"
   ]
  },
  {
   "cell_type": "code",
   "execution_count": 170,
   "metadata": {},
   "outputs": [
    {
     "name": "stderr",
     "output_type": "stream",
     "text": [
      "/opt/anaconda3/lib/python3.7/site-packages/sklearn/svm/base.py:929: ConvergenceWarning: Liblinear failed to converge, increase the number of iterations.\n",
      "  \"the number of iterations.\", ConvergenceWarning)\n",
      "/opt/anaconda3/lib/python3.7/site-packages/sklearn/svm/base.py:929: ConvergenceWarning: Liblinear failed to converge, increase the number of iterations.\n",
      "  \"the number of iterations.\", ConvergenceWarning)\n"
     ]
    },
    {
     "name": "stdout",
     "output_type": "stream",
     "text": [
      "Round 1 complete for feature set 1\n",
      "Round 2 complete for feature set 1\n",
      "Round 3 complete for feature set 1\n"
     ]
    },
    {
     "name": "stderr",
     "output_type": "stream",
     "text": [
      "/opt/anaconda3/lib/python3.7/site-packages/sklearn/svm/base.py:929: ConvergenceWarning: Liblinear failed to converge, increase the number of iterations.\n",
      "  \"the number of iterations.\", ConvergenceWarning)\n",
      "/opt/anaconda3/lib/python3.7/site-packages/sklearn/svm/base.py:929: ConvergenceWarning: Liblinear failed to converge, increase the number of iterations.\n",
      "  \"the number of iterations.\", ConvergenceWarning)\n",
      "/opt/anaconda3/lib/python3.7/site-packages/sklearn/svm/base.py:929: ConvergenceWarning: Liblinear failed to converge, increase the number of iterations.\n",
      "  \"the number of iterations.\", ConvergenceWarning)\n",
      "/opt/anaconda3/lib/python3.7/site-packages/sklearn/svm/base.py:929: ConvergenceWarning: Liblinear failed to converge, increase the number of iterations.\n",
      "  \"the number of iterations.\", ConvergenceWarning)\n",
      "/opt/anaconda3/lib/python3.7/site-packages/sklearn/svm/base.py:929: ConvergenceWarning: Liblinear failed to converge, increase the number of iterations.\n",
      "  \"the number of iterations.\", ConvergenceWarning)\n",
      "/opt/anaconda3/lib/python3.7/site-packages/sklearn/svm/base.py:929: ConvergenceWarning: Liblinear failed to converge, increase the number of iterations.\n",
      "  \"the number of iterations.\", ConvergenceWarning)\n",
      "/opt/anaconda3/lib/python3.7/site-packages/sklearn/svm/base.py:929: ConvergenceWarning: Liblinear failed to converge, increase the number of iterations.\n",
      "  \"the number of iterations.\", ConvergenceWarning)\n",
      "/opt/anaconda3/lib/python3.7/site-packages/sklearn/svm/base.py:929: ConvergenceWarning: Liblinear failed to converge, increase the number of iterations.\n",
      "  \"the number of iterations.\", ConvergenceWarning)\n",
      "/opt/anaconda3/lib/python3.7/site-packages/sklearn/svm/base.py:929: ConvergenceWarning: Liblinear failed to converge, increase the number of iterations.\n",
      "  \"the number of iterations.\", ConvergenceWarning)\n",
      "/opt/anaconda3/lib/python3.7/site-packages/sklearn/svm/base.py:929: ConvergenceWarning: Liblinear failed to converge, increase the number of iterations.\n",
      "  \"the number of iterations.\", ConvergenceWarning)\n",
      "/opt/anaconda3/lib/python3.7/site-packages/sklearn/svm/base.py:929: ConvergenceWarning: Liblinear failed to converge, increase the number of iterations.\n",
      "  \"the number of iterations.\", ConvergenceWarning)\n",
      "/opt/anaconda3/lib/python3.7/site-packages/sklearn/svm/base.py:929: ConvergenceWarning: Liblinear failed to converge, increase the number of iterations.\n",
      "  \"the number of iterations.\", ConvergenceWarning)\n",
      "/opt/anaconda3/lib/python3.7/site-packages/sklearn/svm/base.py:929: ConvergenceWarning: Liblinear failed to converge, increase the number of iterations.\n",
      "  \"the number of iterations.\", ConvergenceWarning)\n",
      "/opt/anaconda3/lib/python3.7/site-packages/sklearn/svm/base.py:929: ConvergenceWarning: Liblinear failed to converge, increase the number of iterations.\n",
      "  \"the number of iterations.\", ConvergenceWarning)\n",
      "/opt/anaconda3/lib/python3.7/site-packages/sklearn/svm/base.py:929: ConvergenceWarning: Liblinear failed to converge, increase the number of iterations.\n",
      "  \"the number of iterations.\", ConvergenceWarning)\n",
      "/opt/anaconda3/lib/python3.7/site-packages/sklearn/svm/base.py:929: ConvergenceWarning: Liblinear failed to converge, increase the number of iterations.\n",
      "  \"the number of iterations.\", ConvergenceWarning)\n",
      "/opt/anaconda3/lib/python3.7/site-packages/sklearn/svm/base.py:929: ConvergenceWarning: Liblinear failed to converge, increase the number of iterations.\n",
      "  \"the number of iterations.\", ConvergenceWarning)\n",
      "/opt/anaconda3/lib/python3.7/site-packages/sklearn/svm/base.py:929: ConvergenceWarning: Liblinear failed to converge, increase the number of iterations.\n",
      "  \"the number of iterations.\", ConvergenceWarning)\n",
      "/opt/anaconda3/lib/python3.7/site-packages/sklearn/svm/base.py:929: ConvergenceWarning: Liblinear failed to converge, increase the number of iterations.\n",
      "  \"the number of iterations.\", ConvergenceWarning)\n",
      "/opt/anaconda3/lib/python3.7/site-packages/sklearn/svm/base.py:929: ConvergenceWarning: Liblinear failed to converge, increase the number of iterations.\n",
      "  \"the number of iterations.\", ConvergenceWarning)\n",
      "/opt/anaconda3/lib/python3.7/site-packages/sklearn/svm/base.py:929: ConvergenceWarning: Liblinear failed to converge, increase the number of iterations.\n",
      "  \"the number of iterations.\", ConvergenceWarning)\n",
      "/opt/anaconda3/lib/python3.7/site-packages/sklearn/svm/base.py:929: ConvergenceWarning: Liblinear failed to converge, increase the number of iterations.\n",
      "  \"the number of iterations.\", ConvergenceWarning)\n",
      "/opt/anaconda3/lib/python3.7/site-packages/sklearn/svm/base.py:929: ConvergenceWarning: Liblinear failed to converge, increase the number of iterations.\n",
      "  \"the number of iterations.\", ConvergenceWarning)\n",
      "/opt/anaconda3/lib/python3.7/site-packages/sklearn/svm/base.py:929: ConvergenceWarning: Liblinear failed to converge, increase the number of iterations.\n",
      "  \"the number of iterations.\", ConvergenceWarning)\n",
      "/opt/anaconda3/lib/python3.7/site-packages/sklearn/svm/base.py:929: ConvergenceWarning: Liblinear failed to converge, increase the number of iterations.\n",
      "  \"the number of iterations.\", ConvergenceWarning)\n",
      "/opt/anaconda3/lib/python3.7/site-packages/sklearn/svm/base.py:929: ConvergenceWarning: Liblinear failed to converge, increase the number of iterations.\n",
      "  \"the number of iterations.\", ConvergenceWarning)\n",
      "/opt/anaconda3/lib/python3.7/site-packages/sklearn/svm/base.py:929: ConvergenceWarning: Liblinear failed to converge, increase the number of iterations.\n",
      "  \"the number of iterations.\", ConvergenceWarning)\n",
      "/opt/anaconda3/lib/python3.7/site-packages/sklearn/svm/base.py:929: ConvergenceWarning: Liblinear failed to converge, increase the number of iterations.\n",
      "  \"the number of iterations.\", ConvergenceWarning)\n"
     ]
    },
    {
     "name": "stdout",
     "output_type": "stream",
     "text": [
      "Round 4 complete for feature set 1\n",
      "Round 5 complete for feature set 1\n",
      "Round 6 complete for feature set 1\n"
     ]
    },
    {
     "name": "stderr",
     "output_type": "stream",
     "text": [
      "/opt/anaconda3/lib/python3.7/site-packages/sklearn/svm/base.py:929: ConvergenceWarning: Liblinear failed to converge, increase the number of iterations.\n",
      "  \"the number of iterations.\", ConvergenceWarning)\n",
      "/opt/anaconda3/lib/python3.7/site-packages/sklearn/svm/base.py:929: ConvergenceWarning: Liblinear failed to converge, increase the number of iterations.\n",
      "  \"the number of iterations.\", ConvergenceWarning)\n",
      "/opt/anaconda3/lib/python3.7/site-packages/sklearn/svm/base.py:929: ConvergenceWarning: Liblinear failed to converge, increase the number of iterations.\n",
      "  \"the number of iterations.\", ConvergenceWarning)\n",
      "/opt/anaconda3/lib/python3.7/site-packages/sklearn/svm/base.py:929: ConvergenceWarning: Liblinear failed to converge, increase the number of iterations.\n",
      "  \"the number of iterations.\", ConvergenceWarning)\n",
      "/opt/anaconda3/lib/python3.7/site-packages/sklearn/svm/base.py:929: ConvergenceWarning: Liblinear failed to converge, increase the number of iterations.\n",
      "  \"the number of iterations.\", ConvergenceWarning)\n",
      "/opt/anaconda3/lib/python3.7/site-packages/sklearn/svm/base.py:929: ConvergenceWarning: Liblinear failed to converge, increase the number of iterations.\n",
      "  \"the number of iterations.\", ConvergenceWarning)\n",
      "/opt/anaconda3/lib/python3.7/site-packages/sklearn/svm/base.py:929: ConvergenceWarning: Liblinear failed to converge, increase the number of iterations.\n",
      "  \"the number of iterations.\", ConvergenceWarning)\n",
      "/opt/anaconda3/lib/python3.7/site-packages/sklearn/svm/base.py:929: ConvergenceWarning: Liblinear failed to converge, increase the number of iterations.\n",
      "  \"the number of iterations.\", ConvergenceWarning)\n"
     ]
    },
    {
     "name": "stdout",
     "output_type": "stream",
     "text": [
      "Round 1 complete for feature set 2\n",
      "Round 2 complete for feature set 2\n",
      "Round 3 complete for feature set 2\n",
      "Round 4 complete for feature set 2\n",
      "Round 5 complete for feature set 2\n",
      "Round 6 complete for feature set 2\n"
     ]
    },
    {
     "name": "stderr",
     "output_type": "stream",
     "text": [
      "/opt/anaconda3/lib/python3.7/site-packages/sklearn/svm/base.py:929: ConvergenceWarning: Liblinear failed to converge, increase the number of iterations.\n",
      "  \"the number of iterations.\", ConvergenceWarning)\n",
      "/opt/anaconda3/lib/python3.7/site-packages/sklearn/svm/base.py:929: ConvergenceWarning: Liblinear failed to converge, increase the number of iterations.\n",
      "  \"the number of iterations.\", ConvergenceWarning)\n",
      "/opt/anaconda3/lib/python3.7/site-packages/sklearn/svm/base.py:929: ConvergenceWarning: Liblinear failed to converge, increase the number of iterations.\n",
      "  \"the number of iterations.\", ConvergenceWarning)\n",
      "/opt/anaconda3/lib/python3.7/site-packages/sklearn/svm/base.py:929: ConvergenceWarning: Liblinear failed to converge, increase the number of iterations.\n",
      "  \"the number of iterations.\", ConvergenceWarning)\n"
     ]
    },
    {
     "name": "stdout",
     "output_type": "stream",
     "text": [
      "Round 1 complete for feature set 3\n",
      "Round 2 complete for feature set 3\n",
      "Round 3 complete for feature set 3\n",
      "Round 4 complete for feature set 3\n",
      "Round 5 complete for feature set 3\n",
      "Round 6 complete for feature set 3\n"
     ]
    }
   ],
   "source": [
    "best_scores = get_best_scores_params(\"2\")"
   ]
  },
  {
   "cell_type": "code",
   "execution_count": 171,
   "metadata": {},
   "outputs": [],
   "source": [
    "metrics_dict = {x:{y:None for y in all_params} for x in feature_sets}\n",
    "miss_calc_dict = {x:{y:None for y in all_params} for x in feature_sets}"
   ]
  },
  {
   "cell_type": "code",
   "execution_count": 172,
   "metadata": {},
   "outputs": [],
   "source": [
    "for features in feature_sets:\n",
    "    for params in all_params:\n",
    "        metrics_dict[features][params] = best_scores[features][params][0]\n",
    "for features in feature_sets:\n",
    "    for params in all_params:\n",
    "        miss_calc_dict[features][params] = best_scores[features][params][2]['Mis Calculations']"
   ]
  },
  {
   "cell_type": "code",
   "execution_count": 173,
   "metadata": {},
   "outputs": [
    {
     "data": {
      "text/html": [
       "<style  type=\"text/css\" >\n",
       "    #T_1f49c4ca_4261_11ea_a7aa_80e650232554row1_col0 {\n",
       "            background-color:  lightgreen;\n",
       "        }    #T_1f49c4ca_4261_11ea_a7aa_80e650232554row3_col1 {\n",
       "            background-color:  lightgreen;\n",
       "        }    #T_1f49c4ca_4261_11ea_a7aa_80e650232554row3_col2 {\n",
       "            background-color:  lightgreen;\n",
       "        }</style><table id=\"T_1f49c4ca_4261_11ea_a7aa_80e650232554\" ><thead>    <tr>        <th class=\"blank level0\" ></th>        <th class=\"col_heading level0 col0\" >1</th>        <th class=\"col_heading level0 col1\" >2</th>        <th class=\"col_heading level0 col2\" >3</th>    </tr></thead><tbody>\n",
       "                <tr>\n",
       "                        <th id=\"T_1f49c4ca_4261_11ea_a7aa_80e650232554level0_row0\" class=\"row_heading level0 row0\" >1</th>\n",
       "                        <td id=\"T_1f49c4ca_4261_11ea_a7aa_80e650232554row0_col0\" class=\"data row0 col0\" >0.73</td>\n",
       "                        <td id=\"T_1f49c4ca_4261_11ea_a7aa_80e650232554row0_col1\" class=\"data row0 col1\" >0.78</td>\n",
       "                        <td id=\"T_1f49c4ca_4261_11ea_a7aa_80e650232554row0_col2\" class=\"data row0 col2\" >0.78</td>\n",
       "            </tr>\n",
       "            <tr>\n",
       "                        <th id=\"T_1f49c4ca_4261_11ea_a7aa_80e650232554level0_row1\" class=\"row_heading level0 row1\" >2</th>\n",
       "                        <td id=\"T_1f49c4ca_4261_11ea_a7aa_80e650232554row1_col0\" class=\"data row1 col0\" >0.74</td>\n",
       "                        <td id=\"T_1f49c4ca_4261_11ea_a7aa_80e650232554row1_col1\" class=\"data row1 col1\" >0.78</td>\n",
       "                        <td id=\"T_1f49c4ca_4261_11ea_a7aa_80e650232554row1_col2\" class=\"data row1 col2\" >0.76</td>\n",
       "            </tr>\n",
       "            <tr>\n",
       "                        <th id=\"T_1f49c4ca_4261_11ea_a7aa_80e650232554level0_row2\" class=\"row_heading level0 row2\" >3</th>\n",
       "                        <td id=\"T_1f49c4ca_4261_11ea_a7aa_80e650232554row2_col0\" class=\"data row2 col0\" >0.64</td>\n",
       "                        <td id=\"T_1f49c4ca_4261_11ea_a7aa_80e650232554row2_col1\" class=\"data row2 col1\" >0.64</td>\n",
       "                        <td id=\"T_1f49c4ca_4261_11ea_a7aa_80e650232554row2_col2\" class=\"data row2 col2\" >0.65</td>\n",
       "            </tr>\n",
       "            <tr>\n",
       "                        <th id=\"T_1f49c4ca_4261_11ea_a7aa_80e650232554level0_row3\" class=\"row_heading level0 row3\" >4</th>\n",
       "                        <td id=\"T_1f49c4ca_4261_11ea_a7aa_80e650232554row3_col0\" class=\"data row3 col0\" >0.73</td>\n",
       "                        <td id=\"T_1f49c4ca_4261_11ea_a7aa_80e650232554row3_col1\" class=\"data row3 col1\" >0.79</td>\n",
       "                        <td id=\"T_1f49c4ca_4261_11ea_a7aa_80e650232554row3_col2\" class=\"data row3 col2\" >0.79</td>\n",
       "            </tr>\n",
       "            <tr>\n",
       "                        <th id=\"T_1f49c4ca_4261_11ea_a7aa_80e650232554level0_row4\" class=\"row_heading level0 row4\" >5</th>\n",
       "                        <td id=\"T_1f49c4ca_4261_11ea_a7aa_80e650232554row4_col0\" class=\"data row4 col0\" >0.67</td>\n",
       "                        <td id=\"T_1f49c4ca_4261_11ea_a7aa_80e650232554row4_col1\" class=\"data row4 col1\" >0.69</td>\n",
       "                        <td id=\"T_1f49c4ca_4261_11ea_a7aa_80e650232554row4_col2\" class=\"data row4 col2\" >0.7</td>\n",
       "            </tr>\n",
       "            <tr>\n",
       "                        <th id=\"T_1f49c4ca_4261_11ea_a7aa_80e650232554level0_row5\" class=\"row_heading level0 row5\" >6</th>\n",
       "                        <td id=\"T_1f49c4ca_4261_11ea_a7aa_80e650232554row5_col0\" class=\"data row5 col0\" >0.64</td>\n",
       "                        <td id=\"T_1f49c4ca_4261_11ea_a7aa_80e650232554row5_col1\" class=\"data row5 col1\" >0.71</td>\n",
       "                        <td id=\"T_1f49c4ca_4261_11ea_a7aa_80e650232554row5_col2\" class=\"data row5 col2\" >0.7</td>\n",
       "            </tr>\n",
       "    </tbody></table>"
      ],
      "text/plain": [
       "<pandas.io.formats.style.Styler at 0x1a2af0ac50>"
      ]
     },
     "execution_count": 173,
     "metadata": {},
     "output_type": "execute_result"
    }
   ],
   "source": [
    "pd.DataFrame(metrics_dict).style.apply(highlight_max)"
   ]
  },
  {
   "cell_type": "code",
   "execution_count": 174,
   "metadata": {},
   "outputs": [
    {
     "data": {
      "text/plain": [
       "[0.79,\n",
       " {'classifier__C': 0.1,\n",
       "  'classifier__max_iter': 500,\n",
       "  'classifier__penalty': 'l2',\n",
       "  'vectorizer__max_df': 1.0,\n",
       "  'vectorizer__max_features': 5000,\n",
       "  'vectorizer__min_df': 1,\n",
       "  'vectorizer__ngram_range': (1, 3),\n",
       "  'vectorizer__stop_words': 'english'},\n",
       " {'No of evolution posts': 330,\n",
       "  'No of Creation posts': 330,\n",
       "  'No of predicted evolution posts': 321,\n",
       "  'No of predicted creations posts': 339,\n",
       "  'Baseline accuracy%': 0.5,\n",
       "  'Train Scores': 0.89,\n",
       "  'Test Scores': 0.8,\n",
       "  'Accuracy': 0.8,\n",
       "  'Mis Calculations': 0.2,\n",
       "  'Sensitivity': 0.82,\n",
       "  'Specificity': 0.79,\n",
       "  'Precision': 0.8,\n",
       "  'ROC AUC': 1.0,\n",
       "  'Fit Type': 'Overfit'}]"
      ]
     },
     "execution_count": 174,
     "metadata": {},
     "output_type": "execute_result"
    }
   ],
   "source": [
    "##best score from the above board, looking at the Scores in details\n",
    "best_scores[\"3\"][4]"
   ]
  },
  {
   "cell_type": "code",
   "execution_count": 175,
   "metadata": {},
   "outputs": [
    {
     "data": {
      "text/html": [
       "<style  type=\"text/css\" >\n",
       "    #T_3f9b6a30_4261_11ea_a7aa_80e650232554row0_col0 {\n",
       "            background-color:  lightgreen;\n",
       "        }    #T_3f9b6a30_4261_11ea_a7aa_80e650232554row1_col1 {\n",
       "            background-color:  lightgreen;\n",
       "        }    #T_3f9b6a30_4261_11ea_a7aa_80e650232554row3_col1 {\n",
       "            background-color:  lightgreen;\n",
       "        }    #T_3f9b6a30_4261_11ea_a7aa_80e650232554row3_col2 {\n",
       "            background-color:  lightgreen;\n",
       "        }</style><table id=\"T_3f9b6a30_4261_11ea_a7aa_80e650232554\" ><thead>    <tr>        <th class=\"blank level0\" ></th>        <th class=\"col_heading level0 col0\" >1</th>        <th class=\"col_heading level0 col1\" >2</th>        <th class=\"col_heading level0 col2\" >3</th>    </tr></thead><tbody>\n",
       "                <tr>\n",
       "                        <th id=\"T_3f9b6a30_4261_11ea_a7aa_80e650232554level0_row0\" class=\"row_heading level0 row0\" >1</th>\n",
       "                        <td id=\"T_3f9b6a30_4261_11ea_a7aa_80e650232554row0_col0\" class=\"data row0 col0\" >0.23</td>\n",
       "                        <td id=\"T_3f9b6a30_4261_11ea_a7aa_80e650232554row0_col1\" class=\"data row0 col1\" >0.22</td>\n",
       "                        <td id=\"T_3f9b6a30_4261_11ea_a7aa_80e650232554row0_col2\" class=\"data row0 col2\" >0.21</td>\n",
       "            </tr>\n",
       "            <tr>\n",
       "                        <th id=\"T_3f9b6a30_4261_11ea_a7aa_80e650232554level0_row1\" class=\"row_heading level0 row1\" >2</th>\n",
       "                        <td id=\"T_3f9b6a30_4261_11ea_a7aa_80e650232554row1_col0\" class=\"data row1 col0\" >0.24</td>\n",
       "                        <td id=\"T_3f9b6a30_4261_11ea_a7aa_80e650232554row1_col1\" class=\"data row1 col1\" >0.21</td>\n",
       "                        <td id=\"T_3f9b6a30_4261_11ea_a7aa_80e650232554row1_col2\" class=\"data row1 col2\" >0.23</td>\n",
       "            </tr>\n",
       "            <tr>\n",
       "                        <th id=\"T_3f9b6a30_4261_11ea_a7aa_80e650232554level0_row2\" class=\"row_heading level0 row2\" >3</th>\n",
       "                        <td id=\"T_3f9b6a30_4261_11ea_a7aa_80e650232554row2_col0\" class=\"data row2 col0\" >0.32</td>\n",
       "                        <td id=\"T_3f9b6a30_4261_11ea_a7aa_80e650232554row2_col1\" class=\"data row2 col1\" >0.36</td>\n",
       "                        <td id=\"T_3f9b6a30_4261_11ea_a7aa_80e650232554row2_col2\" class=\"data row2 col2\" >0.33</td>\n",
       "            </tr>\n",
       "            <tr>\n",
       "                        <th id=\"T_3f9b6a30_4261_11ea_a7aa_80e650232554level0_row3\" class=\"row_heading level0 row3\" >4</th>\n",
       "                        <td id=\"T_3f9b6a30_4261_11ea_a7aa_80e650232554row3_col0\" class=\"data row3 col0\" >0.25</td>\n",
       "                        <td id=\"T_3f9b6a30_4261_11ea_a7aa_80e650232554row3_col1\" class=\"data row3 col1\" >0.21</td>\n",
       "                        <td id=\"T_3f9b6a30_4261_11ea_a7aa_80e650232554row3_col2\" class=\"data row3 col2\" >0.2</td>\n",
       "            </tr>\n",
       "            <tr>\n",
       "                        <th id=\"T_3f9b6a30_4261_11ea_a7aa_80e650232554level0_row4\" class=\"row_heading level0 row4\" >5</th>\n",
       "                        <td id=\"T_3f9b6a30_4261_11ea_a7aa_80e650232554row4_col0\" class=\"data row4 col0\" >0.3</td>\n",
       "                        <td id=\"T_3f9b6a30_4261_11ea_a7aa_80e650232554row4_col1\" class=\"data row4 col1\" >0.3</td>\n",
       "                        <td id=\"T_3f9b6a30_4261_11ea_a7aa_80e650232554row4_col2\" class=\"data row4 col2\" >0.26</td>\n",
       "            </tr>\n",
       "            <tr>\n",
       "                        <th id=\"T_3f9b6a30_4261_11ea_a7aa_80e650232554level0_row5\" class=\"row_heading level0 row5\" >6</th>\n",
       "                        <td id=\"T_3f9b6a30_4261_11ea_a7aa_80e650232554row5_col0\" class=\"data row5 col0\" >0.33</td>\n",
       "                        <td id=\"T_3f9b6a30_4261_11ea_a7aa_80e650232554row5_col1\" class=\"data row5 col1\" >0.22</td>\n",
       "                        <td id=\"T_3f9b6a30_4261_11ea_a7aa_80e650232554row5_col2\" class=\"data row5 col2\" >0.26</td>\n",
       "            </tr>\n",
       "    </tbody></table>"
      ],
      "text/plain": [
       "<pandas.io.formats.style.Styler at 0x1a2af0ad50>"
      ]
     },
     "execution_count": 175,
     "metadata": {},
     "output_type": "execute_result"
    }
   ],
   "source": [
    "#Highlighting the minimum miss calculations or the minimum difference between test and train scores\n",
    "pd.DataFrame(miss_calc_dict).style.apply(highlight_min)"
   ]
  },
  {
   "cell_type": "code",
   "execution_count": 176,
   "metadata": {},
   "outputs": [
    {
     "name": "stdout",
     "output_type": "stream",
     "text": [
      "\n",
      "Metrics for \u001b[1m2000\u001b[0m posts\n"
     ]
    },
    {
     "data": {
      "text/html": [
       "<table border=\"1\" class=\"dataframe\">\n",
       "  <thead>\n",
       "    <tr style=\"text-align: right;\">\n",
       "      <th></th>\n",
       "      <th>No of evolution posts</th>\n",
       "      <th>No of Creation posts</th>\n",
       "      <th>No of predicted evolution posts</th>\n",
       "      <th>No of predicted creations posts</th>\n",
       "      <th>Baseline accuracy%</th>\n",
       "      <th>Train Scores</th>\n",
       "      <th>Test Scores</th>\n",
       "      <th>Accuracy</th>\n",
       "      <th>Mis Calculations</th>\n",
       "      <th>Sensitivity</th>\n",
       "      <th>Specificity</th>\n",
       "      <th>Precision</th>\n",
       "      <th>ROC AUC</th>\n",
       "      <th>Fit Type</th>\n",
       "    </tr>\n",
       "  </thead>\n",
       "  <tbody>\n",
       "    <tr>\n",
       "      <th>1</th>\n",
       "      <td>330</td>\n",
       "      <td>330</td>\n",
       "      <td>307</td>\n",
       "      <td>353</td>\n",
       "      <td>0.5</td>\n",
       "      <td>0.86</td>\n",
       "      <td>0.75</td>\n",
       "      <td>0.75</td>\n",
       "      <td>0.25</td>\n",
       "      <td>0.79</td>\n",
       "      <td>0.72</td>\n",
       "      <td>0.74</td>\n",
       "      <td>1.0</td>\n",
       "      <td>Overfit</td>\n",
       "    </tr>\n",
       "    <tr>\n",
       "      <th>2</th>\n",
       "      <td>330</td>\n",
       "      <td>330</td>\n",
       "      <td>317</td>\n",
       "      <td>343</td>\n",
       "      <td>0.5</td>\n",
       "      <td>0.89</td>\n",
       "      <td>0.79</td>\n",
       "      <td>0.79</td>\n",
       "      <td>0.21</td>\n",
       "      <td>0.81</td>\n",
       "      <td>0.77</td>\n",
       "      <td>0.78</td>\n",
       "      <td>1.0</td>\n",
       "      <td>Overfit</td>\n",
       "    </tr>\n",
       "    <tr>\n",
       "      <th>3</th>\n",
       "      <td>330</td>\n",
       "      <td>330</td>\n",
       "      <td>321</td>\n",
       "      <td>339</td>\n",
       "      <td>0.5</td>\n",
       "      <td>0.89</td>\n",
       "      <td>0.80</td>\n",
       "      <td>0.80</td>\n",
       "      <td>0.20</td>\n",
       "      <td>0.82</td>\n",
       "      <td>0.79</td>\n",
       "      <td>0.80</td>\n",
       "      <td>1.0</td>\n",
       "      <td>Overfit</td>\n",
       "    </tr>\n",
       "  </tbody>\n",
       "</table>"
      ],
      "text/plain": [
       "<IPython.core.display.HTML object>"
      ]
     },
     "metadata": {},
     "output_type": "display_data"
    },
    {
     "data": {
      "image/png": "[encoded data removed]",
      "text/plain": [
       "<Figure size 1296x216 with 8 Axes>"
      ]
     },
     "metadata": {},
     "output_type": "display_data"
    }
   ],
   "source": [
    "##Visualizing the scores for the best parameter selected above - ROW 4 parameter\n",
    "scores = {x:[best_scores[y][4][2][x] for y in best_scores] for x in best_scores[\"1\"][4][2]}\n",
    "display_scores(scores, 2000)"
   ]
  },
  {
   "cell_type": "code",
   "execution_count": 494,
   "metadata": {},
   "outputs": [],
   "source": [
    "## now get the co-related words using the beast parameter model for run 2\n",
    "run = 2\n",
    "evolution_sub_clean_df = pd.read_csv(\"./datasets/evolution_sub_clean_\" + str(run) + \".csv\")\n",
    "creation_sub_clean_df = pd.read_csv(\"./datasets/creation_sub_clean_\" + str(run) + \".csv\")\n",
    "all_data_df = combine(evolution_sub_clean_df, creation_sub_clean_df) \n",
    "\n",
    "##Only considering text columns -> title + selftext + columns\n",
    "get_full_row(all_data_df, feature_sets[\"3\"]) ##only using feature set 7\n",
    "\n",
    "##splitting the data\n",
    "X = all_data_df[\"full_row\"]\n",
    "y = all_data_df[\"y\"]\n",
    "X_train, X_test, y_train, y_test = train_test_split(X,y, shuffle=True, test_size=0.33, stratify=y, random_state = 42)"
   ]
  },
  {
   "cell_type": "code",
   "execution_count": 505,
   "metadata": {},
   "outputs": [
    {
     "name": "stdout",
     "output_type": "stream",
     "text": [
      "0.7985074626865671\n"
     ]
    }
   ],
   "source": [
    "tvec = TfidfVectorizer(max_features=6000,\n",
    "                       min_df=1,\n",
    "                       max_df=1.0,\n",
    "                       ngram_range=(1,5),\n",
    "                       stop_words=\"english\")\n",
    "\n",
    "train_bag_of_words = tvec.fit_transform(X_train)\n",
    "test_bag_of_words = tvec.transform(X_test)\n",
    "\n",
    "log_reg = LogisticRegressionCV(random_state=42,\n",
    "                               max_iter=600)\n",
    "\n",
    "gs_log_reg = GridSearchCV(log_reg, param_grid={}, cv=5)\n",
    "gs_log_reg.fit(train_bag_of_words, y_train)\n",
    "print(gs_log_reg.best_score_)"
   ]
  },
  {
   "cell_type": "code",
   "execution_count": 506,
   "metadata": {},
   "outputs": [],
   "source": [
    "best_model = gs_log_reg.best_estimator_"
   ]
  },
  {
   "cell_type": "code",
   "execution_count": 507,
   "metadata": {},
   "outputs": [],
   "source": [
    "sum_words = train_bag_of_words.sum(axis=0) \n",
    "words_freq = [(word, sum_words[0, idx]) for word, idx in tvec.vocabulary_.items()]\n",
    "words_df = pd.DataFrame(words_freq, columns=[\"words\", \"frequency\"])\n",
    "words_df[\"coefficient\"] = best_model.coef_[0]"
   ]
  },
  {
   "cell_type": "code",
   "execution_count": 508,
   "metadata": {},
   "outputs": [
    {
     "data": {
      "text/html": [
       "<div>\n",
       "<style scoped>\n",
       "    .dataframe tbody tr th:only-of-type {\n",
       "        vertical-align: middle;\n",
       "    }\n",
       "\n",
       "    .dataframe tbody tr th {\n",
       "        vertical-align: top;\n",
       "    }\n",
       "\n",
       "    .dataframe thead th {\n",
       "        text-align: right;\n",
       "    }\n",
       "</style>\n",
       "<table border=\"1\" class=\"dataframe\">\n",
       "  <thead>\n",
       "    <tr style=\"text-align: right;\">\n",
       "      <th></th>\n",
       "      <th>words</th>\n",
       "      <th>frequency</th>\n",
       "      <th>coefficient</th>\n",
       "    </tr>\n",
       "  </thead>\n",
       "  <tbody>\n",
       "    <tr>\n",
       "      <th>3</th>\n",
       "      <td>evolution</td>\n",
       "      <td>64.437083</td>\n",
       "      <td>-0.003179</td>\n",
       "    </tr>\n",
       "    <tr>\n",
       "      <th>63</th>\n",
       "      <td>like</td>\n",
       "      <td>22.194326</td>\n",
       "      <td>0.000703</td>\n",
       "    </tr>\n",
       "    <tr>\n",
       "      <th>139</th>\n",
       "      <td>human</td>\n",
       "      <td>21.005096</td>\n",
       "      <td>-0.000821</td>\n",
       "    </tr>\n",
       "    <tr>\n",
       "      <th>89</th>\n",
       "      <td>species</td>\n",
       "      <td>20.843108</td>\n",
       "      <td>0.001540</td>\n",
       "    </tr>\n",
       "    <tr>\n",
       "      <th>95</th>\n",
       "      <td>humans</td>\n",
       "      <td>20.330147</td>\n",
       "      <td>0.000643</td>\n",
       "    </tr>\n",
       "    <tr>\n",
       "      <th>11</th>\n",
       "      <td>evolutionary</td>\n",
       "      <td>20.169093</td>\n",
       "      <td>-0.000197</td>\n",
       "    </tr>\n",
       "    <tr>\n",
       "      <th>126</th>\n",
       "      <td>years</td>\n",
       "      <td>18.889070</td>\n",
       "      <td>0.000715</td>\n",
       "    </tr>\n",
       "    <tr>\n",
       "      <th>100</th>\n",
       "      <td>life</td>\n",
       "      <td>18.690405</td>\n",
       "      <td>-0.001171</td>\n",
       "    </tr>\n",
       "    <tr>\n",
       "      <th>22</th>\n",
       "      <td>science</td>\n",
       "      <td>18.244105</td>\n",
       "      <td>-0.001488</td>\n",
       "    </tr>\n",
       "    <tr>\n",
       "      <th>392</th>\n",
       "      <td>creation</td>\n",
       "      <td>17.915703</td>\n",
       "      <td>0.000259</td>\n",
       "    </tr>\n",
       "    <tr>\n",
       "      <th>225</th>\n",
       "      <td>new</td>\n",
       "      <td>16.894889</td>\n",
       "      <td>-0.000433</td>\n",
       "    </tr>\n",
       "    <tr>\n",
       "      <th>59</th>\n",
       "      <td>think</td>\n",
       "      <td>14.912949</td>\n",
       "      <td>-0.000542</td>\n",
       "    </tr>\n",
       "    <tr>\n",
       "      <th>298</th>\n",
       "      <td>earth</td>\n",
       "      <td>14.372460</td>\n",
       "      <td>-0.001184</td>\n",
       "    </tr>\n",
       "    <tr>\n",
       "      <th>117</th>\n",
       "      <td>god</td>\n",
       "      <td>14.178559</td>\n",
       "      <td>-0.000144</td>\n",
       "    </tr>\n",
       "    <tr>\n",
       "      <th>99</th>\n",
       "      <td>dna</td>\n",
       "      <td>13.447232</td>\n",
       "      <td>0.002952</td>\n",
       "    </tr>\n",
       "    <tr>\n",
       "      <th>30</th>\n",
       "      <td>people</td>\n",
       "      <td>13.208708</td>\n",
       "      <td>-0.000538</td>\n",
       "    </tr>\n",
       "    <tr>\n",
       "      <th>53</th>\n",
       "      <td>evidence</td>\n",
       "      <td>13.170587</td>\n",
       "      <td>0.000439</td>\n",
       "    </tr>\n",
       "    <tr>\n",
       "      <th>311</th>\n",
       "      <td>know</td>\n",
       "      <td>12.951804</td>\n",
       "      <td>-0.003401</td>\n",
       "    </tr>\n",
       "    <tr>\n",
       "      <th>300</th>\n",
       "      <td>time</td>\n",
       "      <td>12.834402</td>\n",
       "      <td>-0.000110</td>\n",
       "    </tr>\n",
       "    <tr>\n",
       "      <th>239</th>\n",
       "      <td>theory</td>\n",
       "      <td>12.579914</td>\n",
       "      <td>-0.000642</td>\n",
       "    </tr>\n",
       "  </tbody>\n",
       "</table>\n",
       "</div>"
      ],
      "text/plain": [
       "            words  frequency  coefficient\n",
       "3       evolution  64.437083    -0.003179\n",
       "63           like  22.194326     0.000703\n",
       "139         human  21.005096    -0.000821\n",
       "89        species  20.843108     0.001540\n",
       "95         humans  20.330147     0.000643\n",
       "11   evolutionary  20.169093    -0.000197\n",
       "126         years  18.889070     0.000715\n",
       "100          life  18.690405    -0.001171\n",
       "22        science  18.244105    -0.001488\n",
       "392      creation  17.915703     0.000259\n",
       "225           new  16.894889    -0.000433\n",
       "59          think  14.912949    -0.000542\n",
       "298         earth  14.372460    -0.001184\n",
       "117           god  14.178559    -0.000144\n",
       "99            dna  13.447232     0.002952\n",
       "30         people  13.208708    -0.000538\n",
       "53       evidence  13.170587     0.000439\n",
       "311          know  12.951804    -0.003401\n",
       "300          time  12.834402    -0.000110\n",
       "239        theory  12.579914    -0.000642"
      ]
     },
     "execution_count": 508,
     "metadata": {},
     "output_type": "execute_result"
    }
   ],
   "source": [
    "#looking at posts by looking at the max times its apearing on the posts.\n",
    "#list of top recurring words\n",
    "words_df.sort_values(by=\"frequency\", ascending=False)[:20]"
   ]
  },
  {
   "cell_type": "code",
   "execution_count": 509,
   "metadata": {},
   "outputs": [
    {
     "data": {
      "text/html": [
       "<div>\n",
       "<style scoped>\n",
       "    .dataframe tbody tr th:only-of-type {\n",
       "        vertical-align: middle;\n",
       "    }\n",
       "\n",
       "    .dataframe tbody tr th {\n",
       "        vertical-align: top;\n",
       "    }\n",
       "\n",
       "    .dataframe thead th {\n",
       "        text-align: right;\n",
       "    }\n",
       "</style>\n",
       "<table border=\"1\" class=\"dataframe\">\n",
       "  <thead>\n",
       "    <tr style=\"text-align: right;\">\n",
       "      <th></th>\n",
       "      <th>words</th>\n",
       "      <th>frequency</th>\n",
       "      <th>coefficient</th>\n",
       "    </tr>\n",
       "  </thead>\n",
       "  <tbody>\n",
       "    <tr>\n",
       "      <th>1771</th>\n",
       "      <td>transitional</td>\n",
       "      <td>1.678743</td>\n",
       "      <td>-0.060274</td>\n",
       "    </tr>\n",
       "    <tr>\n",
       "      <th>5145</th>\n",
       "      <td>current scientific</td>\n",
       "      <td>0.196088</td>\n",
       "      <td>-0.045009</td>\n",
       "    </tr>\n",
       "    <tr>\n",
       "      <th>1115</th>\n",
       "      <td>eventually</td>\n",
       "      <td>2.442765</td>\n",
       "      <td>0.046429</td>\n",
       "    </tr>\n",
       "  </tbody>\n",
       "</table>\n",
       "</div>"
      ],
      "text/plain": [
       "                   words  frequency  coefficient\n",
       "1771        transitional   1.678743    -0.060274\n",
       "5145  current scientific   0.196088    -0.045009\n",
       "1115          eventually   2.442765     0.046429"
      ]
     },
     "execution_count": 509,
     "metadata": {},
     "output_type": "execute_result"
    }
   ],
   "source": [
    "#Looking at the top words/bag of words that co-relate to predict the target value\n",
    "words_df[words_df[\"coefficient\"].abs() > 0.04].sort_values(by=\"coefficient\")"
   ]
  },
  {
   "cell_type": "code",
   "execution_count": 510,
   "metadata": {},
   "outputs": [],
   "source": [
    "##predicting all the values\n",
    "all_data_df[\"y_hat\"] = best_model.predict(tvec.transform(X))"
   ]
  },
  {
   "cell_type": "code",
   "execution_count": 511,
   "metadata": {},
   "outputs": [
    {
     "data": {
      "text/plain": [
       "(311, 17)"
      ]
     },
     "execution_count": 511,
     "metadata": {},
     "output_type": "execute_result"
    }
   ],
   "source": [
    "##How many went wrong??\n",
    "all_data_df[all_data_df[\"y\"] != all_data_df[\"y_hat\"]].shape"
   ]
  },
  {
   "cell_type": "code",
   "execution_count": 512,
   "metadata": {},
   "outputs": [
    {
     "data": {
      "text/plain": [
       "(1689, 17)"
      ]
     },
     "execution_count": 512,
     "metadata": {},
     "output_type": "execute_result"
    }
   ],
   "source": [
    "# How many went right?\n",
    "all_data_df[all_data_df[\"y\"] == all_data_df[\"y_hat\"]].shape"
   ]
  },
  {
   "cell_type": "code",
   "execution_count": 513,
   "metadata": {},
   "outputs": [
    {
     "data": {
      "text/plain": [
       "1    1015\n",
       "0     985\n",
       "Name: y_hat, dtype: int64"
      ]
     },
     "execution_count": 513,
     "metadata": {},
     "output_type": "execute_result"
    }
   ],
   "source": [
    "#actual no of 1's and 0's\n",
    "all_data_df[\"y_hat\"].value_counts()"
   ]
  },
  {
   "cell_type": "code",
   "execution_count": 514,
   "metadata": {},
   "outputs": [],
   "source": [
    "## Trying to improve the score by using lema\n",
    "all_data_df[\"lemma\"] = all_data_df['full_row'].map(lemmatize)"
   ]
  },
  {
   "cell_type": "code",
   "execution_count": 515,
   "metadata": {},
   "outputs": [],
   "source": [
    "##splitting the data\n",
    "X = all_data_df[\"lemma\"]\n",
    "y = all_data_df[\"y\"]\n",
    "X_train, X_test, y_train, y_test = train_test_split(X,y, shuffle=True, test_size=0.33, stratify=y, random_state = 42)"
   ]
  },
  {
   "cell_type": "code",
   "execution_count": 520,
   "metadata": {},
   "outputs": [
    {
     "name": "stdout",
     "output_type": "stream",
     "text": [
      "0.7910447761194029\n"
     ]
    }
   ],
   "source": [
    "tvec = TfidfVectorizer(max_features=6000,\n",
    "                       min_df=1,\n",
    "                       max_df=1.0,\n",
    "                       ngram_range=(1,5),\n",
    "                       stop_words=\"english\")\n",
    "\n",
    "train_bag_of_words = tvec.fit_transform(X_train)\n",
    "test_bag_of_words = tvec.transform(X_test)\n",
    "\n",
    "log_reg = LogisticRegressionCV(random_state=42,\n",
    "                               max_iter=600)\n",
    "\n",
    "gs_log_reg = GridSearchCV(log_reg, param_grid={}, cv=5)\n",
    "gs_log_reg.fit(train_bag_of_words, y_train)\n",
    "print(gs_log_reg.best_score_)"
   ]
  },
  {
   "cell_type": "code",
   "execution_count": 521,
   "metadata": {},
   "outputs": [],
   "source": [
    "## Trying to improve the score by using stemma\n",
    "all_data_df[\"stemmer\"] = all_data_df['full_row'].map(stemmer)"
   ]
  },
  {
   "cell_type": "code",
   "execution_count": 522,
   "metadata": {},
   "outputs": [],
   "source": [
    "##splitting the data\n",
    "X = all_data_df[\"stemmer\"]\n",
    "y = all_data_df[\"y\"]\n",
    "X_train, X_test, y_train, y_test = train_test_split(X,y, shuffle=True, test_size=0.33, stratify=y, random_state = 42)"
   ]
  },
  {
   "cell_type": "code",
   "execution_count": 525,
   "metadata": {},
   "outputs": [
    {
     "name": "stdout",
     "output_type": "stream",
     "text": [
      "0.7910447761194029\n"
     ]
    }
   ],
   "source": [
    "tvec = TfidfVectorizer(max_features=6000,\n",
    "                       min_df=1,\n",
    "                       max_df=1.0,\n",
    "                       ngram_range=(1,5),\n",
    "                       stop_words=\"english\")\n",
    "\n",
    "train_bag_of_words = tvec.fit_transform(X_train)\n",
    "test_bag_of_words = tvec.transform(X_test)\n",
    "\n",
    "log_reg = LogisticRegressionCV(random_state=42,\n",
    "                               max_iter=600)\n",
    "\n",
    "gs_log_reg = GridSearchCV(log_reg, param_grid={}, cv=5)\n",
    "gs_log_reg.fit(train_bag_of_words, y_train)\n",
    "print(gs_log_reg.best_score_)"
   ]
  },
  {
   "cell_type": "code",
   "execution_count": 524,
   "metadata": {},
   "outputs": [],
   "source": [
    "## Lemmatizing is not improving"
   ]
  },
  {
   "cell_type": "markdown",
   "metadata": {},
   "source": [
    "# FINAL MODEL USED FOR CLASSIFYING DEBATE EVOLUTION"
   ]
  },
  {
   "cell_type": "code",
   "execution_count": 268,
   "metadata": {},
   "outputs": [],
   "source": [
    "#Trying with 4000 posts\n",
    "## now get the co-related words using the beast parameter model for run 2\n",
    "run = 3\n",
    "evolution_sub_clean_df = pd.read_csv(\"./datasets/evolution_sub_clean_\" + str(run) + \".csv\")\n",
    "creation_sub_clean_df = pd.read_csv(\"./datasets/creation_sub_clean_\" + str(run) + \".csv\")\n",
    "all_data_df = combine(evolution_sub_clean_df, creation_sub_clean_df) \n",
    "all_data_df.reset_index(inplace=True)\n",
    "\n",
    "##Only considering text columns -> title + selftext + columns\n",
    "get_full_row(all_data_df, feature_sets[\"3\"]) ##only using feature set 7\n",
    "\n",
    "##splitting the data\n",
    "X = all_data_df[\"full_row\"]\n",
    "y = all_data_df[\"y\"]\n",
    "X_train, X_test, y_train, y_test = train_test_split(X,y, shuffle=True, test_size=0.33, stratify=y, random_state = 42)"
   ]
  },
  {
   "cell_type": "code",
   "execution_count": 269,
   "metadata": {},
   "outputs": [
    {
     "name": "stdout",
     "output_type": "stream",
     "text": [
      "0.8120240480961923\n"
     ]
    }
   ],
   "source": [
    "tvec = TfidfVectorizer(max_features=5000,\n",
    "                       min_df=1,\n",
    "                       max_df=1.0,\n",
    "                       ngram_range=(1,3),\n",
    "                       stop_words=\"english\")\n",
    "\n",
    "train_bag_of_words = tvec.fit_transform(X_train)\n",
    "test_bag_of_words = tvec.transform(X_test)\n",
    "\n",
    "log_reg = LogisticRegression(random_state=42,\n",
    "                               max_iter=1000)\n",
    "\n",
    "gs_log_reg = GridSearchCV(log_reg, param_grid={}, cv=5)\n",
    "gs_log_reg.fit(train_bag_of_words, y_train)\n",
    "print(gs_log_reg.best_score_)"
   ]
  },
  {
   "cell_type": "code",
   "execution_count": 270,
   "metadata": {},
   "outputs": [],
   "source": [
    "best_model = gs_log_reg.best_estimator_"
   ]
  },
  {
   "cell_type": "code",
   "execution_count": 271,
   "metadata": {},
   "outputs": [
    {
     "data": {
      "text/plain": [
       "0.9150300601202405"
      ]
     },
     "execution_count": 271,
     "metadata": {},
     "output_type": "execute_result"
    }
   ],
   "source": [
    "best_model.score(train_bag_of_words, y_train)"
   ]
  },
  {
   "cell_type": "code",
   "execution_count": 272,
   "metadata": {},
   "outputs": [
    {
     "name": "stdout",
     "output_type": "stream",
     "text": [
      "6.5480856538761145\n"
     ]
    }
   ],
   "source": [
    "print(log_loss(y_test, best_model.predict(test_bag_of_words)))"
   ]
  },
  {
   "cell_type": "code",
   "execution_count": 273,
   "metadata": {},
   "outputs": [
    {
     "data": {
      "text/plain": [
       "0.8104149715215623"
      ]
     },
     "execution_count": 273,
     "metadata": {},
     "output_type": "execute_result"
    }
   ],
   "source": [
    "best_model.score(test_bag_of_words, y_test)"
   ]
  },
  {
   "cell_type": "code",
   "execution_count": 274,
   "metadata": {},
   "outputs": [],
   "source": [
    "sum_words = train_bag_of_words.sum(axis=0) \n",
    "words_freq = [(word, sum_words[0, idx]) for word, idx in tvec.vocabulary_.items()]\n",
    "words_df = pd.DataFrame(words_freq, columns=[\"words\", \"frequency\"])\n",
    "words_df[\"coefficient\"] = best_model.coef_[0]"
   ]
  },
  {
   "cell_type": "code",
   "execution_count": 275,
   "metadata": {},
   "outputs": [
    {
     "data": {
      "text/html": [
       "<div>\n",
       "<style scoped>\n",
       "    .dataframe tbody tr th:only-of-type {\n",
       "        vertical-align: middle;\n",
       "    }\n",
       "\n",
       "    .dataframe tbody tr th {\n",
       "        vertical-align: top;\n",
       "    }\n",
       "\n",
       "    .dataframe thead th {\n",
       "        text-align: right;\n",
       "    }\n",
       "</style>\n",
       "<table border=\"1\" class=\"dataframe\">\n",
       "  <thead>\n",
       "    <tr style=\"text-align: right;\">\n",
       "      <th></th>\n",
       "      <th>words</th>\n",
       "      <th>frequency</th>\n",
       "      <th>coefficient</th>\n",
       "    </tr>\n",
       "  </thead>\n",
       "  <tbody>\n",
       "    <tr>\n",
       "      <th>65</th>\n",
       "      <td>evolution</td>\n",
       "      <td>122.777086</td>\n",
       "      <td>-0.366453</td>\n",
       "    </tr>\n",
       "    <tr>\n",
       "      <th>430</th>\n",
       "      <td>like</td>\n",
       "      <td>41.966752</td>\n",
       "      <td>0.038246</td>\n",
       "    </tr>\n",
       "    <tr>\n",
       "      <th>275</th>\n",
       "      <td>species</td>\n",
       "      <td>41.291580</td>\n",
       "      <td>-0.202384</td>\n",
       "    </tr>\n",
       "    <tr>\n",
       "      <th>141</th>\n",
       "      <td>human</td>\n",
       "      <td>41.061350</td>\n",
       "      <td>0.493684</td>\n",
       "    </tr>\n",
       "    <tr>\n",
       "      <th>145</th>\n",
       "      <td>humans</td>\n",
       "      <td>39.749390</td>\n",
       "      <td>-0.079946</td>\n",
       "    </tr>\n",
       "    <tr>\n",
       "      <th>36</th>\n",
       "      <td>life</td>\n",
       "      <td>38.696162</td>\n",
       "      <td>0.083577</td>\n",
       "    </tr>\n",
       "    <tr>\n",
       "      <th>146</th>\n",
       "      <td>evolutionary</td>\n",
       "      <td>36.884825</td>\n",
       "      <td>0.121815</td>\n",
       "    </tr>\n",
       "    <tr>\n",
       "      <th>25</th>\n",
       "      <td>years</td>\n",
       "      <td>34.567527</td>\n",
       "      <td>0.129025</td>\n",
       "    </tr>\n",
       "    <tr>\n",
       "      <th>800</th>\n",
       "      <td>science</td>\n",
       "      <td>32.581020</td>\n",
       "      <td>0.048230</td>\n",
       "    </tr>\n",
       "    <tr>\n",
       "      <th>657</th>\n",
       "      <td>new</td>\n",
       "      <td>32.551487</td>\n",
       "      <td>-0.332295</td>\n",
       "    </tr>\n",
       "    <tr>\n",
       "      <th>148</th>\n",
       "      <td>earth</td>\n",
       "      <td>30.636580</td>\n",
       "      <td>-0.001216</td>\n",
       "    </tr>\n",
       "    <tr>\n",
       "      <th>0</th>\n",
       "      <td>creation</td>\n",
       "      <td>29.919812</td>\n",
       "      <td>-0.034223</td>\n",
       "    </tr>\n",
       "    <tr>\n",
       "      <th>45</th>\n",
       "      <td>god</td>\n",
       "      <td>29.733707</td>\n",
       "      <td>-0.014858</td>\n",
       "    </tr>\n",
       "    <tr>\n",
       "      <th>562</th>\n",
       "      <td>theory</td>\n",
       "      <td>27.137182</td>\n",
       "      <td>0.036378</td>\n",
       "    </tr>\n",
       "    <tr>\n",
       "      <th>310</th>\n",
       "      <td>think</td>\n",
       "      <td>27.003553</td>\n",
       "      <td>0.435128</td>\n",
       "    </tr>\n",
       "    <tr>\n",
       "      <th>517</th>\n",
       "      <td>evidence</td>\n",
       "      <td>26.738219</td>\n",
       "      <td>-0.684854</td>\n",
       "    </tr>\n",
       "    <tr>\n",
       "      <th>95</th>\n",
       "      <td>people</td>\n",
       "      <td>26.314372</td>\n",
       "      <td>-0.107359</td>\n",
       "    </tr>\n",
       "    <tr>\n",
       "      <th>320</th>\n",
       "      <td>know</td>\n",
       "      <td>26.311301</td>\n",
       "      <td>0.016256</td>\n",
       "    </tr>\n",
       "    <tr>\n",
       "      <th>110</th>\n",
       "      <td>dna</td>\n",
       "      <td>24.973350</td>\n",
       "      <td>0.076092</td>\n",
       "    </tr>\n",
       "    <tr>\n",
       "      <th>349</th>\n",
       "      <td>time</td>\n",
       "      <td>24.686532</td>\n",
       "      <td>0.029400</td>\n",
       "    </tr>\n",
       "  </tbody>\n",
       "</table>\n",
       "</div>"
      ],
      "text/plain": [
       "            words   frequency  coefficient\n",
       "65      evolution  122.777086    -0.366453\n",
       "430          like   41.966752     0.038246\n",
       "275       species   41.291580    -0.202384\n",
       "141         human   41.061350     0.493684\n",
       "145        humans   39.749390    -0.079946\n",
       "36           life   38.696162     0.083577\n",
       "146  evolutionary   36.884825     0.121815\n",
       "25          years   34.567527     0.129025\n",
       "800       science   32.581020     0.048230\n",
       "657           new   32.551487    -0.332295\n",
       "148         earth   30.636580    -0.001216\n",
       "0        creation   29.919812    -0.034223\n",
       "45            god   29.733707    -0.014858\n",
       "562        theory   27.137182     0.036378\n",
       "310         think   27.003553     0.435128\n",
       "517      evidence   26.738219    -0.684854\n",
       "95         people   26.314372    -0.107359\n",
       "320          know   26.311301     0.016256\n",
       "110           dna   24.973350     0.076092\n",
       "349          time   24.686532     0.029400"
      ]
     },
     "execution_count": 275,
     "metadata": {},
     "output_type": "execute_result"
    }
   ],
   "source": [
    "#looking at posts by looking at the max times its apearing on the posts.\n",
    "#list of top recurring words\n",
    "words_df.sort_values(by=\"frequency\", ascending=False)[:20]"
   ]
  },
  {
   "cell_type": "code",
   "execution_count": 276,
   "metadata": {},
   "outputs": [
    {
     "data": {
      "text/html": [
       "<div>\n",
       "<style scoped>\n",
       "    .dataframe tbody tr th:only-of-type {\n",
       "        vertical-align: middle;\n",
       "    }\n",
       "\n",
       "    .dataframe tbody tr th {\n",
       "        vertical-align: top;\n",
       "    }\n",
       "\n",
       "    .dataframe thead th {\n",
       "        text-align: right;\n",
       "    }\n",
       "</style>\n",
       "<table border=\"1\" class=\"dataframe\">\n",
       "  <thead>\n",
       "    <tr style=\"text-align: right;\">\n",
       "      <th></th>\n",
       "      <th>words</th>\n",
       "      <th>frequency</th>\n",
       "      <th>coefficient</th>\n",
       "    </tr>\n",
       "  </thead>\n",
       "  <tbody>\n",
       "    <tr>\n",
       "      <th>2</th>\n",
       "      <td>dr</td>\n",
       "      <td>14.740440</td>\n",
       "      <td>0.577194</td>\n",
       "    </tr>\n",
       "    <tr>\n",
       "      <th>13</th>\n",
       "      <td>recently</td>\n",
       "      <td>5.922311</td>\n",
       "      <td>0.687287</td>\n",
       "    </tr>\n",
       "    <tr>\n",
       "      <th>60</th>\n",
       "      <td>years ago</td>\n",
       "      <td>11.528503</td>\n",
       "      <td>1.064061</td>\n",
       "    </tr>\n",
       "    <tr>\n",
       "      <th>102</th>\n",
       "      <td>casual</td>\n",
       "      <td>0.753098</td>\n",
       "      <td>0.685475</td>\n",
       "    </tr>\n",
       "    <tr>\n",
       "      <th>103</th>\n",
       "      <td>explanation</td>\n",
       "      <td>7.482519</td>\n",
       "      <td>0.642215</td>\n",
       "    </tr>\n",
       "    <tr>\n",
       "      <th>115</th>\n",
       "      <td>ultimate</td>\n",
       "      <td>2.151800</td>\n",
       "      <td>0.648245</td>\n",
       "    </tr>\n",
       "    <tr>\n",
       "      <th>122</th>\n",
       "      <td>comments</td>\n",
       "      <td>8.737443</td>\n",
       "      <td>1.416079</td>\n",
       "    </tr>\n",
       "    <tr>\n",
       "      <th>156</th>\n",
       "      <td>gather</td>\n",
       "      <td>0.846111</td>\n",
       "      <td>0.588739</td>\n",
       "    </tr>\n",
       "    <tr>\n",
       "      <th>159</th>\n",
       "      <td>recognized</td>\n",
       "      <td>0.840553</td>\n",
       "      <td>0.545822</td>\n",
       "    </tr>\n",
       "    <tr>\n",
       "      <th>173</th>\n",
       "      <td>strong</td>\n",
       "      <td>3.031977</td>\n",
       "      <td>0.575386</td>\n",
       "    </tr>\n",
       "    <tr>\n",
       "      <th>260</th>\n",
       "      <td>make</td>\n",
       "      <td>17.836192</td>\n",
       "      <td>0.937645</td>\n",
       "    </tr>\n",
       "    <tr>\n",
       "      <th>262</th>\n",
       "      <td>climate</td>\n",
       "      <td>3.406059</td>\n",
       "      <td>0.692773</td>\n",
       "    </tr>\n",
       "    <tr>\n",
       "      <th>277</th>\n",
       "      <td>materials</td>\n",
       "      <td>0.590391</td>\n",
       "      <td>1.007541</td>\n",
       "    </tr>\n",
       "    <tr>\n",
       "      <th>350</th>\n",
       "      <td>according</td>\n",
       "      <td>4.691765</td>\n",
       "      <td>0.746387</td>\n",
       "    </tr>\n",
       "    <tr>\n",
       "      <th>408</th>\n",
       "      <td>stratification</td>\n",
       "      <td>1.785448</td>\n",
       "      <td>1.253432</td>\n",
       "    </tr>\n",
       "    <tr>\n",
       "      <th>410</th>\n",
       "      <td>kids</td>\n",
       "      <td>2.844872</td>\n",
       "      <td>0.615528</td>\n",
       "    </tr>\n",
       "    <tr>\n",
       "      <th>414</th>\n",
       "      <td>thing</td>\n",
       "      <td>10.502174</td>\n",
       "      <td>0.683712</td>\n",
       "    </tr>\n",
       "    <tr>\n",
       "      <th>429</th>\n",
       "      <td>civilizations</td>\n",
       "      <td>1.036176</td>\n",
       "      <td>0.545144</td>\n",
       "    </tr>\n",
       "    <tr>\n",
       "      <th>437</th>\n",
       "      <td>indicate</td>\n",
       "      <td>0.897135</td>\n",
       "      <td>1.338511</td>\n",
       "    </tr>\n",
       "    <tr>\n",
       "      <th>440</th>\n",
       "      <td>real</td>\n",
       "      <td>9.093806</td>\n",
       "      <td>0.882509</td>\n",
       "    </tr>\n",
       "  </tbody>\n",
       "</table>\n",
       "</div>"
      ],
      "text/plain": [
       "              words  frequency  coefficient\n",
       "2                dr  14.740440     0.577194\n",
       "13         recently   5.922311     0.687287\n",
       "60        years ago  11.528503     1.064061\n",
       "102          casual   0.753098     0.685475\n",
       "103     explanation   7.482519     0.642215\n",
       "115        ultimate   2.151800     0.648245\n",
       "122        comments   8.737443     1.416079\n",
       "156          gather   0.846111     0.588739\n",
       "159      recognized   0.840553     0.545822\n",
       "173          strong   3.031977     0.575386\n",
       "260            make  17.836192     0.937645\n",
       "262         climate   3.406059     0.692773\n",
       "277       materials   0.590391     1.007541\n",
       "350       according   4.691765     0.746387\n",
       "408  stratification   1.785448     1.253432\n",
       "410            kids   2.844872     0.615528\n",
       "414           thing  10.502174     0.683712\n",
       "429   civilizations   1.036176     0.545144\n",
       "437        indicate   0.897135     1.338511\n",
       "440            real   9.093806     0.882509"
      ]
     },
     "execution_count": 276,
     "metadata": {},
     "output_type": "execute_result"
    }
   ],
   "source": [
    "#Looking at the top words/bag of words that co-relate to predict the target value\n",
    "words_df[words_df[\"coefficient\"] > 0.5][:20]"
   ]
  },
  {
   "cell_type": "code",
   "execution_count": 277,
   "metadata": {},
   "outputs": [
    {
     "data": {
      "text/html": [
       "<div>\n",
       "<style scoped>\n",
       "    .dataframe tbody tr th:only-of-type {\n",
       "        vertical-align: middle;\n",
       "    }\n",
       "\n",
       "    .dataframe tbody tr th {\n",
       "        vertical-align: top;\n",
       "    }\n",
       "\n",
       "    .dataframe thead th {\n",
       "        text-align: right;\n",
       "    }\n",
       "</style>\n",
       "<table border=\"1\" class=\"dataframe\">\n",
       "  <thead>\n",
       "    <tr style=\"text-align: right;\">\n",
       "      <th></th>\n",
       "      <th>words</th>\n",
       "      <th>frequency</th>\n",
       "      <th>coefficient</th>\n",
       "    </tr>\n",
       "  </thead>\n",
       "  <tbody>\n",
       "    <tr>\n",
       "      <th>63</th>\n",
       "      <td>saw</td>\n",
       "      <td>4.137701</td>\n",
       "      <td>-0.911342</td>\n",
       "    </tr>\n",
       "    <tr>\n",
       "      <th>129</th>\n",
       "      <td>app</td>\n",
       "      <td>1.274277</td>\n",
       "      <td>-0.579539</td>\n",
       "    </tr>\n",
       "    <tr>\n",
       "      <th>170</th>\n",
       "      <td>evolving</td>\n",
       "      <td>6.089586</td>\n",
       "      <td>-0.933814</td>\n",
       "    </tr>\n",
       "    <tr>\n",
       "      <th>171</th>\n",
       "      <td>quite</td>\n",
       "      <td>4.996711</td>\n",
       "      <td>-1.229193</td>\n",
       "    </tr>\n",
       "    <tr>\n",
       "      <th>174</th>\n",
       "      <td>survived</td>\n",
       "      <td>2.382616</td>\n",
       "      <td>-0.656496</td>\n",
       "    </tr>\n",
       "    <tr>\n",
       "      <th>175</th>\n",
       "      <td>asian</td>\n",
       "      <td>1.639546</td>\n",
       "      <td>-1.581659</td>\n",
       "    </tr>\n",
       "    <tr>\n",
       "      <th>179</th>\n",
       "      <td>ancient</td>\n",
       "      <td>20.803068</td>\n",
       "      <td>-0.536424</td>\n",
       "    </tr>\n",
       "    <tr>\n",
       "      <th>182</th>\n",
       "      <td>extreme</td>\n",
       "      <td>1.838239</td>\n",
       "      <td>-1.337052</td>\n",
       "    </tr>\n",
       "    <tr>\n",
       "      <th>187</th>\n",
       "      <td>bigger</td>\n",
       "      <td>2.925830</td>\n",
       "      <td>-0.539301</td>\n",
       "    </tr>\n",
       "    <tr>\n",
       "      <th>210</th>\n",
       "      <td>opposed</td>\n",
       "      <td>2.313960</td>\n",
       "      <td>-0.814191</td>\n",
       "    </tr>\n",
       "    <tr>\n",
       "      <th>212</th>\n",
       "      <td>adhere</td>\n",
       "      <td>0.720685</td>\n",
       "      <td>-0.565134</td>\n",
       "    </tr>\n",
       "    <tr>\n",
       "      <th>280</th>\n",
       "      <td>prove</td>\n",
       "      <td>5.828425</td>\n",
       "      <td>-0.501317</td>\n",
       "    </tr>\n",
       "    <tr>\n",
       "      <th>287</th>\n",
       "      <td>structural</td>\n",
       "      <td>1.349895</td>\n",
       "      <td>-0.573859</td>\n",
       "    </tr>\n",
       "    <tr>\n",
       "      <th>403</th>\n",
       "      <td>populations</td>\n",
       "      <td>2.408573</td>\n",
       "      <td>-1.045704</td>\n",
       "    </tr>\n",
       "    <tr>\n",
       "      <th>404</th>\n",
       "      <td>larger</td>\n",
       "      <td>2.855048</td>\n",
       "      <td>-0.599764</td>\n",
       "    </tr>\n",
       "    <tr>\n",
       "      <th>417</th>\n",
       "      <td>accumulation</td>\n",
       "      <td>0.452144</td>\n",
       "      <td>-0.772767</td>\n",
       "    </tr>\n",
       "    <tr>\n",
       "      <th>467</th>\n",
       "      <td>disagrees</td>\n",
       "      <td>0.346732</td>\n",
       "      <td>-0.670739</td>\n",
       "    </tr>\n",
       "    <tr>\n",
       "      <th>470</th>\n",
       "      <td>th</td>\n",
       "      <td>2.655266</td>\n",
       "      <td>-0.509870</td>\n",
       "    </tr>\n",
       "    <tr>\n",
       "      <th>471</th>\n",
       "      <td>century</td>\n",
       "      <td>1.487077</td>\n",
       "      <td>-1.168293</td>\n",
       "    </tr>\n",
       "    <tr>\n",
       "      <th>472</th>\n",
       "      <td>trying</td>\n",
       "      <td>8.536526</td>\n",
       "      <td>-0.725929</td>\n",
       "    </tr>\n",
       "  </tbody>\n",
       "</table>\n",
       "</div>"
      ],
      "text/plain": [
       "            words  frequency  coefficient\n",
       "63            saw   4.137701    -0.911342\n",
       "129           app   1.274277    -0.579539\n",
       "170      evolving   6.089586    -0.933814\n",
       "171         quite   4.996711    -1.229193\n",
       "174      survived   2.382616    -0.656496\n",
       "175         asian   1.639546    -1.581659\n",
       "179       ancient  20.803068    -0.536424\n",
       "182       extreme   1.838239    -1.337052\n",
       "187        bigger   2.925830    -0.539301\n",
       "210       opposed   2.313960    -0.814191\n",
       "212        adhere   0.720685    -0.565134\n",
       "280         prove   5.828425    -0.501317\n",
       "287    structural   1.349895    -0.573859\n",
       "403   populations   2.408573    -1.045704\n",
       "404        larger   2.855048    -0.599764\n",
       "417  accumulation   0.452144    -0.772767\n",
       "467     disagrees   0.346732    -0.670739\n",
       "470            th   2.655266    -0.509870\n",
       "471       century   1.487077    -1.168293\n",
       "472        trying   8.536526    -0.725929"
      ]
     },
     "execution_count": 277,
     "metadata": {},
     "output_type": "execute_result"
    }
   ],
   "source": [
    "words_df[words_df[\"coefficient\"] < -0.5][:20]"
   ]
  },
  {
   "cell_type": "code",
   "execution_count": 278,
   "metadata": {},
   "outputs": [
    {
     "data": {
      "text/html": [
       "<div>\n",
       "<style scoped>\n",
       "    .dataframe tbody tr th:only-of-type {\n",
       "        vertical-align: middle;\n",
       "    }\n",
       "\n",
       "    .dataframe tbody tr th {\n",
       "        vertical-align: top;\n",
       "    }\n",
       "\n",
       "    .dataframe thead th {\n",
       "        text-align: right;\n",
       "    }\n",
       "</style>\n",
       "<table border=\"1\" class=\"dataframe\">\n",
       "  <thead>\n",
       "    <tr style=\"text-align: right;\">\n",
       "      <th></th>\n",
       "      <th>words</th>\n",
       "      <th>frequency</th>\n",
       "      <th>coefficient</th>\n",
       "    </tr>\n",
       "  </thead>\n",
       "  <tbody>\n",
       "    <tr>\n",
       "      <th>0</th>\n",
       "      <td>creation</td>\n",
       "      <td>29.919812</td>\n",
       "      <td>-0.034223</td>\n",
       "    </tr>\n",
       "    <tr>\n",
       "      <th>1</th>\n",
       "      <td>member</td>\n",
       "      <td>1.956548</td>\n",
       "      <td>-0.174367</td>\n",
       "    </tr>\n",
       "    <tr>\n",
       "      <th>3</th>\n",
       "      <td>luke</td>\n",
       "      <td>1.563262</td>\n",
       "      <td>-0.166313</td>\n",
       "    </tr>\n",
       "    <tr>\n",
       "      <th>4</th>\n",
       "      <td>pm</td>\n",
       "      <td>1.353980</td>\n",
       "      <td>-0.199074</td>\n",
       "    </tr>\n",
       "    <tr>\n",
       "      <th>6</th>\n",
       "      <td>internet</td>\n",
       "      <td>2.245892</td>\n",
       "      <td>-0.109055</td>\n",
       "    </tr>\n",
       "    <tr>\n",
       "      <th>...</th>\n",
       "      <td>...</td>\n",
       "      <td>...</td>\n",
       "      <td>...</td>\n",
       "    </tr>\n",
       "    <tr>\n",
       "      <th>4995</th>\n",
       "      <td>masculine feminine</td>\n",
       "      <td>0.153749</td>\n",
       "      <td>0.118696</td>\n",
       "    </tr>\n",
       "    <tr>\n",
       "      <th>4996</th>\n",
       "      <td>inborn evolved</td>\n",
       "      <td>0.138374</td>\n",
       "      <td>0.266867</td>\n",
       "    </tr>\n",
       "    <tr>\n",
       "      <th>4997</th>\n",
       "      <td>transmembrane</td>\n",
       "      <td>0.532684</td>\n",
       "      <td>0.045418</td>\n",
       "    </tr>\n",
       "    <tr>\n",
       "      <th>4998</th>\n",
       "      <td>bubbles</td>\n",
       "      <td>0.117404</td>\n",
       "      <td>-0.024573</td>\n",
       "    </tr>\n",
       "    <tr>\n",
       "      <th>4999</th>\n",
       "      <td>sentinelese</td>\n",
       "      <td>0.321684</td>\n",
       "      <td>0.112650</td>\n",
       "    </tr>\n",
       "  </tbody>\n",
       "</table>\n",
       "<p>4064 rows × 3 columns</p>\n",
       "</div>"
      ],
      "text/plain": [
       "                   words  frequency  coefficient\n",
       "0               creation  29.919812    -0.034223\n",
       "1                 member   1.956548    -0.174367\n",
       "3                   luke   1.563262    -0.166313\n",
       "4                     pm   1.353980    -0.199074\n",
       "6               internet   2.245892    -0.109055\n",
       "...                  ...        ...          ...\n",
       "4995  masculine feminine   0.153749     0.118696\n",
       "4996      inborn evolved   0.138374     0.266867\n",
       "4997       transmembrane   0.532684     0.045418\n",
       "4998             bubbles   0.117404    -0.024573\n",
       "4999         sentinelese   0.321684     0.112650\n",
       "\n",
       "[4064 rows x 3 columns]"
      ]
     },
     "execution_count": 278,
     "metadata": {},
     "output_type": "execute_result"
    }
   ],
   "source": [
    "## List of words whoes co-efficients are closer to each other\n",
    "words_df[(words_df[\"coefficient\"] > -0.3) & (words_df[\"coefficient\"] < 0.3)]"
   ]
  },
  {
   "cell_type": "code",
   "execution_count": 279,
   "metadata": {},
   "outputs": [],
   "source": [
    "##predicting all the values\n",
    "all_data_df[\"y_hat\"] = best_model.predict(tvec.transform(X))"
   ]
  },
  {
   "cell_type": "code",
   "execution_count": 280,
   "metadata": {},
   "outputs": [
    {
     "data": {
      "text/plain": [
       "(445, 17)"
      ]
     },
     "execution_count": 280,
     "metadata": {},
     "output_type": "execute_result"
    }
   ],
   "source": [
    "##How many went wrong??\n",
    "all_data_df[all_data_df[\"y\"] != all_data_df[\"y_hat\"]].shape"
   ]
  },
  {
   "cell_type": "code",
   "execution_count": 281,
   "metadata": {},
   "outputs": [
    {
     "data": {
      "text/plain": [
       "(3279, 17)"
      ]
     },
     "execution_count": 281,
     "metadata": {},
     "output_type": "execute_result"
    }
   ],
   "source": [
    "# How many went right?\n",
    "all_data_df[all_data_df[\"y\"] == all_data_df[\"y_hat\"]].shape"
   ]
  },
  {
   "cell_type": "code",
   "execution_count": 282,
   "metadata": {},
   "outputs": [
    {
     "data": {
      "text/plain": [
       "0    2157\n",
       "1    1567\n",
       "Name: y_hat, dtype: int64"
      ]
     },
     "execution_count": 282,
     "metadata": {},
     "output_type": "execute_result"
    }
   ],
   "source": [
    "#actual no of 1's and 0's\n",
    "all_data_df[\"y_hat\"].value_counts()"
   ]
  },
  {
   "cell_type": "code",
   "execution_count": 283,
   "metadata": {},
   "outputs": [
    {
     "data": {
      "text/plain": [
       "0    2000\n",
       "1    1724\n",
       "Name: y, dtype: int64"
      ]
     },
     "execution_count": 283,
     "metadata": {},
     "output_type": "execute_result"
    }
   ],
   "source": [
    "#actual no of 1's and 0's\n",
    "all_data_df[\"y\"].value_counts()"
   ]
  },
  {
   "cell_type": "code",
   "execution_count": 284,
   "metadata": {},
   "outputs": [],
   "source": [
    "pred_proba = [i[1] for i in best_model.predict_proba(tvec.transform(X))]\n",
    "\n",
    "pred_df = pd.DataFrame({'true_values': all_data_df[\"y\"],\n",
    "                        'pred_probs':pred_proba,\n",
    "                        'pred_values': all_data_df[\"y_hat\"]})"
   ]
  },
  {
   "cell_type": "code",
   "execution_count": 285,
   "metadata": {},
   "outputs": [
    {
     "data": {
      "image/png": "[encoded data removed]",
      "text/plain": [
       "<Figure size 720x504 with 1 Axes>"
      ]
     },
     "metadata": {
      "needs_background": "light"
     },
     "output_type": "display_data"
    }
   ],
   "source": [
    "# Create figure.\n",
    "plt.figure(figsize = (10,7))\n",
    "\n",
    "# Create two histograms of observations.\n",
    "plt.hist(pred_df[pred_df['true_values'] == 0]['pred_probs'],\n",
    "         bins = 25,\n",
    "         color = 'b',\n",
    "         alpha = 0.6,\n",
    "         label = 'Evolution')\n",
    "plt.hist(pred_df[pred_df['true_values'] == 1]['pred_probs'],\n",
    "         bins = 25,\n",
    "         color = 'orange',\n",
    "         alpha = 0.6,\n",
    "         label = 'Creation')\n",
    "\n",
    "# Add vertical line at P(Outcome = 1) = 0.5.\n",
    "plt.vlines(x = 0.5,\n",
    "           ymin = 0,\n",
    "           ymax = 250,\n",
    "           color = 'r',\n",
    "           linestyle = '--',\n",
    "           linewidth=2)\n",
    "\n",
    "# Add annotations for TN, FN, TP, FP.\n",
    "plt.annotate(xy = (0.04, 15),\n",
    "             s = 'TN',\n",
    "             size = 20)\n",
    "\n",
    "plt.annotate(xy = (0.1, 0),\n",
    "             s = 'FN',\n",
    "             size = 20)\n",
    "\n",
    "plt.annotate(xy = (0.85, 1),\n",
    "             s = 'TP',\n",
    "             size = 20)\n",
    "\n",
    "plt.annotate(xy = (0.53, 1),\n",
    "             s = 'FP',\n",
    "             size = 20)\n",
    "\n",
    "# Label axes.\n",
    "plt.title('Distribution of P(Outcome = Creation)', fontsize = 22)\n",
    "plt.ylabel('Frequency', fontsize = 18)\n",
    "plt.xlabel('Predicted Probability that Outcome = Evolution', fontsize = 18)\n",
    "\n",
    "# Create legend.\n",
    "plt.legend(fontsize = 20);"
   ]
  },
  {
   "cell_type": "markdown",
   "metadata": {},
   "source": [
    "# NOTE: TOO MUCH OVERLAP IN THE ABOVE DIAGRAM- LETS SEE WHERE THE OVER LAP IS??"
   ]
  },
  {
   "cell_type": "code",
   "execution_count": 286,
   "metadata": {},
   "outputs": [],
   "source": [
    "fn_and_fp_list = list(pred_df[(pred_df[\"pred_probs\"] > 0.4) & (pred_df[\"pred_probs\"] < 0.6) & (pred_df[\"true_values\"] != pred_df[\"pred_values\"])].index)"
   ]
  },
  {
   "cell_type": "code",
   "execution_count": 287,
   "metadata": {},
   "outputs": [
    {
     "data": {
      "text/html": [
       "<div>\n",
       "<style scoped>\n",
       "    .dataframe tbody tr th:only-of-type {\n",
       "        vertical-align: middle;\n",
       "    }\n",
       "\n",
       "    .dataframe tbody tr th {\n",
       "        vertical-align: top;\n",
       "    }\n",
       "\n",
       "    .dataframe thead th {\n",
       "        text-align: right;\n",
       "    }\n",
       "</style>\n",
       "<table border=\"1\" class=\"dataframe\">\n",
       "  <thead>\n",
       "    <tr style=\"text-align: right;\">\n",
       "      <th></th>\n",
       "      <th>subreddit</th>\n",
       "      <th>full_link</th>\n",
       "      <th>y</th>\n",
       "      <th>y_hat</th>\n",
       "    </tr>\n",
       "  </thead>\n",
       "  <tbody>\n",
       "    <tr>\n",
       "      <th>6</th>\n",
       "      <td>evolution</td>\n",
       "      <td>https://www.reddit.com/r/evolution/comments/ev...</td>\n",
       "      <td>0</td>\n",
       "      <td>1</td>\n",
       "    </tr>\n",
       "    <tr>\n",
       "      <th>11</th>\n",
       "      <td>evolution</td>\n",
       "      <td>https://www.reddit.com/r/evolution/comments/eu...</td>\n",
       "      <td>0</td>\n",
       "      <td>1</td>\n",
       "    </tr>\n",
       "    <tr>\n",
       "      <th>78</th>\n",
       "      <td>evolution</td>\n",
       "      <td>https://www.reddit.com/r/evolution/comments/ep...</td>\n",
       "      <td>0</td>\n",
       "      <td>1</td>\n",
       "    </tr>\n",
       "    <tr>\n",
       "      <th>83</th>\n",
       "      <td>evolution</td>\n",
       "      <td>https://www.reddit.com/r/evolution/comments/ep...</td>\n",
       "      <td>0</td>\n",
       "      <td>1</td>\n",
       "    </tr>\n",
       "    <tr>\n",
       "      <th>90</th>\n",
       "      <td>evolution</td>\n",
       "      <td>https://www.reddit.com/r/evolution/comments/eo...</td>\n",
       "      <td>0</td>\n",
       "      <td>1</td>\n",
       "    </tr>\n",
       "    <tr>\n",
       "      <th>...</th>\n",
       "      <td>...</td>\n",
       "      <td>...</td>\n",
       "      <td>...</td>\n",
       "      <td>...</td>\n",
       "    </tr>\n",
       "    <tr>\n",
       "      <th>3661</th>\n",
       "      <td>Creation</td>\n",
       "      <td>https://www.reddit.com/r/Creation/comments/61g...</td>\n",
       "      <td>1</td>\n",
       "      <td>0</td>\n",
       "    </tr>\n",
       "    <tr>\n",
       "      <th>3676</th>\n",
       "      <td>Creation</td>\n",
       "      <td>https://www.reddit.com/r/Creation/comments/60n...</td>\n",
       "      <td>1</td>\n",
       "      <td>0</td>\n",
       "    </tr>\n",
       "    <tr>\n",
       "      <th>3686</th>\n",
       "      <td>Creation</td>\n",
       "      <td>https://www.reddit.com/r/Creation/comments/5zy...</td>\n",
       "      <td>1</td>\n",
       "      <td>0</td>\n",
       "    </tr>\n",
       "    <tr>\n",
       "      <th>3695</th>\n",
       "      <td>Creation</td>\n",
       "      <td>https://www.reddit.com/r/Creation/comments/5zp...</td>\n",
       "      <td>1</td>\n",
       "      <td>0</td>\n",
       "    </tr>\n",
       "    <tr>\n",
       "      <th>3702</th>\n",
       "      <td>Creation</td>\n",
       "      <td>https://www.reddit.com/r/Creation/comments/5yy...</td>\n",
       "      <td>1</td>\n",
       "      <td>0</td>\n",
       "    </tr>\n",
       "  </tbody>\n",
       "</table>\n",
       "<p>284 rows × 4 columns</p>\n",
       "</div>"
      ],
      "text/plain": [
       "      subreddit                                          full_link  y  y_hat\n",
       "6     evolution  https://www.reddit.com/r/evolution/comments/ev...  0      1\n",
       "11    evolution  https://www.reddit.com/r/evolution/comments/eu...  0      1\n",
       "78    evolution  https://www.reddit.com/r/evolution/comments/ep...  0      1\n",
       "83    evolution  https://www.reddit.com/r/evolution/comments/ep...  0      1\n",
       "90    evolution  https://www.reddit.com/r/evolution/comments/eo...  0      1\n",
       "...         ...                                                ... ..    ...\n",
       "3661   Creation  https://www.reddit.com/r/Creation/comments/61g...  1      0\n",
       "3676   Creation  https://www.reddit.com/r/Creation/comments/60n...  1      0\n",
       "3686   Creation  https://www.reddit.com/r/Creation/comments/5zy...  1      0\n",
       "3695   Creation  https://www.reddit.com/r/Creation/comments/5zp...  1      0\n",
       "3702   Creation  https://www.reddit.com/r/Creation/comments/5yy...  1      0\n",
       "\n",
       "[284 rows x 4 columns]"
      ]
     },
     "execution_count": 287,
     "metadata": {},
     "output_type": "execute_result"
    }
   ],
   "source": [
    "all_data_df.loc[fn_and_fp_list, [\"subreddit\", \"full_link\", \"y\", \"y_hat\"]]"
   ]
  },
  {
   "cell_type": "code",
   "execution_count": 288,
   "metadata": {},
   "outputs": [
    {
     "data": {
      "text/plain": [
       "'https://www.reddit.com/r/evolution/comments/ev42pd/genesis_stereo_soundscape/'"
      ]
     },
     "execution_count": 288,
     "metadata": {},
     "output_type": "execute_result"
    }
   ],
   "source": [
    "all_data_df[\"full_link\"][6]"
   ]
  },
  {
   "cell_type": "code",
   "execution_count": 289,
   "metadata": {},
   "outputs": [
    {
     "data": {
      "text/plain": [
       "'https://www.reddit.com/r/evolution/comments/epjvcx/wut_do/'"
      ]
     },
     "execution_count": 289,
     "metadata": {},
     "output_type": "execute_result"
    }
   ],
   "source": [
    "all_data_df[\"full_link\"][78]"
   ]
  },
  {
   "cell_type": "markdown",
   "metadata": {},
   "source": [
    "# NOTE:: INTERSETING ...... IN THE ABOVE LINK , THEY ARE TALKING ABOUT GENESIS  or has phrases LIKE \"life arose by chance\" IN EVOLUTION .. SO GO GO PREDICTION MODEL :)"
   ]
  },
  {
   "cell_type": "code",
   "execution_count": 291,
   "metadata": {},
   "outputs": [],
   "source": [
    "\n",
    "# run = 3\n",
    "# evolution_sub_clean_df = pd.read_csv(\"./datasets/evolution_sub_clean_\" + str(run) + \".csv\")\n",
    "# creation_sub_clean_df = pd.read_csv(\"./datasets/creation_sub_clean_\" + str(run) + \".csv\")\n",
    "# all_data_df = combine(evolution_sub_clean_df, creation_sub_clean_df) \n",
    "# all_data_df.reset_index(inplace=True)\n",
    "\n",
    "# ##Only considering text columns -> title + selftext + columns\n",
    "# get_full_row(all_data_df, feature_sets[\"3\"]) ##only using feature set 7\n",
    "\n",
    "\n",
    "# ##removing all the data which is confusning the model\n",
    "all_data_df_n = all_data_df.drop(fn_and_fp_list)\n",
    "all_data_df_n.reset_index(inplace=True)"
   ]
  },
  {
   "cell_type": "code",
   "execution_count": 292,
   "metadata": {},
   "outputs": [],
   "source": [
    "##splitting the data\n",
    "X_n = all_data_df_n[\"full_row\"]\n",
    "y_n = all_data_df_n[\"y\"]\n",
    "\n",
    "X_train, X_test, y_train, y_test = train_test_split(X_n,y_n, shuffle=True, test_size=0.33, stratify=y_n, random_state = 42)"
   ]
  },
  {
   "cell_type": "code",
   "execution_count": 293,
   "metadata": {},
   "outputs": [
    {
     "name": "stdout",
     "output_type": "stream",
     "text": [
      "0.8532986111111112\n"
     ]
    }
   ],
   "source": [
    "tvec_n = TfidfVectorizer(max_features=5000,\n",
    "                       min_df=1,\n",
    "                       max_df=1.0,\n",
    "                       ngram_range=(1,6),\n",
    "                       stop_words=\"english\")\n",
    "\n",
    "train_bag_of_words_n = tvec_n.fit_transform(X_train)\n",
    "test_bag_of_words_n = tvec_n.transform(X_test)\n",
    "\n",
    "log_reg_n = LogisticRegression(random_state=42,\n",
    "                               max_iter=1000)\n",
    "\n",
    "gs_log_reg_n = GridSearchCV(log_reg, param_grid={}, cv=5)\n",
    "gs_log_reg_n.fit(train_bag_of_words_n, y_train)\n",
    "print(gs_log_reg_n.best_score_)"
   ]
  },
  {
   "cell_type": "code",
   "execution_count": 294,
   "metadata": {},
   "outputs": [],
   "source": [
    "best_model = gs_log_reg_n.best_estimator_"
   ]
  },
  {
   "cell_type": "code",
   "execution_count": 295,
   "metadata": {},
   "outputs": [
    {
     "data": {
      "text/plain": [
       "0.9431423611111112"
      ]
     },
     "execution_count": 295,
     "metadata": {},
     "output_type": "execute_result"
    }
   ],
   "source": [
    "best_model.score(train_bag_of_words_n, y_train)"
   ]
  },
  {
   "cell_type": "code",
   "execution_count": 296,
   "metadata": {},
   "outputs": [
    {
     "data": {
      "text/plain": [
       "0.8644366197183099"
      ]
     },
     "execution_count": 296,
     "metadata": {},
     "output_type": "execute_result"
    }
   ],
   "source": [
    "best_model.score(test_bag_of_words_n, y_test)"
   ]
  },
  {
   "cell_type": "code",
   "execution_count": 302,
   "metadata": {},
   "outputs": [],
   "source": [
    "pred_proba = [i[1] for i in best_model.predict_proba(tvec_n.transform(X))]\n",
    "all_data_df[\"y_hat\"] = best_model.predict(tvec_n.transform(X))\n",
    "\n",
    "pred_df = pd.DataFrame({'true_values': all_data_df[\"y\"],\n",
    "                        'pred_probs':pred_proba,\n",
    "                        'pred_values': all_data_df[\"y_hat\"]})"
   ]
  },
  {
   "cell_type": "code",
   "execution_count": 303,
   "metadata": {},
   "outputs": [
    {
     "data": {
      "image/png": "[encoded data removed]",
      "text/plain": [
       "<Figure size 720x504 with 1 Axes>"
      ]
     },
     "metadata": {
      "needs_background": "light"
     },
     "output_type": "display_data"
    }
   ],
   "source": [
    "# Create figure.\n",
    "plt.figure(figsize = (10,7))\n",
    "\n",
    "# Create two histograms of observations.\n",
    "plt.hist(pred_df[pred_df['true_values'] == 0]['pred_probs'],\n",
    "         bins = 25,\n",
    "         color = 'b',\n",
    "         alpha = 0.6,\n",
    "         label = 'Evolution')\n",
    "plt.hist(pred_df[pred_df['true_values'] == 1]['pred_probs'],\n",
    "         bins = 25,\n",
    "         color = 'orange',\n",
    "         alpha = 0.6,\n",
    "         label = 'Creation')\n",
    "\n",
    "# Add vertical line at P(Outcome = 1) = 0.5.\n",
    "plt.vlines(x = 0.5,\n",
    "           ymin = 0,\n",
    "           ymax = 250,\n",
    "           color = 'r',\n",
    "           linestyle = '--',\n",
    "           linewidth=2)\n",
    "\n",
    "# Add annotations for TN, FN, TP, FP.\n",
    "plt.annotate(xy = (0.04, 15),\n",
    "             s = 'TN',\n",
    "             size = 20)\n",
    "\n",
    "plt.annotate(xy = (0.1, 0),\n",
    "             s = 'FN',\n",
    "             size = 20)\n",
    "\n",
    "plt.annotate(xy = (0.85, 1),\n",
    "             s = 'TP',\n",
    "             size = 20)\n",
    "\n",
    "plt.annotate(xy = (0.53, 1),\n",
    "             s = 'FP',\n",
    "             size = 20)\n",
    "\n",
    "# Label axes.\n",
    "plt.title('Distribution of P(Outcome = Creation)', fontsize = 22)\n",
    "plt.ylabel('Frequency', fontsize = 18)\n",
    "plt.xlabel('Predicted Probability that Outcome = Evolution', fontsize = 18)\n",
    "\n",
    "# Create legend.\n",
    "plt.legend(fontsize = 20);"
   ]
  },
  {
   "cell_type": "markdown",
   "metadata": {},
   "source": [
    "# NOTE: GUESS THOSE WORDS CANNOT BE OMMITTED"
   ]
  },
  {
   "cell_type": "markdown",
   "metadata": {},
   "source": [
    "# MOVING ON...."
   ]
  },
  {
   "cell_type": "markdown",
   "metadata": {},
   "source": [
    "# LETS LOOK AT THE ROC AUC CURVE"
   ]
  },
  {
   "cell_type": "code",
   "execution_count": 550,
   "metadata": {},
   "outputs": [
    {
     "data": {
      "image/png": "[encoded data removed]",
      "text/plain": [
       "<Figure size 720x504 with 1 Axes>"
      ]
     },
     "metadata": {},
     "output_type": "display_data"
    }
   ],
   "source": [
    "import numpy as np\n",
    "\n",
    "# Create figure.\n",
    "plt.figure(figsize = (10,7))\n",
    "\n",
    "# Create threshold values.\n",
    "thresholds = np.linspace(0, 1, 200)\n",
    "\n",
    "# Define function to calculate sensitivity. (True positive rate.)\n",
    "def TPR(df, true_col, pred_prob_col, threshold):\n",
    "    true_positive = df[(df[true_col] == 1) & (df[pred_prob_col] >= threshold)].shape[0]\n",
    "    false_negative = df[(df[true_col] == 1) & (df[pred_prob_col] < threshold)].shape[0]\n",
    "    return true_positive / (true_positive + false_negative)\n",
    "    \n",
    "\n",
    "# Define function to calculate 1 - specificity. (False positive rate.)\n",
    "def FPR(df, true_col, pred_prob_col, threshold):\n",
    "    true_negative = df[(df[true_col] == 0) & (df[pred_prob_col] <= threshold)].shape[0]\n",
    "    false_positive = df[(df[true_col] == 0) & (df[pred_prob_col] > threshold)].shape[0]\n",
    "    return 1 - (true_negative / (true_negative + false_positive))\n",
    "    \n",
    "# Calculate sensitivity & 1-specificity for each threshold between 0 and 1.\n",
    "tpr_values = [TPR(pred_df, 'true_values', 'pred_probs', prob) for prob in thresholds]\n",
    "fpr_values = [FPR(pred_df, 'true_values', 'pred_probs', prob) for prob in thresholds]\n",
    "\n",
    "# Plot ROC curve.\n",
    "plt.plot(fpr_values, # False Positive Rate on X-axis\n",
    "         tpr_values, # True Positive Rate on Y-axis\n",
    "         label='ROC Curve')\n",
    "\n",
    "# Plot baseline. (Perfect overlap between the two populations.)\n",
    "plt.plot(np.linspace(0, 1, 200),\n",
    "         np.linspace(0, 1, 200),\n",
    "         label='baseline',\n",
    "         linestyle='--')\n",
    "\n",
    "# Label axes.\n",
    "plt.title('Receiver Operating Characteristic Curve', fontsize=22)\n",
    "plt.ylabel('Sensitivity', fontsize=18)\n",
    "plt.xlabel('1 - Specificity', fontsize=18)\n",
    "\n",
    "# Create legend.\n",
    "plt.legend(fontsize=16);"
   ]
  },
  {
   "cell_type": "code",
   "execution_count": 627,
   "metadata": {},
   "outputs": [],
   "source": [
    "tvec = TfidfVectorizer(max_features=5000,\n",
    "                       min_df=1,\n",
    "                       max_df=1.0,\n",
    "                       ngram_range=(1,3),\n",
    "                       stop_words=\"english\")\n",
    "\n",
    "train_bag_of_words = tvec.fit_transform(X_train)\n",
    "test_bag_of_words = tvec.transform(X_test)\n",
    "\n",
    "# log_reg = LogisticRegression(random_state=42,\n",
    "#                                max_iter=1000)\n",
    "\n",
    "# gs_log_reg = GridSearchCV(log_reg, param_grid={}, cv=5)\n",
    "# gs_log_reg.fit(train_bag_of_words, y_train)\n",
    "# print(gs_log_reg.best_score_)\n",
    "\n",
    "vote = VotingClassifier([\n",
    "    ('log_reg', LogisticRegressionCV(random_state=42)),\n",
    "    ('ada', AdaBoostClassifier(random_state=42)),\n",
    "    ('gb', GradientBoostingClassifier(random_state=42))\n",
    "])\n",
    "vote_params = {\n",
    "    'ada__n_estimators': [50,75],\n",
    "    'gb__n_estimators': [100,125]\n",
    "}\n",
    "gs = GridSearchCV(vote, param_grid=vote_params, cv=3)\n",
    "# gs.fit(train_bag_of_words, y_train)\n",
    "# print(gs.best_score_)\n",
    "# gs.best_params_"
   ]
  },
  {
   "cell_type": "code",
   "execution_count": 611,
   "metadata": {},
   "outputs": [],
   "source": [
    "best_model_vote = gs.best_estimator_"
   ]
  },
  {
   "cell_type": "code",
   "execution_count": 612,
   "metadata": {},
   "outputs": [
    {
     "data": {
      "text/plain": [
       "0.8745490981963928"
      ]
     },
     "execution_count": 612,
     "metadata": {},
     "output_type": "execute_result"
    }
   ],
   "source": [
    "best_model_vote.score(train_bag_of_words, y_train)"
   ]
  },
  {
   "cell_type": "code",
   "execution_count": 613,
   "metadata": {},
   "outputs": [
    {
     "data": {
      "text/plain": [
       "0.7721724979658259"
      ]
     },
     "execution_count": 613,
     "metadata": {},
     "output_type": "execute_result"
    }
   ],
   "source": [
    "best_model_vote.score(test_bag_of_words, y_test)"
   ]
  },
  {
   "cell_type": "code",
   "execution_count": null,
   "metadata": {},
   "outputs": [],
   "source": [
    "###  Hmmmm.....did not do anything better... :("
   ]
  },
  {
   "cell_type": "code",
   "execution_count": 615,
   "metadata": {},
   "outputs": [
    {
     "data": {
      "text/plain": [
       "SVC(C=1.0, cache_size=200, class_weight=None, coef0=0.0,\n",
       "    decision_function_shape='ovr', degree=3, gamma='scale', kernel='rbf',\n",
       "    max_iter=-1, probability=False, random_state=None, shrinking=True,\n",
       "    tol=0.001, verbose=False)"
      ]
     },
     "execution_count": 615,
     "metadata": {},
     "output_type": "execute_result"
    }
   ],
   "source": [
    "from sklearn.svm import SVC\n",
    "svc = SVC(gamma=\"scale\")\n",
    "# Fit support vector machine to training data.\n",
    "svc.fit(train_bag_of_words, y_train)"
   ]
  },
  {
   "cell_type": "code",
   "execution_count": 617,
   "metadata": {},
   "outputs": [
    {
     "data": {
      "text/plain": [
       "0.9867735470941884"
      ]
     },
     "execution_count": 617,
     "metadata": {},
     "output_type": "execute_result"
    }
   ],
   "source": [
    "svc.score(train_bag_of_words, y_train)"
   ]
  },
  {
   "cell_type": "code",
   "execution_count": 619,
   "metadata": {},
   "outputs": [
    {
     "data": {
      "text/plain": [
       "0.8096013018714402"
      ]
     },
     "execution_count": 619,
     "metadata": {},
     "output_type": "execute_result"
    }
   ],
   "source": [
    "svc.score(test_bag_of_words, y_test)"
   ]
  },
  {
   "cell_type": "code",
   "execution_count": 620,
   "metadata": {},
   "outputs": [],
   "source": [
    "all_data_df[\"y_hat\"] = svc.predict(tvec.transform(X))"
   ]
  },
  {
   "cell_type": "code",
   "execution_count": 621,
   "metadata": {},
   "outputs": [
    {
     "data": {
      "text/plain": [
       "(267, 16)"
      ]
     },
     "execution_count": 621,
     "metadata": {},
     "output_type": "execute_result"
    }
   ],
   "source": [
    "##How many went wrong??\n",
    "all_data_df[all_data_df[\"y\"] != all_data_df[\"y_hat\"]].shape"
   ]
  },
  {
   "cell_type": "code",
   "execution_count": 622,
   "metadata": {},
   "outputs": [
    {
     "data": {
      "text/plain": [
       "(3457, 16)"
      ]
     },
     "execution_count": 622,
     "metadata": {},
     "output_type": "execute_result"
    }
   ],
   "source": [
    "##How many went right??\n",
    "all_data_df[all_data_df[\"y\"] == all_data_df[\"y_hat\"]].shape"
   ]
  },
  {
   "cell_type": "code",
   "execution_count": 624,
   "metadata": {},
   "outputs": [
    {
     "data": {
      "text/plain": [
       "0    2107\n",
       "1    1617\n",
       "Name: y_hat, dtype: int64"
      ]
     },
     "execution_count": 624,
     "metadata": {},
     "output_type": "execute_result"
    }
   ],
   "source": [
    "#actual no of 1's and 0's\n",
    "all_data_df[\"y_hat\"].value_counts()"
   ]
  },
  {
   "cell_type": "code",
   "execution_count": 626,
   "metadata": {},
   "outputs": [
    {
     "data": {
      "text/plain": [
       "0    2000\n",
       "1    1724\n",
       "Name: y, dtype: int64"
      ]
     },
     "execution_count": 626,
     "metadata": {},
     "output_type": "execute_result"
    }
   ],
   "source": [
    "all_data_df[\"y\"].value_counts()"
   ]
  },
  {
   "cell_type": "markdown",
   "metadata": {},
   "source": [
    "# INVESTIGATING THE DebateEvolution subreddit. Checking which side the topics are leaning using my best model so far"
   ]
  },
  {
   "cell_type": "code",
   "execution_count": 439,
   "metadata": {},
   "outputs": [],
   "source": [
    "# ##Score DebateEvolution \n",
    "# #Trying with 4000 posts\n",
    "run = 3\n",
    "debevo_sub_df = pd.read_csv(\"./datasets/DebateEvolution_submission_\" + str(run) + \".csv\")\n",
    "debevo_sub_clean_df = pd.read_csv(\"./datasets/DebateEvolution_sub_clean_\" + str(run) + \".csv\")\n",
    "\n",
    "##Only considering text columns -> title + selftext + columns\n",
    "get_full_row(debevo_sub_clean_df, feature_sets[\"3\"]) ##only using feature set 7"
   ]
  },
  {
   "cell_type": "code",
   "execution_count": 440,
   "metadata": {},
   "outputs": [],
   "source": [
    "X = debevo_sub_clean_df[\"full_row\"] ##only using feature set 7[\"full_row\"]\n",
    "X_bag_of_words = tvec.transform(X)\n",
    "debevo_sub_clean_df[\"prediction\"] = best_model.predict(X_bag_of_words)"
   ]
  },
  {
   "cell_type": "code",
   "execution_count": 441,
   "metadata": {},
   "outputs": [
    {
     "data": {
      "text/plain": [
       "1    1288\n",
       "0     712\n",
       "Name: prediction, dtype: int64"
      ]
     },
     "execution_count": 441,
     "metadata": {},
     "output_type": "execute_result"
    }
   ],
   "source": [
    "debevo_sub_clean_df[\"prediction\"].value_counts()"
   ]
  },
  {
   "cell_type": "markdown",
   "metadata": {},
   "source": [
    "#### Interesting to know that out of 2000 posts , 1314 are Creation heavy posts and 686 are evolution havy posts"
   ]
  },
  {
   "cell_type": "code",
   "execution_count": 442,
   "metadata": {},
   "outputs": [],
   "source": [
    "debevo_sub_df[\"prediction\"] = debevo_sub_clean_df[\"prediction\"].map({0: \"evolution\", 1:\"creation\"})"
   ]
  },
  {
   "cell_type": "code",
   "execution_count": 443,
   "metadata": {},
   "outputs": [
    {
     "data": {
      "text/plain": [
       "'https://www.reddit.com/r/DebateEvolution/comments/eurawo/pdp_runs_to_his_echo_chamber_to_argue_against/'"
      ]
     },
     "execution_count": 443,
     "metadata": {},
     "output_type": "execute_result"
    }
   ],
   "source": [
    "debevo_sub_df.loc[debevo_sub_df[\"prediction\"] == \"creation\",\"full_link\"][1]"
   ]
  },
  {
   "cell_type": "code",
   "execution_count": 444,
   "metadata": {},
   "outputs": [
    {
     "data": {
      "text/plain": [
       "'https://www.reddit.com/r/DebateEvolution/comments/etwb4x/lets_break_something_part_4/'"
      ]
     },
     "execution_count": 444,
     "metadata": {},
     "output_type": "execute_result"
    }
   ],
   "source": [
    "debevo_sub_df.loc[debevo_sub_df[\"prediction\"] == \"evolution\",\"full_link\"][6]"
   ]
  },
  {
   "cell_type": "code",
   "execution_count": 445,
   "metadata": {},
   "outputs": [
    {
     "data": {
      "text/plain": [
       "'https://www.reddit.com/r/DebateEvolution/comments/3f6qx0/programmed_cell_death_is_vital_to_life_but_whered/'"
      ]
     },
     "execution_count": 445,
     "metadata": {},
     "output_type": "execute_result"
    }
   ],
   "source": [
    "debevo_sub_df.loc[debevo_sub_df[\"prediction\"] == \"evolution\",\"full_link\"][1996]"
   ]
  },
  {
   "cell_type": "code",
   "execution_count": 446,
   "metadata": {},
   "outputs": [],
   "source": [
    "# debevo_sub_df.to_csv(\"./datasets/DebateEvolution_with_prediction.csv\", index=False)"
   ]
  },
  {
   "cell_type": "code",
   "execution_count": 447,
   "metadata": {},
   "outputs": [],
   "source": [
    "sum_words = X_bag_of_words.sum(axis=0) \n",
    "words_freq = [(word, sum_words[0, idx]) for word, idx in tvec.vocabulary_.items()]\n",
    "words_df = pd.DataFrame(words_freq, columns=[\"words\", \"frequency\"])\n",
    "words_df[\"coefficient\"] = best_model.coef_[0]"
   ]
  },
  {
   "cell_type": "code",
   "execution_count": 448,
   "metadata": {},
   "outputs": [
    {
     "data": {
      "text/html": [
       "<div>\n",
       "<style scoped>\n",
       "    .dataframe tbody tr th:only-of-type {\n",
       "        vertical-align: middle;\n",
       "    }\n",
       "\n",
       "    .dataframe tbody tr th {\n",
       "        vertical-align: top;\n",
       "    }\n",
       "\n",
       "    .dataframe thead th {\n",
       "        text-align: right;\n",
       "    }\n",
       "</style>\n",
       "<table border=\"1\" class=\"dataframe\">\n",
       "  <thead>\n",
       "    <tr style=\"text-align: right;\">\n",
       "      <th></th>\n",
       "      <th>words</th>\n",
       "      <th>frequency</th>\n",
       "      <th>coefficient</th>\n",
       "    </tr>\n",
       "  </thead>\n",
       "  <tbody>\n",
       "    <tr>\n",
       "      <th>65</th>\n",
       "      <td>evolution</td>\n",
       "      <td>109.362652</td>\n",
       "      <td>-0.366453</td>\n",
       "    </tr>\n",
       "    <tr>\n",
       "      <th>608</th>\n",
       "      <td>removed</td>\n",
       "      <td>100.642652</td>\n",
       "      <td>-0.075712</td>\n",
       "    </tr>\n",
       "    <tr>\n",
       "      <th>560</th>\n",
       "      <td>creationists</td>\n",
       "      <td>55.494475</td>\n",
       "      <td>0.034007</td>\n",
       "    </tr>\n",
       "    <tr>\n",
       "      <th>517</th>\n",
       "      <td>evidence</td>\n",
       "      <td>49.323617</td>\n",
       "      <td>-0.684854</td>\n",
       "    </tr>\n",
       "    <tr>\n",
       "      <th>39</th>\n",
       "      <td>gt</td>\n",
       "      <td>47.746663</td>\n",
       "      <td>-0.180783</td>\n",
       "    </tr>\n",
       "    <tr>\n",
       "      <th>0</th>\n",
       "      <td>creation</td>\n",
       "      <td>46.395622</td>\n",
       "      <td>-0.034223</td>\n",
       "    </tr>\n",
       "    <tr>\n",
       "      <th>346</th>\n",
       "      <td>creationist</td>\n",
       "      <td>43.896022</td>\n",
       "      <td>0.016976</td>\n",
       "    </tr>\n",
       "    <tr>\n",
       "      <th>562</th>\n",
       "      <td>theory</td>\n",
       "      <td>38.674804</td>\n",
       "      <td>0.036378</td>\n",
       "    </tr>\n",
       "    <tr>\n",
       "      <th>3853</th>\n",
       "      <td>nbsp</td>\n",
       "      <td>35.797523</td>\n",
       "      <td>-1.068871</td>\n",
       "    </tr>\n",
       "    <tr>\n",
       "      <th>800</th>\n",
       "      <td>science</td>\n",
       "      <td>35.048861</td>\n",
       "      <td>0.048230</td>\n",
       "    </tr>\n",
       "    <tr>\n",
       "      <th>430</th>\n",
       "      <td>like</td>\n",
       "      <td>34.803635</td>\n",
       "      <td>0.038246</td>\n",
       "    </tr>\n",
       "    <tr>\n",
       "      <th>43</th>\n",
       "      <td>argument</td>\n",
       "      <td>31.992822</td>\n",
       "      <td>0.064728</td>\n",
       "    </tr>\n",
       "    <tr>\n",
       "      <th>538</th>\n",
       "      <td>debate</td>\n",
       "      <td>31.236603</td>\n",
       "      <td>-0.039952</td>\n",
       "    </tr>\n",
       "    <tr>\n",
       "      <th>320</th>\n",
       "      <td>know</td>\n",
       "      <td>31.009774</td>\n",
       "      <td>0.016256</td>\n",
       "    </tr>\n",
       "    <tr>\n",
       "      <th>122</th>\n",
       "      <td>comments</td>\n",
       "      <td>30.185560</td>\n",
       "      <td>1.416079</td>\n",
       "    </tr>\n",
       "    <tr>\n",
       "      <th>264</th>\n",
       "      <td>question</td>\n",
       "      <td>30.121705</td>\n",
       "      <td>0.026312</td>\n",
       "    </tr>\n",
       "    <tr>\n",
       "      <th>123</th>\n",
       "      <td>reddit</td>\n",
       "      <td>30.014425</td>\n",
       "      <td>-0.154347</td>\n",
       "    </tr>\n",
       "    <tr>\n",
       "      <th>657</th>\n",
       "      <td>new</td>\n",
       "      <td>29.761569</td>\n",
       "      <td>-0.332295</td>\n",
       "    </tr>\n",
       "    <tr>\n",
       "      <th>36</th>\n",
       "      <td>life</td>\n",
       "      <td>29.609371</td>\n",
       "      <td>0.083577</td>\n",
       "    </tr>\n",
       "    <tr>\n",
       "      <th>1465</th>\n",
       "      <td>creationism</td>\n",
       "      <td>29.432812</td>\n",
       "      <td>-0.036033</td>\n",
       "    </tr>\n",
       "  </tbody>\n",
       "</table>\n",
       "</div>"
      ],
      "text/plain": [
       "             words   frequency  coefficient\n",
       "65       evolution  109.362652    -0.366453\n",
       "608        removed  100.642652    -0.075712\n",
       "560   creationists   55.494475     0.034007\n",
       "517       evidence   49.323617    -0.684854\n",
       "39              gt   47.746663    -0.180783\n",
       "0         creation   46.395622    -0.034223\n",
       "346    creationist   43.896022     0.016976\n",
       "562         theory   38.674804     0.036378\n",
       "3853          nbsp   35.797523    -1.068871\n",
       "800        science   35.048861     0.048230\n",
       "430           like   34.803635     0.038246\n",
       "43        argument   31.992822     0.064728\n",
       "538         debate   31.236603    -0.039952\n",
       "320           know   31.009774     0.016256\n",
       "122       comments   30.185560     1.416079\n",
       "264       question   30.121705     0.026312\n",
       "123         reddit   30.014425    -0.154347\n",
       "657            new   29.761569    -0.332295\n",
       "36            life   29.609371     0.083577\n",
       "1465   creationism   29.432812    -0.036033"
      ]
     },
     "execution_count": 448,
     "metadata": {},
     "output_type": "execute_result"
    }
   ],
   "source": [
    "#looking at posts by looking at the max times its apearing on the posts.\n",
    "#list of top recurring words\n",
    "words_df.sort_values(by=\"frequency\", ascending=False)[:20]"
   ]
  },
  {
   "cell_type": "code",
   "execution_count": 473,
   "metadata": {},
   "outputs": [
    {
     "data": {
      "text/html": [
       "<div>\n",
       "<style scoped>\n",
       "    .dataframe tbody tr th:only-of-type {\n",
       "        vertical-align: middle;\n",
       "    }\n",
       "\n",
       "    .dataframe tbody tr th {\n",
       "        vertical-align: top;\n",
       "    }\n",
       "\n",
       "    .dataframe thead th {\n",
       "        text-align: right;\n",
       "    }\n",
       "</style>\n",
       "<table border=\"1\" class=\"dataframe\">\n",
       "  <thead>\n",
       "    <tr style=\"text-align: right;\">\n",
       "      <th></th>\n",
       "      <th>words</th>\n",
       "      <th>frequency</th>\n",
       "      <th>coefficient</th>\n",
       "    </tr>\n",
       "  </thead>\n",
       "  <tbody>\n",
       "    <tr>\n",
       "      <th>3247</th>\n",
       "      <td>bio</td>\n",
       "      <td>3.262941</td>\n",
       "      <td>0.502038</td>\n",
       "    </tr>\n",
       "    <tr>\n",
       "      <th>4596</th>\n",
       "      <td>wikimedia</td>\n",
       "      <td>0.655533</td>\n",
       "      <td>0.502489</td>\n",
       "    </tr>\n",
       "    <tr>\n",
       "      <th>4728</th>\n",
       "      <td>grandmother</td>\n",
       "      <td>0.173067</td>\n",
       "      <td>0.505552</td>\n",
       "    </tr>\n",
       "    <tr>\n",
       "      <th>3599</th>\n",
       "      <td>moved</td>\n",
       "      <td>1.101374</td>\n",
       "      <td>0.506899</td>\n",
       "    </tr>\n",
       "    <tr>\n",
       "      <th>863</th>\n",
       "      <td>latest</td>\n",
       "      <td>1.612982</td>\n",
       "      <td>0.507245</td>\n",
       "    </tr>\n",
       "    <tr>\n",
       "      <th>...</th>\n",
       "      <td>...</td>\n",
       "      <td>...</td>\n",
       "      <td>...</td>\n",
       "    </tr>\n",
       "    <tr>\n",
       "      <th>1158</th>\n",
       "      <td>issues</td>\n",
       "      <td>3.054837</td>\n",
       "      <td>2.158521</td>\n",
       "    </tr>\n",
       "    <tr>\n",
       "      <th>4977</th>\n",
       "      <td>chocolate</td>\n",
       "      <td>0.000000</td>\n",
       "      <td>2.217608</td>\n",
       "    </tr>\n",
       "    <tr>\n",
       "      <th>4023</th>\n",
       "      <td>donkey</td>\n",
       "      <td>0.408247</td>\n",
       "      <td>2.597606</td>\n",
       "    </tr>\n",
       "    <tr>\n",
       "      <th>1798</th>\n",
       "      <td>know god</td>\n",
       "      <td>0.845151</td>\n",
       "      <td>2.919738</td>\n",
       "    </tr>\n",
       "    <tr>\n",
       "      <th>961</th>\n",
       "      <td>terms</td>\n",
       "      <td>4.907745</td>\n",
       "      <td>3.992250</td>\n",
       "    </tr>\n",
       "  </tbody>\n",
       "</table>\n",
       "<p>183 rows × 3 columns</p>\n",
       "</div>"
      ],
      "text/plain": [
       "            words  frequency  coefficient\n",
       "3247          bio   3.262941     0.502038\n",
       "4596    wikimedia   0.655533     0.502489\n",
       "4728  grandmother   0.173067     0.505552\n",
       "3599        moved   1.101374     0.506899\n",
       "863        latest   1.612982     0.507245\n",
       "...           ...        ...          ...\n",
       "1158       issues   3.054837     2.158521\n",
       "4977    chocolate   0.000000     2.217608\n",
       "4023       donkey   0.408247     2.597606\n",
       "1798     know god   0.845151     2.919738\n",
       "961         terms   4.907745     3.992250\n",
       "\n",
       "[183 rows x 3 columns]"
      ]
     },
     "execution_count": 473,
     "metadata": {},
     "output_type": "execute_result"
    }
   ],
   "source": [
    "#Looking at the top words/bag of words that co-relate to predict the target value\n",
    "words_df[words_df[\"coefficient\"] > 0.5].sort_values(by=\"coefficient\") ##more towards creation"
   ]
  },
  {
   "cell_type": "code",
   "execution_count": 474,
   "metadata": {},
   "outputs": [
    {
     "data": {
      "text/html": [
       "<div>\n",
       "<style scoped>\n",
       "    .dataframe tbody tr th:only-of-type {\n",
       "        vertical-align: middle;\n",
       "    }\n",
       "\n",
       "    .dataframe tbody tr th {\n",
       "        vertical-align: top;\n",
       "    }\n",
       "\n",
       "    .dataframe thead th {\n",
       "        text-align: right;\n",
       "    }\n",
       "</style>\n",
       "<table border=\"1\" class=\"dataframe\">\n",
       "  <thead>\n",
       "    <tr style=\"text-align: right;\">\n",
       "      <th></th>\n",
       "      <th>words</th>\n",
       "      <th>frequency</th>\n",
       "      <th>coefficient</th>\n",
       "    </tr>\n",
       "  </thead>\n",
       "  <tbody>\n",
       "    <tr>\n",
       "      <th>1539</th>\n",
       "      <td>audience</td>\n",
       "      <td>0.608096</td>\n",
       "      <td>-2.856992</td>\n",
       "    </tr>\n",
       "    <tr>\n",
       "      <th>4273</th>\n",
       "      <td>regulation</td>\n",
       "      <td>1.008517</td>\n",
       "      <td>-2.642172</td>\n",
       "    </tr>\n",
       "    <tr>\n",
       "      <th>1570</th>\n",
       "      <td>cite</td>\n",
       "      <td>3.518904</td>\n",
       "      <td>-2.408180</td>\n",
       "    </tr>\n",
       "    <tr>\n",
       "      <th>1585</th>\n",
       "      <td>robert</td>\n",
       "      <td>0.489359</td>\n",
       "      <td>-2.031424</td>\n",
       "    </tr>\n",
       "    <tr>\n",
       "      <th>1586</th>\n",
       "      <td>revolution</td>\n",
       "      <td>0.739324</td>\n",
       "      <td>-1.901730</td>\n",
       "    </tr>\n",
       "    <tr>\n",
       "      <th>...</th>\n",
       "      <td>...</td>\n",
       "      <td>...</td>\n",
       "      <td>...</td>\n",
       "    </tr>\n",
       "    <tr>\n",
       "      <th>4245</th>\n",
       "      <td>bears</td>\n",
       "      <td>0.773741</td>\n",
       "      <td>-0.508398</td>\n",
       "    </tr>\n",
       "    <tr>\n",
       "      <th>4870</th>\n",
       "      <td>age spectrum</td>\n",
       "      <td>0.139233</td>\n",
       "      <td>-0.507816</td>\n",
       "    </tr>\n",
       "    <tr>\n",
       "      <th>756</th>\n",
       "      <td>elements</td>\n",
       "      <td>3.790788</td>\n",
       "      <td>-0.502086</td>\n",
       "    </tr>\n",
       "    <tr>\n",
       "      <th>280</th>\n",
       "      <td>prove</td>\n",
       "      <td>9.399975</td>\n",
       "      <td>-0.501317</td>\n",
       "    </tr>\n",
       "    <tr>\n",
       "      <th>4073</th>\n",
       "      <td>warm</td>\n",
       "      <td>0.695192</td>\n",
       "      <td>-0.500736</td>\n",
       "    </tr>\n",
       "  </tbody>\n",
       "</table>\n",
       "<p>158 rows × 3 columns</p>\n",
       "</div>"
      ],
      "text/plain": [
       "             words  frequency  coefficient\n",
       "1539      audience   0.608096    -2.856992\n",
       "4273    regulation   1.008517    -2.642172\n",
       "1570          cite   3.518904    -2.408180\n",
       "1585        robert   0.489359    -2.031424\n",
       "1586    revolution   0.739324    -1.901730\n",
       "...            ...        ...          ...\n",
       "4245         bears   0.773741    -0.508398\n",
       "4870  age spectrum   0.139233    -0.507816\n",
       "756       elements   3.790788    -0.502086\n",
       "280          prove   9.399975    -0.501317\n",
       "4073          warm   0.695192    -0.500736\n",
       "\n",
       "[158 rows x 3 columns]"
      ]
     },
     "execution_count": 474,
     "metadata": {},
     "output_type": "execute_result"
    }
   ],
   "source": [
    "words_df[words_df[\"coefficient\"] < -0.5].sort_values(by=\"coefficient\") ##more towards evolution"
   ]
  },
  {
   "cell_type": "code",
   "execution_count": 450,
   "metadata": {},
   "outputs": [],
   "source": [
    "###Look at the probabilities where it is high , slim and check the posts\n",
    "lst_val = []\n",
    "for i, (a,b) in enumerate(best_model.predict_proba(X_bag_of_words)):\n",
    "#     lst_val.append(abs(a-b))\n",
    "    if abs(a - b) < 0.05:\n",
    "        lst_val.append(i)"
   ]
  },
  {
   "cell_type": "code",
   "execution_count": 451,
   "metadata": {},
   "outputs": [
    {
     "data": {
      "text/plain": [
       "[28, 39, 43, 72, 93, 97, 108, 133, 139, 140]"
      ]
     },
     "execution_count": 451,
     "metadata": {},
     "output_type": "execute_result"
    }
   ],
   "source": [
    "lst_val[:10]"
   ]
  },
  {
   "cell_type": "code",
   "execution_count": 452,
   "metadata": {},
   "outputs": [
    {
     "data": {
      "text/plain": [
       "subreddit                                              DebateEvolution\n",
       "id                                                              bozn7h\n",
       "author                                                  Joseph_Ratliff\n",
       "author_flair_text                                                  NaN\n",
       "author_fullname                                               t2_nd6ws\n",
       "domain                                                   claremont.org\n",
       "link_flair_text                                                    NaN\n",
       "title                                                 Giving Up Darwin\n",
       "selftext                                                           NaN\n",
       "num_comments                                                         2\n",
       "created_utc                                                 1557935663\n",
       "full_link            https://www.reddit.com/r/DebateEvolution/comme...\n",
       "prediction                                                    creation\n",
       "Name: 404, dtype: object"
      ]
     },
     "execution_count": 452,
     "metadata": {},
     "output_type": "execute_result"
    }
   ],
   "source": [
    "row = 404\n",
    "debevo_sub_df.loc[row,:]"
   ]
  },
  {
   "cell_type": "code",
   "execution_count": 453,
   "metadata": {},
   "outputs": [
    {
     "data": {
      "text/plain": [
       "'https://www.reddit.com/r/DebateEvolution/comments/bozn7h/giving_up_darwin/'"
      ]
     },
     "execution_count": 453,
     "metadata": {},
     "output_type": "execute_result"
    }
   ],
   "source": [
    "debevo_sub_df[\"full_link\"][row]"
   ]
  },
  {
   "cell_type": "markdown",
   "metadata": {},
   "source": [
    "   NEXT --> [Page 2](./Page_2.ipynb)"
   ]
  }
 ],
 "metadata": {
  "kernelspec": {
   "display_name": "Python 3",
   "language": "python",
   "name": "python3"
  },
  "language_info": {
   "codemirror_mode": {
    "name": "ipython",
    "version": 3
   },
   "file_extension": ".py",
   "mimetype": "text/x-python",
   "name": "python",
   "nbconvert_exporter": "python",
   "pygments_lexer": "ipython3",
   "version": "3.7.4"
  }
 },
 "nbformat": 4,
 "nbformat_minor": 2
}
